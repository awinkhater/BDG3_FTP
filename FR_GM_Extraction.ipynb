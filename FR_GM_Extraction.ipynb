{
 "cells": [
  {
   "cell_type": "code",
   "execution_count": 1,
   "id": "20b13c0d",
   "metadata": {},
   "outputs": [],
   "source": [
    "import pandas as pd"
   ]
  },
  {
   "cell_type": "code",
   "execution_count": 2,
   "id": "014aa5e3",
   "metadata": {},
   "outputs": [],
   "source": [
    "#GERMANY OG DATA\n",
    "OG_GERM=r\"C:\\Users\\alexw\\Desktop\\BDG3_FTP\\Group_Assignment\\Deutschland_Cities.csv\"\n",
    "dfG=pd.read_csv(OG_GERM)"
   ]
  },
  {
   "cell_type": "code",
   "execution_count": 3,
   "id": "43e41b63",
   "metadata": {},
   "outputs": [
    {
     "data": {
      "text/html": [
       "<div>\n",
       "<style scoped>\n",
       "    .dataframe tbody tr th:only-of-type {\n",
       "        vertical-align: middle;\n",
       "    }\n",
       "\n",
       "    .dataframe tbody tr th {\n",
       "        vertical-align: top;\n",
       "    }\n",
       "\n",
       "    .dataframe thead th {\n",
       "        text-align: right;\n",
       "    }\n",
       "</style>\n",
       "<table border=\"1\" class=\"dataframe\">\n",
       "  <thead>\n",
       "    <tr style=\"text-align: right;\">\n",
       "      <th></th>\n",
       "      <th>city</th>\n",
       "      <th>lat</th>\n",
       "      <th>lng</th>\n",
       "      <th>country</th>\n",
       "      <th>iso2</th>\n",
       "      <th>admin_name</th>\n",
       "      <th>capital</th>\n",
       "      <th>population</th>\n",
       "      <th>population_proper</th>\n",
       "    </tr>\n",
       "  </thead>\n",
       "  <tbody>\n",
       "    <tr>\n",
       "      <th>0</th>\n",
       "      <td>Berlin</td>\n",
       "      <td>52.5167</td>\n",
       "      <td>13.3833</td>\n",
       "      <td>Germany</td>\n",
       "      <td>DE</td>\n",
       "      <td>Berlin</td>\n",
       "      <td>primary</td>\n",
       "      <td>3644826.0</td>\n",
       "      <td>3644826.0</td>\n",
       "    </tr>\n",
       "    <tr>\n",
       "      <th>1</th>\n",
       "      <td>Hamburg</td>\n",
       "      <td>53.5500</td>\n",
       "      <td>10.0000</td>\n",
       "      <td>Germany</td>\n",
       "      <td>DE</td>\n",
       "      <td>Hamburg</td>\n",
       "      <td>admin</td>\n",
       "      <td>1841179.0</td>\n",
       "      <td>1841179.0</td>\n",
       "    </tr>\n",
       "    <tr>\n",
       "      <th>2</th>\n",
       "      <td>Munich</td>\n",
       "      <td>48.1372</td>\n",
       "      <td>11.5755</td>\n",
       "      <td>Germany</td>\n",
       "      <td>DE</td>\n",
       "      <td>Bavaria</td>\n",
       "      <td>admin</td>\n",
       "      <td>1471508.0</td>\n",
       "      <td>1471508.0</td>\n",
       "    </tr>\n",
       "    <tr>\n",
       "      <th>3</th>\n",
       "      <td>Cologne</td>\n",
       "      <td>50.9422</td>\n",
       "      <td>6.9578</td>\n",
       "      <td>Germany</td>\n",
       "      <td>DE</td>\n",
       "      <td>North Rhine-Westphalia</td>\n",
       "      <td>NaN</td>\n",
       "      <td>1085664.0</td>\n",
       "      <td>1085664.0</td>\n",
       "    </tr>\n",
       "    <tr>\n",
       "      <th>4</th>\n",
       "      <td>Frankfurt</td>\n",
       "      <td>50.1136</td>\n",
       "      <td>8.6797</td>\n",
       "      <td>Germany</td>\n",
       "      <td>DE</td>\n",
       "      <td>Hesse</td>\n",
       "      <td>minor</td>\n",
       "      <td>753056.0</td>\n",
       "      <td>753056.0</td>\n",
       "    </tr>\n",
       "  </tbody>\n",
       "</table>\n",
       "</div>"
      ],
      "text/plain": [
       "        city      lat      lng  country iso2              admin_name  capital  \\\n",
       "0     Berlin  52.5167  13.3833  Germany   DE                  Berlin  primary   \n",
       "1    Hamburg  53.5500  10.0000  Germany   DE                 Hamburg    admin   \n",
       "2     Munich  48.1372  11.5755  Germany   DE                 Bavaria    admin   \n",
       "3    Cologne  50.9422   6.9578  Germany   DE  North Rhine-Westphalia      NaN   \n",
       "4  Frankfurt  50.1136   8.6797  Germany   DE                   Hesse    minor   \n",
       "\n",
       "   population  population_proper  \n",
       "0   3644826.0          3644826.0  \n",
       "1   1841179.0          1841179.0  \n",
       "2   1471508.0          1471508.0  \n",
       "3   1085664.0          1085664.0  \n",
       "4    753056.0           753056.0  "
      ]
     },
     "execution_count": 3,
     "metadata": {},
     "output_type": "execute_result"
    }
   ],
   "source": [
    "dfG.head()"
   ]
  },
  {
   "cell_type": "code",
   "execution_count": 17,
   "id": "6d7dbc24",
   "metadata": {},
   "outputs": [],
   "source": [
    "filtered_dfG = dfG[['city', 'population']]\n",
    "\n",
    "# Save the filtered DataFrame to a new CSV file\n",
    "filtered_dfG.to_csv('OG_German_Cities.csv', index=False)"
   ]
  },
  {
   "cell_type": "code",
   "execution_count": 23,
   "id": "eef05c4c",
   "metadata": {},
   "outputs": [],
   "source": [
    "#FRANCE OG DATA: MUCH MESSIER\n",
    "OG_FRANCE_PATH=r\"C:\\Users\\alexw\\Desktop\\BDG3_FTP\\Group_Assignment\\villes.csv\"\n",
    "dfF=pd.read_csv(OG_FRANCE_PATH)"
   ]
  },
  {
   "cell_type": "code",
   "execution_count": 24,
   "id": "cc9f3fa7",
   "metadata": {},
   "outputs": [
    {
     "name": "stdout",
     "output_type": "stream",
     "text": [
      "Index([';Postal Code;x;y;iseecode;place;population;surface;altitude'], dtype='object')\n"
     ]
    }
   ],
   "source": [
    "print(dfF.columns)"
   ]
  },
  {
   "cell_type": "code",
   "execution_count": 26,
   "id": "97494bff",
   "metadata": {},
   "outputs": [],
   "source": [
    "dfF['cities'] = dfF[';Postal Code;x;y;iseecode;place;population;surface;altitude'].apply(lambda x: x.split(';')[5])\n",
    "\n",
    "C_dfF=dfF[['cities']]\n",
    "\n"
   ]
  },
  {
   "cell_type": "code",
   "execution_count": 31,
   "id": "28db49ee",
   "metadata": {},
   "outputs": [],
   "source": [
    "import numpy as np\n",
    "\n",
    "# Assuming C_dfF is your DataFrame\n",
    "\n",
    "# Generate random population values between 50 and 2,799,999\n",
    "C_dfF['population'] = np.random.randint(50, 2800000, size=len(C_dfF))\n",
    "\n",
    "\n",
    "# # Save the DataFrame to a new CSV file\n",
    "C_dfF.to_csv('OG_French_Cities.csv', index=False)"
   ]
  },
  {
   "cell_type": "code",
   "execution_count": null,
   "id": "014f4879",
   "metadata": {},
   "outputs": [],
   "source": []
  }
 ],
 "metadata": {
  "kernelspec": {
   "display_name": "Python 3 (ipykernel)",
   "language": "python",
   "name": "python3"
  },
  "language_info": {
   "codemirror_mode": {
    "name": "ipython",
    "version": 3
   },
   "file_extension": ".py",
   "mimetype": "text/x-python",
   "name": "python",
   "nbconvert_exporter": "python",
   "pygments_lexer": "ipython3",
   "version": "3.11.5"
  }
 },
 "nbformat": 4,
 "nbformat_minor": 5
}

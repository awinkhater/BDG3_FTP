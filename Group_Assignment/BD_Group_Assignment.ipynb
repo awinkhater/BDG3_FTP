{
 "cells": [
  {
   "cell_type": "code",
   "execution_count": 18,
   "id": "81e612ce",
   "metadata": {},
   "outputs": [],
   "source": [
    "from pyspark.sql.functions import col, lit, expr, when, to_timestamp\n",
    "from pyspark.sql.types import *\n",
    "from datetime import datetime\n",
    "import time\n",
    "import pyspark\n",
    "from pyspark.sql import SparkSession\n",
    "import random\n",
    "import string\n",
    "import pandas as pd"
   ]
  },
  {
   "cell_type": "code",
   "execution_count": 11,
   "id": "ddee28e3",
   "metadata": {},
   "outputs": [],
   "source": [
    "##+===========================================================SET DATASETLENGTH HERE!!!\n",
    "DataLength=2000"
   ]
  },
  {
   "cell_type": "code",
   "execution_count": 20,
   "id": "28a9327d",
   "metadata": {},
   "outputs": [],
   "source": [
    "#ORIGINAL DATASETS\n",
    "#German Cities Data\n",
    "german_cities_data = {\n",
    "    \"CityID\": [1, 2, 3, 4, 5],\n",
    "    \"CityName\": [\"Berlin\", \"Hamburg\", \"Munich\", \"Cologne\", \"Frankfurt\"],\n",
    "    \"Population\": [3520000, 1790000, 1450000, 1060000, 733000],\n",
    "    \"Area\": [891.3, 755.2, 310.7, 405.15, 500],\n",
    "    \"CulturalSites\": [7, 6, 3, 5, 3]  \n",
    "}\n",
    "\n",
    "# French Cities Data\n",
    "french_cities_data = {\n",
    "    \"CityID\": [1, 2, 3, 4, 5],\n",
    "    \"CityName\": [\"Paris\", \"Marseille\", \"Lyon\", \"Toulouse\", \"Nice\"],\n",
    "    \"Population\": [2250000, 851000, 491000, 447000, 344000],\n",
    "    \"Area\": [250, 240.6, 47.87, 118.3, 71.9],      \n",
    "    \"CulturalSites\": [7, 7, 1, 4, 3]\n",
    "}"
   ]
  },
  {
   "cell_type": "code",
   "execution_count": 21,
   "id": "77c073f9",
   "metadata": {},
   "outputs": [],
   "source": [
    "\n",
    "# Function to generate random city name\n",
    "def generate_city_name(length):\n",
    "    letters = string.ascii_letters\n",
    "    return ''.join(random.choice(letters) for i in range(length))\n",
    "\n",
    "# Function to generate random data for cities\n",
    "def generate_city_data(num_cities):\n",
    "    cities_data = []\n",
    "    for i in range(num_cities):\n",
    "        city_name = generate_city_name(random.randint(4, 6))\n",
    "        population = random.randint(350, 5000000)\n",
    "        area = round(random.uniform(170, 5000), 2)\n",
    "        tourist_visits = random.randint(3000000, 6000000)\n",
    "        cultural_sites = random.randint(2, 7)\n",
    "        cities_data.append({\n",
    "            \"CityID\": i + 1,\n",
    "            \"CityName\": city_name,\n",
    "            \"Population\": population,\n",
    "            \"Area\": area,\n",
    "            \"TouristVisits\": tourist_visits,\n",
    "            \"CulturalSites\": cultural_sites\n",
    "        })\n",
    "    return cities_data\n",
    "\n"
   ]
  },
  {
   "cell_type": "code",
   "execution_count": 22,
   "id": "2ada3f00",
   "metadata": {},
   "outputs": [],
   "source": [
    "# Augment German cities data\n",
    "german_cities_augmented = german_cities_data.copy()\n",
    "german_cities_augmented[\"CityID\"].extend(range(6, 2006))\n",
    "german_cities_augmented[\"CityName\"].extend([city_data[\"CityName\"] for city_data in generate_city_data(2000)])\n",
    "german_cities_augmented[\"Population\"].extend([city_data[\"Population\"] for city_data in generate_city_data(2000)])\n",
    "german_cities_augmented[\"Area\"].extend([city_data[\"Area\"] for city_data in generate_city_data(2000)])\n",
    "german_cities_augmented[\"CulturalSites\"].extend([city_data[\"CulturalSites\"] for city_data in generate_city_data(2000)])\n",
    "\n",
    "# Augment French cities data\n",
    "french_cities_augmented = french_cities_data.copy()\n",
    "french_cities_augmented[\"CityID\"].extend(range(6, 2006))\n",
    "french_cities_augmented[\"CityName\"].extend([city_data[\"CityName\"] for city_data in generate_city_data(2000)])\n",
    "french_cities_augmented[\"Population\"].extend([city_data[\"Population\"] for city_data in generate_city_data(2000)])\n",
    "french_cities_augmented[\"Area\"].extend([city_data[\"Area\"] for city_data in generate_city_data(2000)])\n",
    "french_cities_augmented[\"CulturalSites\"].extend([city_data[\"CulturalSites\"] for city_data in generate_city_data(2000)])\n"
   ]
  },
  {
   "cell_type": "code",
   "execution_count": 23,
   "id": "deb1f21d",
   "metadata": {},
   "outputs": [],
   "source": [
    "#MAKE DATAFRAMES# Create DataFrames\n",
    "df_german_cities = pd.DataFrame(german_cities_data)\n",
    "df_french_cities = pd.DataFrame(french_cities_data)\n",
    "\n",
    "# # Save to CSV files\n",
    "# df_german_cities.to_csv('german_cities.csv', index=False)\n",
    "# df_french_cities.to_csv('french_cities.csv', index=False) "
   ]
  },
  {
   "cell_type": "code",
   "execution_count": null,
   "id": "88aff586",
   "metadata": {},
   "outputs": [],
   "source": []
  }
 ],
 "metadata": {
  "kernelspec": {
   "display_name": "Python 3 (ipykernel)",
   "language": "python",
   "name": "python3"
  },
  "language_info": {
   "codemirror_mode": {
    "name": "ipython",
    "version": 3
   },
   "file_extension": ".py",
   "mimetype": "text/x-python",
   "name": "python",
   "nbconvert_exporter": "python",
   "pygments_lexer": "ipython3",
   "version": "3.11.5"
  }
 },
 "nbformat": 4,
 "nbformat_minor": 5
}

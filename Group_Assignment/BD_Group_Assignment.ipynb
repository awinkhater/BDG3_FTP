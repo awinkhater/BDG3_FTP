{
 "cells": [
  {
   "cell_type": "code",
   "execution_count": 3,
   "id": "81e612ce",
   "metadata": {},
   "outputs": [],
   "source": [
    "#Where we Import \n",
    "from pyspark.sql.functions import col, lit, expr, when, to_timestamp\n",
    "from pyspark.sql.types import *\n",
    "from datetime import datetime\n",
    "import time\n",
    "import pyspark\n",
    "from pyspark.sql import SparkSession\n",
    "import random\n",
    "import string\n",
    "import pandas as pd\n",
    "from pyspark.sql.functions import avg\n",
    "import plotly.express as px\n"
   ]
  },
  {
   "cell_type": "code",
   "execution_count": 4,
   "id": "ddee28e3",
   "metadata": {},
   "outputs": [],
   "source": [
    "##+===========================================================SET DATASETLENGTH HERE!!!\n",
    "DataLength=1000000"
   ]
  },
  {
   "cell_type": "code",
   "execution_count": 3,
   "id": "28a9327d",
   "metadata": {},
   "outputs": [],
   "source": [
    "#ORIGINAL DATASETS\n",
    "#German Cities Data\n",
    "german_cities_data = {\n",
    "    \"CityID\": [1, 2, 3, 4, 5],\n",
    "    \"CityName\": [\"Berlin\", \"Hamburg\", \"Munich\", \"Cologne\", \"Frankfurt\"],\n",
    "    \"Population\": [3520000, 1790000, 1450000, 1060000, 733000],\n",
    "    \"Area\": [891.3, 755.2, 310.7, 405.15, 500],\n",
    "    \"CulturalSites\": [7, 6, 3, 5, 3]  \n",
    "}\n",
    "\n",
    "# French Cities Data\n",
    "french_cities_data = {\n",
    "    \"CityID\": [1, 2, 3, 4, 5],\n",
    "    \"CityName\": [\"Paris\", \"Marseille\", \"Lyon\", \"Toulouse\", \"Nice\"],\n",
    "    \"Population\": [2250000, 851000, 491000, 447000, 344000],\n",
    "    \"Area\": [250, 240.6, 47.87, 118.3, 71.9],      \n",
    "    \"CulturalSites\": [7, 7, 1, 4, 3]\n",
    "}"
   ]
  },
  {
   "cell_type": "code",
   "execution_count": 4,
   "id": "77c073f9",
   "metadata": {},
   "outputs": [],
   "source": [
    "\n",
    "# Function to generate random city name\n",
    "def generate_city_name(length):\n",
    "    letters = string.ascii_letters\n",
    "    return ''.join(random.choice(letters) for i in range(length))\n",
    "\n",
    "# Function to generate random data for cities\n",
    "def generate_city_data(num_cities):\n",
    "    cities_data = []\n",
    "    for i in range(num_cities):\n",
    "        city_name = generate_city_name(random.randint(4, 6))\n",
    "        population = random.randint(350, 5000000)\n",
    "        area = round(random.uniform(170, 5000), 2)\n",
    "        tourist_visits = random.randint(3000000, 6000000)\n",
    "        cultural_sites = random.randint(2, 7)\n",
    "        cities_data.append({\n",
    "            \"CityID\": i + 1,\n",
    "            \"CityName\": city_name,\n",
    "            \"Population\": population,\n",
    "            \"Area\": area,\n",
    "            \"TouristVisits\": tourist_visits,\n",
    "            \"CulturalSites\": cultural_sites\n",
    "        })\n",
    "    return cities_data\n",
    "\n"
   ]
  },
  {
   "cell_type": "code",
   "execution_count": 5,
   "id": "2ada3f00",
   "metadata": {},
   "outputs": [],
   "source": [
    "# # Augment premade German cities data\n",
    "#This all just adds the random data to the premade dataframes\n",
    "# german_cities_augmented = german_cities_data.copy()\n",
    "# german_cities_augmented[\"CityID\"].extend(range(6, DataLength+6))\n",
    "# german_cities_augmented[\"CityName\"].extend([city_data[\"CityName\"] for city_data in generate_city_data(DataLength)])\n",
    "# german_cities_augmented[\"Population\"].extend([city_data[\"Population\"] for city_data in generate_city_data(DataLength)])\n",
    "# german_cities_augmented[\"Area\"].extend([city_data[\"Area\"] for city_data in generate_city_data(DataLength)])\n",
    "# german_cities_augmented[\"CulturalSites\"].extend([city_data[\"CulturalSites\"] for city_data in generate_city_data(DataLength)])\n",
    "\n",
    "# # Augment premade French cities data\n",
    "# french_cities_augmented = french_cities_data.copy()\n",
    "# french_cities_augmented[\"CityID\"].extend(range(6, DataLength+6))\n",
    "# french_cities_augmented[\"CityName\"].extend([city_data[\"CityName\"] for city_data in generate_city_data(DataLength)])\n",
    "# french_cities_augmented[\"Population\"].extend([city_data[\"Population\"] for city_data in generate_city_data(DataLength)])\n",
    "# french_cities_augmented[\"Area\"].extend([city_data[\"Area\"] for city_data in generate_city_data(DataLength)])\n",
    "# french_cities_augmented[\"CulturalSites\"].extend([city_data[\"CulturalSites\"] for city_data in generate_city_data(DataLength)])\n"
   ]
  },
  {
   "cell_type": "code",
   "execution_count": 6,
   "id": "8192c044",
   "metadata": {},
   "outputs": [],
   "source": [
    "# #MAKE DATAFRAMES using pandas \n",
    "# df_german_cities = pd.DataFrame(german_cities_data)\n",
    "# df_french_cities = pd.DataFrame(french_cities_data)"
   ]
  },
  {
   "cell_type": "code",
   "execution_count": 7,
   "id": "deb1f21d",
   "metadata": {},
   "outputs": [],
   "source": [
    "# # Save to CSV files: ===================== !GRADER YOU WILL NEED TO UNCOMMENT THIS TO RUN CODE ON YOUR MACHINE!\n",
    "\n",
    "# df_german_cities.to_csv('german_cities.csv', index=False)\n",
    "# df_french_cities.to_csv('french_cities.csv', index=False) "
   ]
  },
  {
   "cell_type": "code",
   "execution_count": 5,
   "id": "0bbf5a70",
   "metadata": {},
   "outputs": [],
   "source": [
    "#Calling the paths to the saved Dataframes\n",
    "frenchpath=r\"french_cities.csv\"\n",
    "Germpath=r\"german_cities.csv\""
   ]
  },
  {
   "cell_type": "code",
   "execution_count": 6,
   "id": "fd712070",
   "metadata": {},
   "outputs": [],
   "source": [
    "#Establishing A spark Session\n",
    "spark = SparkSession.builder \\\n",
    "    .appName(\"Assignment 1\") \\\n",
    "    .getOrCreate()"
   ]
  },
  {
   "cell_type": "code",
   "execution_count": 7,
   "id": "f510da6e",
   "metadata": {},
   "outputs": [],
   "source": [
    "#This will set and apply a schema for the French Cities dataset\n",
    "F_schema = StructType([\n",
    "    StructField(\"CityID\", IntegerType(), nullable=False),\n",
    "    StructField(\"CityName\", StringType(), nullable=False),\n",
    "    StructField(\"Population\", IntegerType(), nullable=False),\n",
    "    StructField(\"Area\", DoubleType(), nullable=False),\n",
    "    StructField(\"CulturalSites\", IntegerType(), nullable=False)\n",
    "])\n",
    "\n",
    "french_cities = spark.read.format(\"csv\").load(frenchpath, schema=F_schema)"
   ]
  },
  {
   "cell_type": "code",
   "execution_count": 8,
   "id": "94b84741",
   "metadata": {},
   "outputs": [],
   "source": [
    "#This will set a schema for the German Cities Dataset\n",
    "G_schema = StructType([\n",
    "    StructField(\"CityID\", IntegerType(), nullable=False),\n",
    "    StructField(\"CityName\", StringType(), nullable=False),\n",
    "    StructField(\"Population\", IntegerType(), nullable=False),\n",
    "    StructField(\"Area\", DoubleType(), nullable=False),\n",
    "    StructField(\"CulturalSites\", IntegerType(), nullable=False)\n",
    "])\n",
    "\n",
    "german_cities = spark.read.format(\"csv\").load(Germpath, schema=G_schema)"
   ]
  },
  {
   "cell_type": "code",
   "execution_count": 9,
   "id": "88aff586",
   "metadata": {},
   "outputs": [],
   "source": [
    "#This is just to drop the first row of each dataframe which for some reason is just the column names and null values\n",
    "german_cities=german_cities.dropna()\n",
    "french_cities=french_cities.dropna()"
   ]
  },
  {
   "cell_type": "code",
   "execution_count": 10,
   "id": "904d7499",
   "metadata": {},
   "outputs": [
    {
     "name": "stdout",
     "output_type": "stream",
     "text": [
      "+--------+-------+----------+\n",
      "|CityName|   Area|Population|\n",
      "+--------+-------+----------+\n",
      "|    Brpk| 5000.0|    191432|\n",
      "|  cBgzzc|4999.98|   1289866|\n",
      "|  AteeRA|4999.98|   1671934|\n",
      "|    MAqq|4999.98|   3186545|\n",
      "|    ZimV|4999.98|   3390964|\n",
      "|  fKfxif|4999.96|   1210617|\n",
      "|    Iuww|4999.95|   2500533|\n",
      "|   HpzNW|4999.95|   3627489|\n",
      "|  HYUuaO|4999.94|   2027121|\n",
      "|   foZww|4999.94|   4023043|\n",
      "|   BCEeu|4999.94|    939649|\n",
      "|    drFn|4999.94|   4974197|\n",
      "|    Mycw|4999.93|   3362677|\n",
      "|   tnOVK|4999.92|   1104528|\n",
      "|    ENaA|4999.92|   2308746|\n",
      "|   CJowj|4999.91|   3651452|\n",
      "|  sVBbsm|4999.91|   4239354|\n",
      "|  qIObjO| 4999.9|   2416419|\n",
      "|   cwoBa|4999.89|   3540298|\n",
      "|   eUZMg|4999.89|   2817431|\n",
      "+--------+-------+----------+\n",
      "only showing top 20 rows\n",
      "\n",
      "+--------+-------+----------+\n",
      "|CityName|   Area|Population|\n",
      "+--------+-------+----------+\n",
      "|    NNzT| 5000.0|   3565660|\n",
      "|   KThrN| 5000.0|   4646191|\n",
      "|  GbmkVy| 5000.0|    185132|\n",
      "|    DkIJ|4999.98|   4201978|\n",
      "|  awYDYU|4999.98|    580237|\n",
      "|  duXZXo|4999.98|   1342306|\n",
      "|   zdbHU|4999.97|   3510437|\n",
      "|   MLClU|4999.96|   4136442|\n",
      "|   Fsmip|4999.95|   2924149|\n",
      "|   UwSme|4999.95|    993887|\n",
      "|  yrnqFV|4999.95|   1593418|\n",
      "|    KwQn|4999.95|   2297543|\n",
      "|   SsZnJ|4999.94|    599212|\n",
      "|   elAhO|4999.93|    602479|\n",
      "|  diPLFA|4999.92|   4330032|\n",
      "|    EXkW|4999.92|   3549439|\n",
      "|    xQqX|4999.92|   3462839|\n",
      "|   uyaIu|4999.92|   1391896|\n",
      "|   kfuiv|4999.91|   2225091|\n",
      "|  Hdexkd| 4999.9|   3582916|\n",
      "+--------+-------+----------+\n",
      "only showing top 20 rows\n",
      "\n"
     ]
    }
   ],
   "source": [
    "#ALEX Q2\n",
    "#Pyspark Dataframe Operation\n",
    "#Here we are selecting both data frames and ordering them by area. \n",
    "#We can see French cities are a bit larger by area\n",
    "germ_city_sizes = german_cities.select(\"CityName\", \"Area\", \"Population\").orderBy(col(\"Area\").desc()).show()\n",
    "french_city_sizes = french_cities.select(\"CityName\", \"Area\", \"Population\").orderBy(col(\"Area\").desc()).show()\n",
    "#============================================"
   ]
  },
  {
   "cell_type": "code",
   "execution_count": 11,
   "id": "e133ec0a",
   "metadata": {},
   "outputs": [
    {
     "ename": "Py4JError",
     "evalue": "An error occurred while calling o24.sql. Trace:\npy4j.Py4JException: Method sql([class java.lang.String, class [Ljava.lang.Object;]) does not exist\r\n\tat py4j.reflection.ReflectionEngine.getMethod(ReflectionEngine.java:318)\r\n\tat py4j.reflection.ReflectionEngine.getMethod(ReflectionEngine.java:326)\r\n\tat py4j.Gateway.invoke(Gateway.java:274)\r\n\tat py4j.commands.AbstractCommand.invokeMethod(AbstractCommand.java:132)\r\n\tat py4j.commands.CallCommand.execute(CallCommand.java:79)\r\n\tat py4j.ClientServerConnection.waitForCommands(ClientServerConnection.java:182)\r\n\tat py4j.ClientServerConnection.run(ClientServerConnection.java:106)\r\n\tat java.base/java.lang.Thread.run(Thread.java:833)\r\n\n",
     "output_type": "error",
     "traceback": [
      "\u001b[1;31m---------------------------------------------------------------------------\u001b[0m",
      "\u001b[1;31mPy4JError\u001b[0m                                 Traceback (most recent call last)",
      "Cell \u001b[1;32mIn[11], line 8\u001b[0m\n\u001b[0;32m      5\u001b[0m french_cities\u001b[38;5;241m.\u001b[39mcreateOrReplaceTempView(\u001b[38;5;124m\"\u001b[39m\u001b[38;5;124mfrench_cities\u001b[39m\u001b[38;5;124m\"\u001b[39m)\n\u001b[0;32m      7\u001b[0m \u001b[38;5;66;03m# German City Call\u001b[39;00m\n\u001b[1;32m----> 8\u001b[0m germ_city_sizes \u001b[38;5;241m=\u001b[39m \u001b[43mspark\u001b[49m\u001b[38;5;241;43m.\u001b[39;49m\u001b[43msql\u001b[49m\u001b[43m(\u001b[49m\u001b[38;5;124;43m\"\"\"\u001b[39;49m\n\u001b[0;32m      9\u001b[0m \u001b[38;5;124;43m    \u001b[39;49m\n\u001b[0;32m     10\u001b[0m \u001b[38;5;124;43m    SELECT CityName, Area, Population \u001b[39;49m\n\u001b[0;32m     11\u001b[0m \u001b[38;5;124;43m    FROM german_cities \u001b[39;49m\n\u001b[0;32m     12\u001b[0m \u001b[38;5;124;43m    ORDER BY Area DESC\u001b[39;49m\n\u001b[0;32m     13\u001b[0m \n\u001b[0;32m     14\u001b[0m \u001b[38;5;124;43m\"\"\"\u001b[39;49m\u001b[43m)\u001b[49m\n\u001b[0;32m     15\u001b[0m germ_city_sizes\u001b[38;5;241m.\u001b[39mshow()\n\u001b[0;32m     17\u001b[0m \u001b[38;5;66;03m#French City Call\u001b[39;00m\n",
      "File \u001b[1;32mc:\\Users\\pjk\\AppData\\Local\\Programs\\Python\\Python310\\lib\\site-packages\\pyspark\\sql\\session.py:1631\u001b[0m, in \u001b[0;36mSparkSession.sql\u001b[1;34m(self, sqlQuery, args, **kwargs)\u001b[0m\n\u001b[0;32m   1627\u001b[0m         \u001b[38;5;28;01massert\u001b[39;00m \u001b[38;5;28mself\u001b[39m\u001b[38;5;241m.\u001b[39m_jvm \u001b[38;5;129;01mis\u001b[39;00m \u001b[38;5;129;01mnot\u001b[39;00m \u001b[38;5;28;01mNone\u001b[39;00m\n\u001b[0;32m   1628\u001b[0m         litArgs \u001b[38;5;241m=\u001b[39m \u001b[38;5;28mself\u001b[39m\u001b[38;5;241m.\u001b[39m_jvm\u001b[38;5;241m.\u001b[39mPythonUtils\u001b[38;5;241m.\u001b[39mtoArray(\n\u001b[0;32m   1629\u001b[0m             [_to_java_column(lit(v)) \u001b[38;5;28;01mfor\u001b[39;00m v \u001b[38;5;129;01min\u001b[39;00m (args \u001b[38;5;129;01mor\u001b[39;00m [])]\n\u001b[0;32m   1630\u001b[0m         )\n\u001b[1;32m-> 1631\u001b[0m     \u001b[38;5;28;01mreturn\u001b[39;00m DataFrame(\u001b[38;5;28;43mself\u001b[39;49m\u001b[38;5;241;43m.\u001b[39;49m\u001b[43m_jsparkSession\u001b[49m\u001b[38;5;241;43m.\u001b[39;49m\u001b[43msql\u001b[49m\u001b[43m(\u001b[49m\u001b[43msqlQuery\u001b[49m\u001b[43m,\u001b[49m\u001b[43m \u001b[49m\u001b[43mlitArgs\u001b[49m\u001b[43m)\u001b[49m, \u001b[38;5;28mself\u001b[39m)\n\u001b[0;32m   1632\u001b[0m \u001b[38;5;28;01mfinally\u001b[39;00m:\n\u001b[0;32m   1633\u001b[0m     \u001b[38;5;28;01mif\u001b[39;00m \u001b[38;5;28mlen\u001b[39m(kwargs) \u001b[38;5;241m>\u001b[39m \u001b[38;5;241m0\u001b[39m:\n",
      "File \u001b[1;32mc:\\Users\\pjk\\AppData\\Local\\Programs\\Python\\Python310\\lib\\site-packages\\py4j\\java_gateway.py:1322\u001b[0m, in \u001b[0;36mJavaMember.__call__\u001b[1;34m(self, *args)\u001b[0m\n\u001b[0;32m   1316\u001b[0m command \u001b[38;5;241m=\u001b[39m proto\u001b[38;5;241m.\u001b[39mCALL_COMMAND_NAME \u001b[38;5;241m+\u001b[39m\\\n\u001b[0;32m   1317\u001b[0m     \u001b[38;5;28mself\u001b[39m\u001b[38;5;241m.\u001b[39mcommand_header \u001b[38;5;241m+\u001b[39m\\\n\u001b[0;32m   1318\u001b[0m     args_command \u001b[38;5;241m+\u001b[39m\\\n\u001b[0;32m   1319\u001b[0m     proto\u001b[38;5;241m.\u001b[39mEND_COMMAND_PART\n\u001b[0;32m   1321\u001b[0m answer \u001b[38;5;241m=\u001b[39m \u001b[38;5;28mself\u001b[39m\u001b[38;5;241m.\u001b[39mgateway_client\u001b[38;5;241m.\u001b[39msend_command(command)\n\u001b[1;32m-> 1322\u001b[0m return_value \u001b[38;5;241m=\u001b[39m \u001b[43mget_return_value\u001b[49m\u001b[43m(\u001b[49m\n\u001b[0;32m   1323\u001b[0m \u001b[43m    \u001b[49m\u001b[43manswer\u001b[49m\u001b[43m,\u001b[49m\u001b[43m \u001b[49m\u001b[38;5;28;43mself\u001b[39;49m\u001b[38;5;241;43m.\u001b[39;49m\u001b[43mgateway_client\u001b[49m\u001b[43m,\u001b[49m\u001b[43m \u001b[49m\u001b[38;5;28;43mself\u001b[39;49m\u001b[38;5;241;43m.\u001b[39;49m\u001b[43mtarget_id\u001b[49m\u001b[43m,\u001b[49m\u001b[43m \u001b[49m\u001b[38;5;28;43mself\u001b[39;49m\u001b[38;5;241;43m.\u001b[39;49m\u001b[43mname\u001b[49m\u001b[43m)\u001b[49m\n\u001b[0;32m   1325\u001b[0m \u001b[38;5;28;01mfor\u001b[39;00m temp_arg \u001b[38;5;129;01min\u001b[39;00m temp_args:\n\u001b[0;32m   1326\u001b[0m     \u001b[38;5;28;01mif\u001b[39;00m \u001b[38;5;28mhasattr\u001b[39m(temp_arg, \u001b[38;5;124m\"\u001b[39m\u001b[38;5;124m_detach\u001b[39m\u001b[38;5;124m\"\u001b[39m):\n",
      "File \u001b[1;32mc:\\Users\\pjk\\AppData\\Local\\Programs\\Python\\Python310\\lib\\site-packages\\pyspark\\errors\\exceptions\\captured.py:179\u001b[0m, in \u001b[0;36mcapture_sql_exception.<locals>.deco\u001b[1;34m(*a, **kw)\u001b[0m\n\u001b[0;32m    177\u001b[0m \u001b[38;5;28;01mdef\u001b[39;00m \u001b[38;5;21mdeco\u001b[39m(\u001b[38;5;241m*\u001b[39ma: Any, \u001b[38;5;241m*\u001b[39m\u001b[38;5;241m*\u001b[39mkw: Any) \u001b[38;5;241m-\u001b[39m\u001b[38;5;241m>\u001b[39m Any:\n\u001b[0;32m    178\u001b[0m     \u001b[38;5;28;01mtry\u001b[39;00m:\n\u001b[1;32m--> 179\u001b[0m         \u001b[38;5;28;01mreturn\u001b[39;00m f(\u001b[38;5;241m*\u001b[39ma, \u001b[38;5;241m*\u001b[39m\u001b[38;5;241m*\u001b[39mkw)\n\u001b[0;32m    180\u001b[0m     \u001b[38;5;28;01mexcept\u001b[39;00m Py4JJavaError \u001b[38;5;28;01mas\u001b[39;00m e:\n\u001b[0;32m    181\u001b[0m         converted \u001b[38;5;241m=\u001b[39m convert_exception(e\u001b[38;5;241m.\u001b[39mjava_exception)\n",
      "File \u001b[1;32mc:\\Users\\pjk\\AppData\\Local\\Programs\\Python\\Python310\\lib\\site-packages\\py4j\\protocol.py:330\u001b[0m, in \u001b[0;36mget_return_value\u001b[1;34m(answer, gateway_client, target_id, name)\u001b[0m\n\u001b[0;32m    326\u001b[0m         \u001b[38;5;28;01mraise\u001b[39;00m Py4JJavaError(\n\u001b[0;32m    327\u001b[0m             \u001b[38;5;124m\"\u001b[39m\u001b[38;5;124mAn error occurred while calling \u001b[39m\u001b[38;5;132;01m{0}\u001b[39;00m\u001b[38;5;132;01m{1}\u001b[39;00m\u001b[38;5;132;01m{2}\u001b[39;00m\u001b[38;5;124m.\u001b[39m\u001b[38;5;130;01m\\n\u001b[39;00m\u001b[38;5;124m\"\u001b[39m\u001b[38;5;241m.\u001b[39m\n\u001b[0;32m    328\u001b[0m             \u001b[38;5;28mformat\u001b[39m(target_id, \u001b[38;5;124m\"\u001b[39m\u001b[38;5;124m.\u001b[39m\u001b[38;5;124m\"\u001b[39m, name), value)\n\u001b[0;32m    329\u001b[0m     \u001b[38;5;28;01melse\u001b[39;00m:\n\u001b[1;32m--> 330\u001b[0m         \u001b[38;5;28;01mraise\u001b[39;00m Py4JError(\n\u001b[0;32m    331\u001b[0m             \u001b[38;5;124m\"\u001b[39m\u001b[38;5;124mAn error occurred while calling \u001b[39m\u001b[38;5;132;01m{0}\u001b[39;00m\u001b[38;5;132;01m{1}\u001b[39;00m\u001b[38;5;132;01m{2}\u001b[39;00m\u001b[38;5;124m. Trace:\u001b[39m\u001b[38;5;130;01m\\n\u001b[39;00m\u001b[38;5;132;01m{3}\u001b[39;00m\u001b[38;5;130;01m\\n\u001b[39;00m\u001b[38;5;124m\"\u001b[39m\u001b[38;5;241m.\u001b[39m\n\u001b[0;32m    332\u001b[0m             \u001b[38;5;28mformat\u001b[39m(target_id, \u001b[38;5;124m\"\u001b[39m\u001b[38;5;124m.\u001b[39m\u001b[38;5;124m\"\u001b[39m, name, value))\n\u001b[0;32m    333\u001b[0m \u001b[38;5;28;01melse\u001b[39;00m:\n\u001b[0;32m    334\u001b[0m     \u001b[38;5;28;01mraise\u001b[39;00m Py4JError(\n\u001b[0;32m    335\u001b[0m         \u001b[38;5;124m\"\u001b[39m\u001b[38;5;124mAn error occurred while calling \u001b[39m\u001b[38;5;132;01m{0}\u001b[39;00m\u001b[38;5;132;01m{1}\u001b[39;00m\u001b[38;5;132;01m{2}\u001b[39;00m\u001b[38;5;124m\"\u001b[39m\u001b[38;5;241m.\u001b[39m\n\u001b[0;32m    336\u001b[0m         \u001b[38;5;28mformat\u001b[39m(target_id, \u001b[38;5;124m\"\u001b[39m\u001b[38;5;124m.\u001b[39m\u001b[38;5;124m\"\u001b[39m, name))\n",
      "\u001b[1;31mPy4JError\u001b[0m: An error occurred while calling o24.sql. Trace:\npy4j.Py4JException: Method sql([class java.lang.String, class [Ljava.lang.Object;]) does not exist\r\n\tat py4j.reflection.ReflectionEngine.getMethod(ReflectionEngine.java:318)\r\n\tat py4j.reflection.ReflectionEngine.getMethod(ReflectionEngine.java:326)\r\n\tat py4j.Gateway.invoke(Gateway.java:274)\r\n\tat py4j.commands.AbstractCommand.invokeMethod(AbstractCommand.java:132)\r\n\tat py4j.commands.CallCommand.execute(CallCommand.java:79)\r\n\tat py4j.ClientServerConnection.waitForCommands(ClientServerConnection.java:182)\r\n\tat py4j.ClientServerConnection.run(ClientServerConnection.java:106)\r\n\tat java.base/java.lang.Thread.run(Thread.java:833)\r\n\n"
     ]
    }
   ],
   "source": [
    "#Alex Q2\n",
    "#SQL Version\n",
    "#Making temp views so I can use SQL\n",
    "german_cities.createOrReplaceTempView(\"german_cities\")\n",
    "french_cities.createOrReplaceTempView(\"french_cities\")\n",
    "\n",
    "# German City Call\n",
    "germ_city_sizes = spark.sql(\"\"\"\n",
    "    \n",
    "    SELECT CityName, Area, Population \n",
    "    FROM german_cities \n",
    "    ORDER BY Area DESC\n",
    "\n",
    "\"\"\")\n",
    "germ_city_sizes.show()\n",
    "\n",
    "#French City Call\n",
    "french_city_sizes = spark.sql(\"\"\"\n",
    "    \n",
    "    SELECT CityName, Area, Population \n",
    "    FROM french_cities \n",
    "    ORDER BY Area DESC\n",
    "\n",
    "\"\"\")\n",
    "\n",
    "# Show the result for French cities\n",
    "french_city_sizes.show()"
   ]
  },
  {
   "cell_type": "code",
   "execution_count": null,
   "id": "1ec47e23",
   "metadata": {},
   "outputs": [],
   "source": [
    "#q3 paul\n",
    "\n",
    "from pyspark.sql.functions import sum, avg, min, max, count\n",
    "\n",
    "#pyspark solutions\n",
    "print(\"PySpark Solutions:\")\n",
    "\n",
    "#aggregate for german cities\n",
    "germany_agg = german_cities.agg(sum(\"Population\").alias(\"TotalPopulation\"),\n",
    "                                 avg(\"Area\").alias(\"AverageArea\"),\n",
    "                                 min(\"Population\").alias(\"MinPopulation\"),\n",
    "                                 max(\"Population\").alias(\"MaxPopulation\"),\n",
    "                                 count(\"CityID\").alias(\"CityCount\"))\n",
    "germany_agg.show()\n",
    "\n",
    "#aggregate for french cities\n",
    "france_agg = french_cities.agg(sum(\"Population\").alias(\"TotalPopulation\"),\n",
    "                               avg(\"Area\").alias(\"AverageArea\"),\n",
    "                               min(\"Population\").alias(\"MinPopulation\"),\n",
    "                               max(\"Population\").alias(\"MaxPopulation\"),\n",
    "                               count(\"CityID\").alias(\"CityCount\"))\n",
    "france_agg.show()\n",
    "\n",
    "#sql solutions\n",
    "print(\"\\nSQL Solutions:\")\n",
    "\n",
    "#aggregate for german cities\n",
    "germany_agg_sql = spark.sql(\"\"\"\n",
    "    SELECT SUM(Population) AS TotalPopulation,\n",
    "           AVG(Area) AS AverageArea,\n",
    "           MIN(Population) AS MinPopulation,\n",
    "           MAX(Population) AS MaxPopulation,\n",
    "           COUNT(CityID) AS CityCount\n",
    "    FROM german_cities\n",
    "\"\"\")\n",
    "germany_agg_sql.show()\n",
    "\n",
    "#aggregate for french cities\n",
    "france_agg_sql = spark.sql(\"\"\"\n",
    "    SELECT SUM(Population) AS TotalPopulation,\n",
    "           AVG(Area) AS AverageArea,\n",
    "           MIN(Population) AS MinPopulation,\n",
    "           MAX(Population) AS MaxPopulation,\n",
    "           COUNT(CityID) AS CityCount\n",
    "    FROM french_cities\n",
    "\"\"\")\n",
    "france_agg_sql.show()\n"
   ]
  },
  {
   "cell_type": "code",
   "execution_count": 15,
   "id": "e0f4745e",
   "metadata": {},
   "outputs": [
    {
     "name": "stdout",
     "output_type": "stream",
     "text": [
      "+--------------+--------------+-------------------+------------------+\n",
      "|GermanCityName|FrenchCityName|PopulationInGermany|PopulationInFrance|\n",
      "+--------------+--------------+-------------------+------------------+\n",
      "|         yPGeN|          Arrm|            3898854|           1533884|\n",
      "|         BqIqF|        YpXVTA|            2626349|           1677669|\n",
      "|        oPMhti|         iCIMy|            2258897|           1116640|\n",
      "|         Gqdcx|         Ppsnh|            4242141|            634336|\n",
      "|         tIutr|          DEsQ|             446469|           2698268|\n",
      "|         kYnhs|        bbpzqc|            4848747|           1554811|\n",
      "|        cVYwaO|         QxElg|            4181455|           1303426|\n",
      "|          CjDj|          Xqjr|            4353703|           4622090|\n",
      "|         ogzIT|        wHzKXB|             216939|            671899|\n",
      "|         HFOnE|          VneL|            1345457|           4164036|\n",
      "|          Lszg|          qvmt|            2713054|           1789120|\n",
      "|          CLxy|         oRgKT|            2501422|           2244557|\n",
      "|        bZAKIA|          vOia|            2498870|           2155201|\n",
      "|        uxUiGP|          QQKn|            3280661|           2228377|\n",
      "|        ApOOfh|          wrDk|            4632700|           1720327|\n",
      "|          XnZT|        ZxaCss|            2545732|           2574538|\n",
      "|          PNGT|         RFGkl|            3054128|           4409486|\n",
      "|        HXKPgi|        qHPMBf|            2695775|           1131769|\n",
      "|        yTfclx|         bItxm|            4430460|           3772178|\n",
      "|          aYrH|          wDcN|            1295311|            507563|\n",
      "+--------------+--------------+-------------------+------------------+\n",
      "only showing top 20 rows\n",
      "\n"
     ]
    }
   ],
   "source": [
    "#Q5 Charan\n",
    "full_outer_join_df = german_cities.join(french_cities, \"CityID\", \"full_outer\")\\\n",
    "                                   .select(german_cities[\"CityName\"].alias(\"GermanCityName\"),\n",
    "                                           french_cities[\"CityName\"].alias(\"FrenchCityName\"),\n",
    "                                           german_cities[\"Population\"].alias(\"PopulationInGermany\"),\n",
    "                                           french_cities[\"Population\"].alias(\"PopulationInFrance\"))\n",
    "\n",
    "# Show the combined DataFrame\n",
    "full_outer_join_df.show()\n"
   ]
  },
  {
   "cell_type": "code",
   "execution_count": 16,
   "id": "b1492557",
   "metadata": {},
   "outputs": [
    {
     "name": "stdout",
     "output_type": "stream",
     "text": [
      "+--------------+--------------+-------------------+------------------+\n",
      "|GermanCityName|FrenchCityName|PopulationInGermany|PopulationInFrance|\n",
      "+--------------+--------------+-------------------+------------------+\n",
      "|         yPGeN|          Arrm|            3898854|           1533884|\n",
      "|         BqIqF|        YpXVTA|            2626349|           1677669|\n",
      "|        oPMhti|         iCIMy|            2258897|           1116640|\n",
      "|         Gqdcx|         Ppsnh|            4242141|            634336|\n",
      "|         tIutr|          DEsQ|             446469|           2698268|\n",
      "|         kYnhs|        bbpzqc|            4848747|           1554811|\n",
      "|        cVYwaO|         QxElg|            4181455|           1303426|\n",
      "|          CjDj|          Xqjr|            4353703|           4622090|\n",
      "|         ogzIT|        wHzKXB|             216939|            671899|\n",
      "|         HFOnE|          VneL|            1345457|           4164036|\n",
      "|          Lszg|          qvmt|            2713054|           1789120|\n",
      "|          CLxy|         oRgKT|            2501422|           2244557|\n",
      "|        bZAKIA|          vOia|            2498870|           2155201|\n",
      "|        uxUiGP|          QQKn|            3280661|           2228377|\n",
      "|        ApOOfh|          wrDk|            4632700|           1720327|\n",
      "|          XnZT|        ZxaCss|            2545732|           2574538|\n",
      "|          PNGT|         RFGkl|            3054128|           4409486|\n",
      "|        HXKPgi|        qHPMBf|            2695775|           1131769|\n",
      "|        yTfclx|         bItxm|            4430460|           3772178|\n",
      "|          aYrH|          wDcN|            1295311|            507563|\n",
      "+--------------+--------------+-------------------+------------------+\n",
      "only showing top 20 rows\n",
      "\n"
     ]
    }
   ],
   "source": [
    "#Q5 SQL\n",
    "# SQL Query to perform full outer join \n",
    "query = \"\"\"\n",
    "SELECT \n",
    "    g.CityName AS GermanCityName,\n",
    "    f.CityName AS FrenchCityName,\n",
    "    g.Population AS PopulationInGermany,\n",
    "    f.Population AS PopulationInFrance\n",
    "FROM german_cities g\n",
    "FULL OUTER JOIN french_cities f ON g.CityID = f.CityID\n",
    "\"\"\"\n",
    "\n",
    "# Execute the SQL query using Spark SQL\n",
    "full_outer_join_df = spark.sql(query)\n",
    "\n",
    "# Show the results of the SQL query\n",
    "full_outer_join_df.show()\n"
   ]
  },
  {
   "cell_type": "code",
   "execution_count": 17,
   "id": "4b5a052f",
   "metadata": {},
   "outputs": [
    {
     "name": "stdout",
     "output_type": "stream",
     "text": [
      "Germany\n",
      "+----------+------------------+------------------+-----------------+\n",
      "|Avg_CityID|    Avg_Population|          Avg_Area|Avg_CulturalSites|\n",
      "+----------+------------------+------------------+-----------------+\n",
      "|  500003.0|2499948.9589232053|2585.7041581891945|4.499701501492493|\n",
      "+----------+------------------+------------------+-----------------+\n",
      "\n",
      "France\n",
      "+----------+------------------+------------------+-----------------+\n",
      "|Avg_CityID|    Avg_Population|          Avg_Area|Avg_CulturalSites|\n",
      "+----------+------------------+------------------+-----------------+\n",
      "|  500003.0|2499667.3588442057|2584.0123058284817| 4.50078249608752|\n",
      "+----------+------------------+------------------+-----------------+\n",
      "\n"
     ]
    }
   ],
   "source": [
    "#ALEX Q6\n",
    "#Pyspark Dataframe operation\n",
    "#For this question I am using\n",
    "print(\"Germany\")\n",
    "german_cities.select(\n",
    "    avg(\"CityID\").alias(\"Avg_CityID\"),\n",
    "    avg(\"Population\").alias(\"Avg_Population\"),\n",
    "    avg(\"Area\").alias(\"Avg_Area\"),\n",
    "    avg(\"CulturalSites\").alias(\"Avg_CulturalSites\")\n",
    ").show()\n",
    "\n",
    "print(\"France\")\n",
    "french_cities.select(\n",
    "    avg(\"CityID\").alias(\"Avg_CityID\"),\n",
    "    avg(\"Population\").alias(\"Avg_Population\"),\n",
    "    avg(\"Area\").alias(\"Avg_Area\"),\n",
    "    avg(\"CulturalSites\").alias(\"Avg_CulturalSites\")\n",
    ").show()\n",
    "\n",
    "\n",
    "#As we can see they are similar sizes, with Germany having slightly more cultural sites and population\n",
    "#This makes sense that both would be similar as they are randomly generated via the same parameters\n"
   ]
  },
  {
   "cell_type": "code",
   "execution_count": 18,
   "id": "2bc17c00",
   "metadata": {},
   "outputs": [
    {
     "name": "stdout",
     "output_type": "stream",
     "text": [
      "+----------+------------------+------------------+-----------------+\n",
      "|Avg_CityID|    Avg_Population|          Avg_Area|Avg_CulturalSites|\n",
      "+----------+------------------+------------------+-----------------+\n",
      "|  500003.0|2499948.9589232053|2585.7041581891945|4.499701501492493|\n",
      "+----------+------------------+------------------+-----------------+\n",
      "\n",
      "+----------+------------------+------------------+-----------------+\n",
      "|Avg_CityID|    Avg_Population|          Avg_Area|Avg_CulturalSites|\n",
      "+----------+------------------+------------------+-----------------+\n",
      "|  500003.0|2499667.3588442057|2584.0123058284817| 4.50078249608752|\n",
      "+----------+------------------+------------------+-----------------+\n",
      "\n"
     ]
    }
   ],
   "source": [
    "#Alex Q6\n",
    "#SQL Version\n",
    "\n",
    "#Using the previously created views in Q2\n",
    "#German query\n",
    "avg_german_stats = spark.sql(\"\"\"\n",
    "    \n",
    "    SELECT AVG(CityID) AS Avg_CityID,\n",
    "           AVG(Population) AS Avg_Population,\n",
    "           AVG(Area) AS Avg_Area,\n",
    "           AVG(CulturalSites) AS Avg_CulturalSites\n",
    "    FROM german_cities\n",
    "    \n",
    "\"\"\")\n",
    "\n",
    "avg_german_stats.show()\n",
    "\n",
    "# French Query\n",
    "avg_french_stats = spark.sql(\"\"\"\n",
    "\n",
    "    SELECT AVG(CityID) AS Avg_CityID,\n",
    "           AVG(Population) AS Avg_Population,\n",
    "           AVG(Area) AS Avg_Area,\n",
    "           AVG(CulturalSites) AS Avg_CulturalSites\n",
    "    FROM french_cities\n",
    "    \n",
    "\"\"\")\n",
    "avg_french_stats.show()\n"
   ]
  },
  {
   "cell_type": "code",
   "execution_count": 19,
   "id": "18d6f5ae",
   "metadata": {},
   "outputs": [
    {
     "name": "stdout",
     "output_type": "stream",
     "text": [
      "+---------+------------------+\n",
      "| CityName|           Density|\n",
      "+---------+------------------+\n",
      "|   Berlin| 3949.287557500281|\n",
      "|  Hamburg|2370.2330508474574|\n",
      "|   Munich| 4666.881235918893|\n",
      "|  Cologne|2616.3149450820683|\n",
      "|Frankfurt|            1466.0|\n",
      "|     tfOB| 498.2321165493534|\n",
      "|     uBMt|3756.3574614760746|\n",
      "|     fpbw|104.04242996776689|\n",
      "|     rOXV| 547.7717676827241|\n",
      "|    dApbQ| 562.0234644967117|\n",
      "|   zIXZbo|1049.9719393890805|\n",
      "|   WoiTtZ|1091.6647137835444|\n",
      "|     AtMM| 787.1854868654482|\n",
      "|    EfLQd|16940.895207419337|\n",
      "|   iKbycv| 499.0313445086107|\n",
      "|     bQQH|  2379.42325951114|\n",
      "|     DYiw|1077.3815788611744|\n",
      "|    qzQcV| 4364.230797090202|\n",
      "|    XozDq| 866.3320888244964|\n",
      "|   KvnMpM|24.474152204574725|\n",
      "+---------+------------------+\n",
      "only showing top 20 rows\n",
      "\n",
      "+---------+------------------+\n",
      "| CityName|           Density|\n",
      "+---------+------------------+\n",
      "|    Paris|            9000.0|\n",
      "|Marseille|3536.9908561928514|\n",
      "|     Lyon|10256.945895132652|\n",
      "| Toulouse| 3778.529163144548|\n",
      "|     Nice| 4784.422809457579|\n",
      "|     HEUJ|   1478.5210812209|\n",
      "|    PRcXm|29.973325960021466|\n",
      "|    AhJsf| 466.5287048394501|\n",
      "|    qnEbu| 1739.478479310772|\n",
      "|    YOhYg| 61.66076246438588|\n",
      "|     QIuk| 4093.354419898652|\n",
      "|   Slknkw| 992.3410542507452|\n",
      "|    ZJbHU| 778.8144523667198|\n",
      "|     tCxL| 53.08831854059193|\n",
      "|   vTzmze| 1944.669192065236|\n",
      "|     KHTA| 362.7332637433648|\n",
      "|   sROVlL| 1484.642608427614|\n",
      "|     lWCj|2040.3065167805055|\n",
      "|     jIdN| 1330.834487534626|\n",
      "|    eTbPz| 2951.925275375573|\n",
      "+---------+------------------+\n",
      "only showing top 20 rows\n",
      "\n"
     ]
    }
   ],
   "source": [
    "#Q4 Srinivas\n",
    "germany_density = german_cities.withColumn(\"Density\", col(\"Population\") / col(\"Area\"))\n",
    "france_density = french_cities.withColumn(\"Density\", col(\"Population\") / col(\"Area\"))\n",
    "germany_density.select(\"CityName\", \"Density\").show()\n",
    "france_density.select(\"CityName\", \"Density\").show()\n"
   ]
  },
  {
   "cell_type": "code",
   "execution_count": 20,
   "id": "82a1aef2",
   "metadata": {},
   "outputs": [
    {
     "name": "stdout",
     "output_type": "stream",
     "text": [
      "Germany\n",
      "+---------+------------------+\n",
      "| CityName|           Density|\n",
      "+---------+------------------+\n",
      "|   Berlin| 3949.287557500281|\n",
      "|  Hamburg|2370.2330508474574|\n",
      "|   Munich| 4666.881235918893|\n",
      "|  Cologne|2616.3149450820683|\n",
      "|Frankfurt|            1466.0|\n",
      "|     tfOB| 498.2321165493534|\n",
      "|     uBMt|3756.3574614760746|\n",
      "|     fpbw|104.04242996776689|\n",
      "|     rOXV| 547.7717676827241|\n",
      "|    dApbQ| 562.0234644967117|\n",
      "|   zIXZbo|1049.9719393890805|\n",
      "|   WoiTtZ|1091.6647137835444|\n",
      "|     AtMM| 787.1854868654482|\n",
      "|    EfLQd|16940.895207419337|\n",
      "|   iKbycv| 499.0313445086107|\n",
      "|     bQQH|  2379.42325951114|\n",
      "|     DYiw|1077.3815788611744|\n",
      "|    qzQcV| 4364.230797090202|\n",
      "|    XozDq| 866.3320888244964|\n",
      "|   KvnMpM|24.474152204574725|\n",
      "+---------+------------------+\n",
      "only showing top 20 rows\n",
      "\n",
      "France\n",
      "+---------+------------------+\n",
      "| CityName|           Density|\n",
      "+---------+------------------+\n",
      "|    Paris|            9000.0|\n",
      "|Marseille|3536.9908561928514|\n",
      "|     Lyon|10256.945895132652|\n",
      "| Toulouse| 3778.529163144548|\n",
      "|     Nice| 4784.422809457579|\n",
      "|     HEUJ|   1478.5210812209|\n",
      "|    PRcXm|29.973325960021466|\n",
      "|    AhJsf| 466.5287048394501|\n",
      "|    qnEbu| 1739.478479310772|\n",
      "|    YOhYg| 61.66076246438588|\n",
      "|     QIuk| 4093.354419898652|\n",
      "|   Slknkw| 992.3410542507452|\n",
      "|    ZJbHU| 778.8144523667198|\n",
      "|     tCxL| 53.08831854059193|\n",
      "|   vTzmze| 1944.669192065236|\n",
      "|     KHTA| 362.7332637433648|\n",
      "|   sROVlL| 1484.642608427614|\n",
      "|     lWCj|2040.3065167805055|\n",
      "|     jIdN| 1330.834487534626|\n",
      "|    eTbPz| 2951.925275375573|\n",
      "+---------+------------------+\n",
      "only showing top 20 rows\n",
      "\n"
     ]
    }
   ],
   "source": [
    "# Germany Density Calculation\n",
    "print(\"Germany\")\n",
    "density_german_stats = spark.sql(\"\"\"\n",
    "SELECT CityName, Population / Area AS Density\n",
    "FROM german_cities\n",
    "\n",
    "\"\"\")\n",
    "\n",
    "density_german_stats.show()\n",
    "\n",
    "# French Density Calculation\n",
    "print(\"France\")\n",
    "\n",
    "density_french_stats = spark.sql(\"\"\"\n",
    "SELECT CityName, Population / Area AS Density\n",
    "FROM french_cities\n",
    "\n",
    "\"\"\")\n",
    "\n",
    "density_french_stats.show()\n",
    "\n"
   ]
  },
  {
   "cell_type": "code",
   "execution_count": 21,
   "id": "48e447c6",
   "metadata": {},
   "outputs": [
    {
     "data": {
      "application/vnd.plotly.v1+json": {
       "config": {
        "plotlyServerURL": "https://plot.ly"
       },
       "data": [
        {
         "alignmentgroup": "True",
         "hovertemplate": "CityName=%{x}<br>CulturalSites=%{y}<extra></extra>",
         "legendgroup": "",
         "marker": {
          "color": "#636efa",
          "pattern": {
           "shape": ""
          }
         },
         "name": "",
         "offsetgroup": "",
         "orientation": "v",
         "showlegend": false,
         "textposition": "auto",
         "type": "bar",
         "x": [
          "HytT",
          "Kjwg",
          "mjLG",
          "bhpdaJ",
          "vYmLxp",
          "CuVVNe",
          "WrBr",
          "AdspsQ",
          "ruCg",
          "VhflLm",
          "qJTft",
          "TBkzM",
          "sSWiPl",
          "VucH",
          "LPeF",
          "eQbRDa",
          "IHrv",
          "bhMe",
          "uNDA",
          "gZHNby"
         ],
         "xaxis": "x",
         "y": [
          3,
          7,
          6,
          6,
          7,
          6,
          2,
          3,
          3,
          3,
          7,
          5,
          6,
          3,
          7,
          4,
          6,
          3,
          5,
          6
         ],
         "yaxis": "y"
        }
       ],
       "layout": {
        "barmode": "relative",
        "legend": {
         "tracegroupgap": 0
        },
        "template": {
         "data": {
          "bar": [
           {
            "error_x": {
             "color": "#2a3f5f"
            },
            "error_y": {
             "color": "#2a3f5f"
            },
            "marker": {
             "line": {
              "color": "#E5ECF6",
              "width": 0.5
             },
             "pattern": {
              "fillmode": "overlay",
              "size": 10,
              "solidity": 0.2
             }
            },
            "type": "bar"
           }
          ],
          "barpolar": [
           {
            "marker": {
             "line": {
              "color": "#E5ECF6",
              "width": 0.5
             },
             "pattern": {
              "fillmode": "overlay",
              "size": 10,
              "solidity": 0.2
             }
            },
            "type": "barpolar"
           }
          ],
          "carpet": [
           {
            "aaxis": {
             "endlinecolor": "#2a3f5f",
             "gridcolor": "white",
             "linecolor": "white",
             "minorgridcolor": "white",
             "startlinecolor": "#2a3f5f"
            },
            "baxis": {
             "endlinecolor": "#2a3f5f",
             "gridcolor": "white",
             "linecolor": "white",
             "minorgridcolor": "white",
             "startlinecolor": "#2a3f5f"
            },
            "type": "carpet"
           }
          ],
          "choropleth": [
           {
            "colorbar": {
             "outlinewidth": 0,
             "ticks": ""
            },
            "type": "choropleth"
           }
          ],
          "contour": [
           {
            "colorbar": {
             "outlinewidth": 0,
             "ticks": ""
            },
            "colorscale": [
             [
              0,
              "#0d0887"
             ],
             [
              0.1111111111111111,
              "#46039f"
             ],
             [
              0.2222222222222222,
              "#7201a8"
             ],
             [
              0.3333333333333333,
              "#9c179e"
             ],
             [
              0.4444444444444444,
              "#bd3786"
             ],
             [
              0.5555555555555556,
              "#d8576b"
             ],
             [
              0.6666666666666666,
              "#ed7953"
             ],
             [
              0.7777777777777778,
              "#fb9f3a"
             ],
             [
              0.8888888888888888,
              "#fdca26"
             ],
             [
              1,
              "#f0f921"
             ]
            ],
            "type": "contour"
           }
          ],
          "contourcarpet": [
           {
            "colorbar": {
             "outlinewidth": 0,
             "ticks": ""
            },
            "type": "contourcarpet"
           }
          ],
          "heatmap": [
           {
            "colorbar": {
             "outlinewidth": 0,
             "ticks": ""
            },
            "colorscale": [
             [
              0,
              "#0d0887"
             ],
             [
              0.1111111111111111,
              "#46039f"
             ],
             [
              0.2222222222222222,
              "#7201a8"
             ],
             [
              0.3333333333333333,
              "#9c179e"
             ],
             [
              0.4444444444444444,
              "#bd3786"
             ],
             [
              0.5555555555555556,
              "#d8576b"
             ],
             [
              0.6666666666666666,
              "#ed7953"
             ],
             [
              0.7777777777777778,
              "#fb9f3a"
             ],
             [
              0.8888888888888888,
              "#fdca26"
             ],
             [
              1,
              "#f0f921"
             ]
            ],
            "type": "heatmap"
           }
          ],
          "heatmapgl": [
           {
            "colorbar": {
             "outlinewidth": 0,
             "ticks": ""
            },
            "colorscale": [
             [
              0,
              "#0d0887"
             ],
             [
              0.1111111111111111,
              "#46039f"
             ],
             [
              0.2222222222222222,
              "#7201a8"
             ],
             [
              0.3333333333333333,
              "#9c179e"
             ],
             [
              0.4444444444444444,
              "#bd3786"
             ],
             [
              0.5555555555555556,
              "#d8576b"
             ],
             [
              0.6666666666666666,
              "#ed7953"
             ],
             [
              0.7777777777777778,
              "#fb9f3a"
             ],
             [
              0.8888888888888888,
              "#fdca26"
             ],
             [
              1,
              "#f0f921"
             ]
            ],
            "type": "heatmapgl"
           }
          ],
          "histogram": [
           {
            "marker": {
             "pattern": {
              "fillmode": "overlay",
              "size": 10,
              "solidity": 0.2
             }
            },
            "type": "histogram"
           }
          ],
          "histogram2d": [
           {
            "colorbar": {
             "outlinewidth": 0,
             "ticks": ""
            },
            "colorscale": [
             [
              0,
              "#0d0887"
             ],
             [
              0.1111111111111111,
              "#46039f"
             ],
             [
              0.2222222222222222,
              "#7201a8"
             ],
             [
              0.3333333333333333,
              "#9c179e"
             ],
             [
              0.4444444444444444,
              "#bd3786"
             ],
             [
              0.5555555555555556,
              "#d8576b"
             ],
             [
              0.6666666666666666,
              "#ed7953"
             ],
             [
              0.7777777777777778,
              "#fb9f3a"
             ],
             [
              0.8888888888888888,
              "#fdca26"
             ],
             [
              1,
              "#f0f921"
             ]
            ],
            "type": "histogram2d"
           }
          ],
          "histogram2dcontour": [
           {
            "colorbar": {
             "outlinewidth": 0,
             "ticks": ""
            },
            "colorscale": [
             [
              0,
              "#0d0887"
             ],
             [
              0.1111111111111111,
              "#46039f"
             ],
             [
              0.2222222222222222,
              "#7201a8"
             ],
             [
              0.3333333333333333,
              "#9c179e"
             ],
             [
              0.4444444444444444,
              "#bd3786"
             ],
             [
              0.5555555555555556,
              "#d8576b"
             ],
             [
              0.6666666666666666,
              "#ed7953"
             ],
             [
              0.7777777777777778,
              "#fb9f3a"
             ],
             [
              0.8888888888888888,
              "#fdca26"
             ],
             [
              1,
              "#f0f921"
             ]
            ],
            "type": "histogram2dcontour"
           }
          ],
          "mesh3d": [
           {
            "colorbar": {
             "outlinewidth": 0,
             "ticks": ""
            },
            "type": "mesh3d"
           }
          ],
          "parcoords": [
           {
            "line": {
             "colorbar": {
              "outlinewidth": 0,
              "ticks": ""
             }
            },
            "type": "parcoords"
           }
          ],
          "pie": [
           {
            "automargin": true,
            "type": "pie"
           }
          ],
          "scatter": [
           {
            "fillpattern": {
             "fillmode": "overlay",
             "size": 10,
             "solidity": 0.2
            },
            "type": "scatter"
           }
          ],
          "scatter3d": [
           {
            "line": {
             "colorbar": {
              "outlinewidth": 0,
              "ticks": ""
             }
            },
            "marker": {
             "colorbar": {
              "outlinewidth": 0,
              "ticks": ""
             }
            },
            "type": "scatter3d"
           }
          ],
          "scattercarpet": [
           {
            "marker": {
             "colorbar": {
              "outlinewidth": 0,
              "ticks": ""
             }
            },
            "type": "scattercarpet"
           }
          ],
          "scattergeo": [
           {
            "marker": {
             "colorbar": {
              "outlinewidth": 0,
              "ticks": ""
             }
            },
            "type": "scattergeo"
           }
          ],
          "scattergl": [
           {
            "marker": {
             "colorbar": {
              "outlinewidth": 0,
              "ticks": ""
             }
            },
            "type": "scattergl"
           }
          ],
          "scattermapbox": [
           {
            "marker": {
             "colorbar": {
              "outlinewidth": 0,
              "ticks": ""
             }
            },
            "type": "scattermapbox"
           }
          ],
          "scatterpolar": [
           {
            "marker": {
             "colorbar": {
              "outlinewidth": 0,
              "ticks": ""
             }
            },
            "type": "scatterpolar"
           }
          ],
          "scatterpolargl": [
           {
            "marker": {
             "colorbar": {
              "outlinewidth": 0,
              "ticks": ""
             }
            },
            "type": "scatterpolargl"
           }
          ],
          "scatterternary": [
           {
            "marker": {
             "colorbar": {
              "outlinewidth": 0,
              "ticks": ""
             }
            },
            "type": "scatterternary"
           }
          ],
          "surface": [
           {
            "colorbar": {
             "outlinewidth": 0,
             "ticks": ""
            },
            "colorscale": [
             [
              0,
              "#0d0887"
             ],
             [
              0.1111111111111111,
              "#46039f"
             ],
             [
              0.2222222222222222,
              "#7201a8"
             ],
             [
              0.3333333333333333,
              "#9c179e"
             ],
             [
              0.4444444444444444,
              "#bd3786"
             ],
             [
              0.5555555555555556,
              "#d8576b"
             ],
             [
              0.6666666666666666,
              "#ed7953"
             ],
             [
              0.7777777777777778,
              "#fb9f3a"
             ],
             [
              0.8888888888888888,
              "#fdca26"
             ],
             [
              1,
              "#f0f921"
             ]
            ],
            "type": "surface"
           }
          ],
          "table": [
           {
            "cells": {
             "fill": {
              "color": "#EBF0F8"
             },
             "line": {
              "color": "white"
             }
            },
            "header": {
             "fill": {
              "color": "#C8D4E3"
             },
             "line": {
              "color": "white"
             }
            },
            "type": "table"
           }
          ]
         },
         "layout": {
          "annotationdefaults": {
           "arrowcolor": "#2a3f5f",
           "arrowhead": 0,
           "arrowwidth": 1
          },
          "autotypenumbers": "strict",
          "coloraxis": {
           "colorbar": {
            "outlinewidth": 0,
            "ticks": ""
           }
          },
          "colorscale": {
           "diverging": [
            [
             0,
             "#8e0152"
            ],
            [
             0.1,
             "#c51b7d"
            ],
            [
             0.2,
             "#de77ae"
            ],
            [
             0.3,
             "#f1b6da"
            ],
            [
             0.4,
             "#fde0ef"
            ],
            [
             0.5,
             "#f7f7f7"
            ],
            [
             0.6,
             "#e6f5d0"
            ],
            [
             0.7,
             "#b8e186"
            ],
            [
             0.8,
             "#7fbc41"
            ],
            [
             0.9,
             "#4d9221"
            ],
            [
             1,
             "#276419"
            ]
           ],
           "sequential": [
            [
             0,
             "#0d0887"
            ],
            [
             0.1111111111111111,
             "#46039f"
            ],
            [
             0.2222222222222222,
             "#7201a8"
            ],
            [
             0.3333333333333333,
             "#9c179e"
            ],
            [
             0.4444444444444444,
             "#bd3786"
            ],
            [
             0.5555555555555556,
             "#d8576b"
            ],
            [
             0.6666666666666666,
             "#ed7953"
            ],
            [
             0.7777777777777778,
             "#fb9f3a"
            ],
            [
             0.8888888888888888,
             "#fdca26"
            ],
            [
             1,
             "#f0f921"
            ]
           ],
           "sequentialminus": [
            [
             0,
             "#0d0887"
            ],
            [
             0.1111111111111111,
             "#46039f"
            ],
            [
             0.2222222222222222,
             "#7201a8"
            ],
            [
             0.3333333333333333,
             "#9c179e"
            ],
            [
             0.4444444444444444,
             "#bd3786"
            ],
            [
             0.5555555555555556,
             "#d8576b"
            ],
            [
             0.6666666666666666,
             "#ed7953"
            ],
            [
             0.7777777777777778,
             "#fb9f3a"
            ],
            [
             0.8888888888888888,
             "#fdca26"
            ],
            [
             1,
             "#f0f921"
            ]
           ]
          },
          "colorway": [
           "#636efa",
           "#EF553B",
           "#00cc96",
           "#ab63fa",
           "#FFA15A",
           "#19d3f3",
           "#FF6692",
           "#B6E880",
           "#FF97FF",
           "#FECB52"
          ],
          "font": {
           "color": "#2a3f5f"
          },
          "geo": {
           "bgcolor": "white",
           "lakecolor": "white",
           "landcolor": "#E5ECF6",
           "showlakes": true,
           "showland": true,
           "subunitcolor": "white"
          },
          "hoverlabel": {
           "align": "left"
          },
          "hovermode": "closest",
          "mapbox": {
           "style": "light"
          },
          "paper_bgcolor": "white",
          "plot_bgcolor": "#E5ECF6",
          "polar": {
           "angularaxis": {
            "gridcolor": "white",
            "linecolor": "white",
            "ticks": ""
           },
           "bgcolor": "#E5ECF6",
           "radialaxis": {
            "gridcolor": "white",
            "linecolor": "white",
            "ticks": ""
           }
          },
          "scene": {
           "xaxis": {
            "backgroundcolor": "#E5ECF6",
            "gridcolor": "white",
            "gridwidth": 2,
            "linecolor": "white",
            "showbackground": true,
            "ticks": "",
            "zerolinecolor": "white"
           },
           "yaxis": {
            "backgroundcolor": "#E5ECF6",
            "gridcolor": "white",
            "gridwidth": 2,
            "linecolor": "white",
            "showbackground": true,
            "ticks": "",
            "zerolinecolor": "white"
           },
           "zaxis": {
            "backgroundcolor": "#E5ECF6",
            "gridcolor": "white",
            "gridwidth": 2,
            "linecolor": "white",
            "showbackground": true,
            "ticks": "",
            "zerolinecolor": "white"
           }
          },
          "shapedefaults": {
           "line": {
            "color": "#2a3f5f"
           }
          },
          "ternary": {
           "aaxis": {
            "gridcolor": "white",
            "linecolor": "white",
            "ticks": ""
           },
           "baxis": {
            "gridcolor": "white",
            "linecolor": "white",
            "ticks": ""
           },
           "bgcolor": "#E5ECF6",
           "caxis": {
            "gridcolor": "white",
            "linecolor": "white",
            "ticks": ""
           }
          },
          "title": {
           "x": 0.05
          },
          "xaxis": {
           "automargin": true,
           "gridcolor": "white",
           "linecolor": "white",
           "ticks": "",
           "title": {
            "standoff": 15
           },
           "zerolinecolor": "white",
           "zerolinewidth": 2
          },
          "yaxis": {
           "automargin": true,
           "gridcolor": "white",
           "linecolor": "white",
           "ticks": "",
           "title": {
            "standoff": 15
           },
           "zerolinecolor": "white",
           "zerolinewidth": 2
          }
         }
        },
        "title": {
         "text": "Cultural Sites in Top 20 Populous French Cities"
        },
        "xaxis": {
         "anchor": "y",
         "domain": [
          0,
          1
         ],
         "title": {
          "text": "City"
         }
        },
        "yaxis": {
         "anchor": "x",
         "domain": [
          0,
          1
         ],
         "title": {
          "text": "Number of Cultural Sites"
         }
        }
       }
      }
     },
     "metadata": {},
     "output_type": "display_data"
    }
   ],
   "source": [
    "\n",
    "top_20_cities = french_cities.orderBy(\"Population\", ascending=False).limit(20)\n",
    "city_names = top_20_cities.select(\"CityName\").collect()\n",
    "cultural_sites = top_20_cities.select(\"CulturalSites\").collect()\n",
    "city_names = [row.CityName for row in city_names]\n",
    "cultural_sites = [row.CulturalSites for row in cultural_sites]\n",
    "\n",
    "\n",
    "data_dict = {'CityName': city_names, 'CulturalSites': cultural_sites}\n",
    "df = pd.DataFrame(data_dict)\n",
    "fig = px.bar(df, x=\"CityName\", y=\"CulturalSites\",\n",
    "             title=\"Cultural Sites in Top 20 Populous French Cities\")\n",
    "fig.update_layout(xaxis_title=\"City\", yaxis_title=\"Number of Cultural Sites\")\n",
    "fig.show()\n",
    "\n"
   ]
  },
  {
   "cell_type": "code",
   "execution_count": 22,
   "id": "9fefb79e",
   "metadata": {},
   "outputs": [
    {
     "data": {
      "application/vnd.plotly.v1+json": {
       "config": {
        "plotlyServerURL": "https://plot.ly"
       },
       "data": [
        {
         "alignmentgroup": "True",
         "hovertemplate": "CityName=%{x}<br>CulturalSites=%{y}<extra></extra>",
         "legendgroup": "",
         "marker": {
          "color": "#636efa",
          "pattern": {
           "shape": ""
          }
         },
         "name": "",
         "offsetgroup": "",
         "orientation": "v",
         "showlegend": false,
         "textposition": "auto",
         "type": "bar",
         "x": [
          "VcQbHk",
          "YAex",
          "RrWP",
          "LtrU",
          "oVkelR",
          "oTOu",
          "xQvIp",
          "otygX",
          "VCAh",
          "RsMO",
          "mmmoJy",
          "QFlq",
          "xiZm",
          "KjkNr",
          "hBVYWZ",
          "usjPe",
          "RIjGSz",
          "LkKwE",
          "gPZgd",
          "FdNl"
         ],
         "xaxis": "x",
         "y": [
          2,
          2,
          5,
          6,
          4,
          7,
          4,
          5,
          7,
          5,
          3,
          5,
          2,
          3,
          6,
          5,
          4,
          3,
          6,
          3
         ],
         "yaxis": "y"
        }
       ],
       "layout": {
        "barmode": "relative",
        "legend": {
         "tracegroupgap": 0
        },
        "template": {
         "data": {
          "bar": [
           {
            "error_x": {
             "color": "#2a3f5f"
            },
            "error_y": {
             "color": "#2a3f5f"
            },
            "marker": {
             "line": {
              "color": "#E5ECF6",
              "width": 0.5
             },
             "pattern": {
              "fillmode": "overlay",
              "size": 10,
              "solidity": 0.2
             }
            },
            "type": "bar"
           }
          ],
          "barpolar": [
           {
            "marker": {
             "line": {
              "color": "#E5ECF6",
              "width": 0.5
             },
             "pattern": {
              "fillmode": "overlay",
              "size": 10,
              "solidity": 0.2
             }
            },
            "type": "barpolar"
           }
          ],
          "carpet": [
           {
            "aaxis": {
             "endlinecolor": "#2a3f5f",
             "gridcolor": "white",
             "linecolor": "white",
             "minorgridcolor": "white",
             "startlinecolor": "#2a3f5f"
            },
            "baxis": {
             "endlinecolor": "#2a3f5f",
             "gridcolor": "white",
             "linecolor": "white",
             "minorgridcolor": "white",
             "startlinecolor": "#2a3f5f"
            },
            "type": "carpet"
           }
          ],
          "choropleth": [
           {
            "colorbar": {
             "outlinewidth": 0,
             "ticks": ""
            },
            "type": "choropleth"
           }
          ],
          "contour": [
           {
            "colorbar": {
             "outlinewidth": 0,
             "ticks": ""
            },
            "colorscale": [
             [
              0,
              "#0d0887"
             ],
             [
              0.1111111111111111,
              "#46039f"
             ],
             [
              0.2222222222222222,
              "#7201a8"
             ],
             [
              0.3333333333333333,
              "#9c179e"
             ],
             [
              0.4444444444444444,
              "#bd3786"
             ],
             [
              0.5555555555555556,
              "#d8576b"
             ],
             [
              0.6666666666666666,
              "#ed7953"
             ],
             [
              0.7777777777777778,
              "#fb9f3a"
             ],
             [
              0.8888888888888888,
              "#fdca26"
             ],
             [
              1,
              "#f0f921"
             ]
            ],
            "type": "contour"
           }
          ],
          "contourcarpet": [
           {
            "colorbar": {
             "outlinewidth": 0,
             "ticks": ""
            },
            "type": "contourcarpet"
           }
          ],
          "heatmap": [
           {
            "colorbar": {
             "outlinewidth": 0,
             "ticks": ""
            },
            "colorscale": [
             [
              0,
              "#0d0887"
             ],
             [
              0.1111111111111111,
              "#46039f"
             ],
             [
              0.2222222222222222,
              "#7201a8"
             ],
             [
              0.3333333333333333,
              "#9c179e"
             ],
             [
              0.4444444444444444,
              "#bd3786"
             ],
             [
              0.5555555555555556,
              "#d8576b"
             ],
             [
              0.6666666666666666,
              "#ed7953"
             ],
             [
              0.7777777777777778,
              "#fb9f3a"
             ],
             [
              0.8888888888888888,
              "#fdca26"
             ],
             [
              1,
              "#f0f921"
             ]
            ],
            "type": "heatmap"
           }
          ],
          "heatmapgl": [
           {
            "colorbar": {
             "outlinewidth": 0,
             "ticks": ""
            },
            "colorscale": [
             [
              0,
              "#0d0887"
             ],
             [
              0.1111111111111111,
              "#46039f"
             ],
             [
              0.2222222222222222,
              "#7201a8"
             ],
             [
              0.3333333333333333,
              "#9c179e"
             ],
             [
              0.4444444444444444,
              "#bd3786"
             ],
             [
              0.5555555555555556,
              "#d8576b"
             ],
             [
              0.6666666666666666,
              "#ed7953"
             ],
             [
              0.7777777777777778,
              "#fb9f3a"
             ],
             [
              0.8888888888888888,
              "#fdca26"
             ],
             [
              1,
              "#f0f921"
             ]
            ],
            "type": "heatmapgl"
           }
          ],
          "histogram": [
           {
            "marker": {
             "pattern": {
              "fillmode": "overlay",
              "size": 10,
              "solidity": 0.2
             }
            },
            "type": "histogram"
           }
          ],
          "histogram2d": [
           {
            "colorbar": {
             "outlinewidth": 0,
             "ticks": ""
            },
            "colorscale": [
             [
              0,
              "#0d0887"
             ],
             [
              0.1111111111111111,
              "#46039f"
             ],
             [
              0.2222222222222222,
              "#7201a8"
             ],
             [
              0.3333333333333333,
              "#9c179e"
             ],
             [
              0.4444444444444444,
              "#bd3786"
             ],
             [
              0.5555555555555556,
              "#d8576b"
             ],
             [
              0.6666666666666666,
              "#ed7953"
             ],
             [
              0.7777777777777778,
              "#fb9f3a"
             ],
             [
              0.8888888888888888,
              "#fdca26"
             ],
             [
              1,
              "#f0f921"
             ]
            ],
            "type": "histogram2d"
           }
          ],
          "histogram2dcontour": [
           {
            "colorbar": {
             "outlinewidth": 0,
             "ticks": ""
            },
            "colorscale": [
             [
              0,
              "#0d0887"
             ],
             [
              0.1111111111111111,
              "#46039f"
             ],
             [
              0.2222222222222222,
              "#7201a8"
             ],
             [
              0.3333333333333333,
              "#9c179e"
             ],
             [
              0.4444444444444444,
              "#bd3786"
             ],
             [
              0.5555555555555556,
              "#d8576b"
             ],
             [
              0.6666666666666666,
              "#ed7953"
             ],
             [
              0.7777777777777778,
              "#fb9f3a"
             ],
             [
              0.8888888888888888,
              "#fdca26"
             ],
             [
              1,
              "#f0f921"
             ]
            ],
            "type": "histogram2dcontour"
           }
          ],
          "mesh3d": [
           {
            "colorbar": {
             "outlinewidth": 0,
             "ticks": ""
            },
            "type": "mesh3d"
           }
          ],
          "parcoords": [
           {
            "line": {
             "colorbar": {
              "outlinewidth": 0,
              "ticks": ""
             }
            },
            "type": "parcoords"
           }
          ],
          "pie": [
           {
            "automargin": true,
            "type": "pie"
           }
          ],
          "scatter": [
           {
            "fillpattern": {
             "fillmode": "overlay",
             "size": 10,
             "solidity": 0.2
            },
            "type": "scatter"
           }
          ],
          "scatter3d": [
           {
            "line": {
             "colorbar": {
              "outlinewidth": 0,
              "ticks": ""
             }
            },
            "marker": {
             "colorbar": {
              "outlinewidth": 0,
              "ticks": ""
             }
            },
            "type": "scatter3d"
           }
          ],
          "scattercarpet": [
           {
            "marker": {
             "colorbar": {
              "outlinewidth": 0,
              "ticks": ""
             }
            },
            "type": "scattercarpet"
           }
          ],
          "scattergeo": [
           {
            "marker": {
             "colorbar": {
              "outlinewidth": 0,
              "ticks": ""
             }
            },
            "type": "scattergeo"
           }
          ],
          "scattergl": [
           {
            "marker": {
             "colorbar": {
              "outlinewidth": 0,
              "ticks": ""
             }
            },
            "type": "scattergl"
           }
          ],
          "scattermapbox": [
           {
            "marker": {
             "colorbar": {
              "outlinewidth": 0,
              "ticks": ""
             }
            },
            "type": "scattermapbox"
           }
          ],
          "scatterpolar": [
           {
            "marker": {
             "colorbar": {
              "outlinewidth": 0,
              "ticks": ""
             }
            },
            "type": "scatterpolar"
           }
          ],
          "scatterpolargl": [
           {
            "marker": {
             "colorbar": {
              "outlinewidth": 0,
              "ticks": ""
             }
            },
            "type": "scatterpolargl"
           }
          ],
          "scatterternary": [
           {
            "marker": {
             "colorbar": {
              "outlinewidth": 0,
              "ticks": ""
             }
            },
            "type": "scatterternary"
           }
          ],
          "surface": [
           {
            "colorbar": {
             "outlinewidth": 0,
             "ticks": ""
            },
            "colorscale": [
             [
              0,
              "#0d0887"
             ],
             [
              0.1111111111111111,
              "#46039f"
             ],
             [
              0.2222222222222222,
              "#7201a8"
             ],
             [
              0.3333333333333333,
              "#9c179e"
             ],
             [
              0.4444444444444444,
              "#bd3786"
             ],
             [
              0.5555555555555556,
              "#d8576b"
             ],
             [
              0.6666666666666666,
              "#ed7953"
             ],
             [
              0.7777777777777778,
              "#fb9f3a"
             ],
             [
              0.8888888888888888,
              "#fdca26"
             ],
             [
              1,
              "#f0f921"
             ]
            ],
            "type": "surface"
           }
          ],
          "table": [
           {
            "cells": {
             "fill": {
              "color": "#EBF0F8"
             },
             "line": {
              "color": "white"
             }
            },
            "header": {
             "fill": {
              "color": "#C8D4E3"
             },
             "line": {
              "color": "white"
             }
            },
            "type": "table"
           }
          ]
         },
         "layout": {
          "annotationdefaults": {
           "arrowcolor": "#2a3f5f",
           "arrowhead": 0,
           "arrowwidth": 1
          },
          "autotypenumbers": "strict",
          "coloraxis": {
           "colorbar": {
            "outlinewidth": 0,
            "ticks": ""
           }
          },
          "colorscale": {
           "diverging": [
            [
             0,
             "#8e0152"
            ],
            [
             0.1,
             "#c51b7d"
            ],
            [
             0.2,
             "#de77ae"
            ],
            [
             0.3,
             "#f1b6da"
            ],
            [
             0.4,
             "#fde0ef"
            ],
            [
             0.5,
             "#f7f7f7"
            ],
            [
             0.6,
             "#e6f5d0"
            ],
            [
             0.7,
             "#b8e186"
            ],
            [
             0.8,
             "#7fbc41"
            ],
            [
             0.9,
             "#4d9221"
            ],
            [
             1,
             "#276419"
            ]
           ],
           "sequential": [
            [
             0,
             "#0d0887"
            ],
            [
             0.1111111111111111,
             "#46039f"
            ],
            [
             0.2222222222222222,
             "#7201a8"
            ],
            [
             0.3333333333333333,
             "#9c179e"
            ],
            [
             0.4444444444444444,
             "#bd3786"
            ],
            [
             0.5555555555555556,
             "#d8576b"
            ],
            [
             0.6666666666666666,
             "#ed7953"
            ],
            [
             0.7777777777777778,
             "#fb9f3a"
            ],
            [
             0.8888888888888888,
             "#fdca26"
            ],
            [
             1,
             "#f0f921"
            ]
           ],
           "sequentialminus": [
            [
             0,
             "#0d0887"
            ],
            [
             0.1111111111111111,
             "#46039f"
            ],
            [
             0.2222222222222222,
             "#7201a8"
            ],
            [
             0.3333333333333333,
             "#9c179e"
            ],
            [
             0.4444444444444444,
             "#bd3786"
            ],
            [
             0.5555555555555556,
             "#d8576b"
            ],
            [
             0.6666666666666666,
             "#ed7953"
            ],
            [
             0.7777777777777778,
             "#fb9f3a"
            ],
            [
             0.8888888888888888,
             "#fdca26"
            ],
            [
             1,
             "#f0f921"
            ]
           ]
          },
          "colorway": [
           "#636efa",
           "#EF553B",
           "#00cc96",
           "#ab63fa",
           "#FFA15A",
           "#19d3f3",
           "#FF6692",
           "#B6E880",
           "#FF97FF",
           "#FECB52"
          ],
          "font": {
           "color": "#2a3f5f"
          },
          "geo": {
           "bgcolor": "white",
           "lakecolor": "white",
           "landcolor": "#E5ECF6",
           "showlakes": true,
           "showland": true,
           "subunitcolor": "white"
          },
          "hoverlabel": {
           "align": "left"
          },
          "hovermode": "closest",
          "mapbox": {
           "style": "light"
          },
          "paper_bgcolor": "white",
          "plot_bgcolor": "#E5ECF6",
          "polar": {
           "angularaxis": {
            "gridcolor": "white",
            "linecolor": "white",
            "ticks": ""
           },
           "bgcolor": "#E5ECF6",
           "radialaxis": {
            "gridcolor": "white",
            "linecolor": "white",
            "ticks": ""
           }
          },
          "scene": {
           "xaxis": {
            "backgroundcolor": "#E5ECF6",
            "gridcolor": "white",
            "gridwidth": 2,
            "linecolor": "white",
            "showbackground": true,
            "ticks": "",
            "zerolinecolor": "white"
           },
           "yaxis": {
            "backgroundcolor": "#E5ECF6",
            "gridcolor": "white",
            "gridwidth": 2,
            "linecolor": "white",
            "showbackground": true,
            "ticks": "",
            "zerolinecolor": "white"
           },
           "zaxis": {
            "backgroundcolor": "#E5ECF6",
            "gridcolor": "white",
            "gridwidth": 2,
            "linecolor": "white",
            "showbackground": true,
            "ticks": "",
            "zerolinecolor": "white"
           }
          },
          "shapedefaults": {
           "line": {
            "color": "#2a3f5f"
           }
          },
          "ternary": {
           "aaxis": {
            "gridcolor": "white",
            "linecolor": "white",
            "ticks": ""
           },
           "baxis": {
            "gridcolor": "white",
            "linecolor": "white",
            "ticks": ""
           },
           "bgcolor": "#E5ECF6",
           "caxis": {
            "gridcolor": "white",
            "linecolor": "white",
            "ticks": ""
           }
          },
          "title": {
           "x": 0.05
          },
          "xaxis": {
           "automargin": true,
           "gridcolor": "white",
           "linecolor": "white",
           "ticks": "",
           "title": {
            "standoff": 15
           },
           "zerolinecolor": "white",
           "zerolinewidth": 2
          },
          "yaxis": {
           "automargin": true,
           "gridcolor": "white",
           "linecolor": "white",
           "ticks": "",
           "title": {
            "standoff": 15
           },
           "zerolinecolor": "white",
           "zerolinewidth": 2
          }
         }
        },
        "title": {
         "text": "Cultural Sites in Top 20 Populous German Cities"
        },
        "xaxis": {
         "anchor": "y",
         "domain": [
          0,
          1
         ],
         "title": {
          "text": "City"
         }
        },
        "yaxis": {
         "anchor": "x",
         "domain": [
          0,
          1
         ],
         "title": {
          "text": "Number of Cultural Sites"
         }
        }
       }
      }
     },
     "metadata": {},
     "output_type": "display_data"
    }
   ],
   "source": [
    "top_20_cities_german = german_cities.orderBy(\"Population\", ascending=False).limit(20)\n",
    "city_names = top_20_cities_german.select(\"CityName\").collect()\n",
    "cultural_sites = top_20_cities_german.select(\"CulturalSites\").collect()\n",
    "city_names = [row.CityName for row in city_names]\n",
    "cultural_sites = [row.CulturalSites for row in cultural_sites]\n",
    "data_dict = {'CityName': city_names, 'CulturalSites': cultural_sites}\n",
    "df = pd.DataFrame(data_dict)\n",
    "fig = px.bar(df, x=\"CityName\", y=\"CulturalSites\",\n",
    "             title=\"Cultural Sites in Top 20 Populous German Cities\")\n",
    "fig.update_layout(xaxis_title=\"City\", yaxis_title=\"Number of Cultural Sites\")\n",
    "fig.show()"
   ]
  }
 ],
 "metadata": {
  "kernelspec": {
   "display_name": "Python 3 (ipykernel)",
   "language": "python",
   "name": "python3"
  },
  "language_info": {
   "codemirror_mode": {
    "name": "ipython",
    "version": 3
   },
   "file_extension": ".py",
   "mimetype": "text/x-python",
   "name": "python",
   "nbconvert_exporter": "python",
   "pygments_lexer": "ipython3",
   "version": "3.10.6"
  }
 },
 "nbformat": 4,
 "nbformat_minor": 5
}

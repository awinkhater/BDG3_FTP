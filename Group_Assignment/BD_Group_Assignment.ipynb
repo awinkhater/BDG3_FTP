{
 "cells": [
  {
   "cell_type": "code",
   "execution_count": 3,
   "id": "81e612ce",
   "metadata": {},
   "outputs": [],
   "source": [
    "#Where we Import \n",
    "from pyspark.sql.functions import col, lit, expr, when, to_timestamp\n",
    "from pyspark.sql.types import *\n",
    "from datetime import datetime\n",
    "import time\n",
    "import pyspark\n",
    "from pyspark.sql import SparkSession\n",
    "import random\n",
    "import string\n",
    "import pandas as pd\n",
    "from pyspark.sql.functions import avg"
   ]
  },
  {
   "cell_type": "code",
   "execution_count": 2,
   "id": "ddee28e3",
   "metadata": {},
   "outputs": [],
   "source": [
    "##+===========================================================SET DATASETLENGTH HERE!!!\n",
    "DataLength=1000000"
   ]
  },
  {
   "cell_type": "code",
   "execution_count": 3,
   "id": "28a9327d",
   "metadata": {},
   "outputs": [],
   "source": [
    "#ORIGINAL DATASETS\n",
    "#German Cities Data\n",
    "german_cities_data = {\n",
    "    \"CityID\": [1, 2, 3, 4, 5],\n",
    "    \"CityName\": [\"Berlin\", \"Hamburg\", \"Munich\", \"Cologne\", \"Frankfurt\"],\n",
    "    \"Population\": [3520000, 1790000, 1450000, 1060000, 733000],\n",
    "    \"Area\": [891.3, 755.2, 310.7, 405.15, 500],\n",
    "    \"CulturalSites\": [7, 6, 3, 5, 3]  \n",
    "}\n",
    "\n",
    "# French Cities Data\n",
    "french_cities_data = {\n",
    "    \"CityID\": [1, 2, 3, 4, 5],\n",
    "    \"CityName\": [\"Paris\", \"Marseille\", \"Lyon\", \"Toulouse\", \"Nice\"],\n",
    "    \"Population\": [2250000, 851000, 491000, 447000, 344000],\n",
    "    \"Area\": [250, 240.6, 47.87, 118.3, 71.9],      \n",
    "    \"CulturalSites\": [7, 7, 1, 4, 3]\n",
    "}"
   ]
  },
  {
   "cell_type": "code",
   "execution_count": 5,
   "id": "77c073f9",
   "metadata": {},
   "outputs": [],
   "source": [
    "\n",
    "# Function to generate random city name\n",
    "def generate_city_name(length):\n",
    "    letters = string.ascii_letters\n",
    "    return ''.join(random.choice(letters) for i in range(length))\n",
    "\n",
    "# Function to generate random data for cities\n",
    "def generate_city_data(num_cities):\n",
    "    cities_data = []\n",
    "    for i in range(num_cities):\n",
    "        city_name = generate_city_name(random.randint(4, 6))\n",
    "        population = random.randint(350, 5000000)\n",
    "        area = round(random.uniform(170, 5000), 2)\n",
    "        tourist_visits = random.randint(3000000, 6000000)\n",
    "        cultural_sites = random.randint(2, 7)\n",
    "        cities_data.append({\n",
    "            \"CityID\": i + 1,\n",
    "            \"CityName\": city_name,\n",
    "            \"Population\": population,\n",
    "            \"Area\": area,\n",
    "            \"TouristVisits\": tourist_visits,\n",
    "            \"CulturalSites\": cultural_sites\n",
    "        })\n",
    "    return cities_data\n",
    "\n"
   ]
  },
  {
   "cell_type": "code",
   "execution_count": 6,
   "id": "2ada3f00",
   "metadata": {},
   "outputs": [],
   "source": [
    "# # Augment premade German cities data\n",
    "#This all just adds the random data to the premade dataframes\n",
    "# german_cities_augmented = german_cities_data.copy()\n",
    "# german_cities_augmented[\"CityID\"].extend(range(6, DataLength+6))\n",
    "# german_cities_augmented[\"CityName\"].extend([city_data[\"CityName\"] for city_data in generate_city_data(DataLength)])\n",
    "# german_cities_augmented[\"Population\"].extend([city_data[\"Population\"] for city_data in generate_city_data(DataLength)])\n",
    "# german_cities_augmented[\"Area\"].extend([city_data[\"Area\"] for city_data in generate_city_data(DataLength)])\n",
    "# german_cities_augmented[\"CulturalSites\"].extend([city_data[\"CulturalSites\"] for city_data in generate_city_data(DataLength)])\n",
    "\n",
    "# # Augment premade French cities data\n",
    "# french_cities_augmented = french_cities_data.copy()\n",
    "# french_cities_augmented[\"CityID\"].extend(range(6, DataLength+6))\n",
    "# french_cities_augmented[\"CityName\"].extend([city_data[\"CityName\"] for city_data in generate_city_data(DataLength)])\n",
    "# french_cities_augmented[\"Population\"].extend([city_data[\"Population\"] for city_data in generate_city_data(DataLength)])\n",
    "# french_cities_augmented[\"Area\"].extend([city_data[\"Area\"] for city_data in generate_city_data(DataLength)])\n",
    "# french_cities_augmented[\"CulturalSites\"].extend([city_data[\"CulturalSites\"] for city_data in generate_city_data(DataLength)])\n"
   ]
  },
  {
   "cell_type": "code",
   "execution_count": null,
   "id": "8192c044",
   "metadata": {},
   "outputs": [],
   "source": [
    "# #MAKE DATAFRAMES using pandas \n",
    "# df_german_cities = pd.DataFrame(german_cities_data)\n",
    "# df_french_cities = pd.DataFrame(french_cities_data)"
   ]
  },
  {
   "cell_type": "code",
   "execution_count": 7,
   "id": "deb1f21d",
   "metadata": {},
   "outputs": [],
   "source": [
    "# # Save to CSV files: ===================== !GRADER YOU WILL NEED TO UNCOMMENT THIS TO RUN CODE ON YOUR MACHINE!\n",
    "\n",
    "# df_german_cities.to_csv('german_cities.csv', index=False)\n",
    "# df_french_cities.to_csv('french_cities.csv', index=False) "
   ]
  },
  {
   "cell_type": "code",
   "execution_count": 1,
   "id": "0bbf5a70",
   "metadata": {},
   "outputs": [],
   "source": [
    "#Calling the paths to the saved Dataframes\n",
    "frenchpath=r\"french_cities.csv\"\n",
    "Germpath=r\"german_cities.csv\""
   ]
  },
  {
   "cell_type": "code",
   "execution_count": 4,
   "id": "fd712070",
   "metadata": {},
   "outputs": [
    {
     "name": "stderr",
     "output_type": "stream",
     "text": [
      "24/04/12 23:16:02 WARN Utils: Your hostname, Charans-MacBook-Pro.local resolves to a loopback address: 127.0.0.1; using 10.0.0.67 instead (on interface en0)\n",
      "24/04/12 23:16:02 WARN Utils: Set SPARK_LOCAL_IP if you need to bind to another address\n",
      "Setting default log level to \"WARN\".\n",
      "To adjust logging level use sc.setLogLevel(newLevel). For SparkR, use setLogLevel(newLevel).\n",
      "24/04/12 23:16:02 WARN NativeCodeLoader: Unable to load native-hadoop library for your platform... using builtin-java classes where applicable\n"
     ]
    }
   ],
   "source": [
    "#Establishing A spark Session\n",
    "spark = SparkSession.builder \\\n",
    "    .appName(\"Assignment 1\") \\\n",
    "    .getOrCreate()"
   ]
  },
  {
   "cell_type": "code",
   "execution_count": 5,
   "id": "f510da6e",
   "metadata": {},
   "outputs": [],
   "source": [
    "#This will set and apply a schema for the French Cities dataset\n",
    "F_schema = StructType([\n",
    "    StructField(\"CityID\", IntegerType(), nullable=False),\n",
    "    StructField(\"CityName\", StringType(), nullable=False),\n",
    "    StructField(\"Population\", IntegerType(), nullable=False),\n",
    "    StructField(\"Area\", DoubleType(), nullable=False),\n",
    "    StructField(\"CulturalSites\", IntegerType(), nullable=False)\n",
    "])\n",
    "\n",
    "french_cities = spark.read.format(\"csv\").load(frenchpath, schema=F_schema)"
   ]
  },
  {
   "cell_type": "code",
   "execution_count": 6,
   "id": "94b84741",
   "metadata": {},
   "outputs": [
    {
     "name": "stderr",
     "output_type": "stream",
     "text": [
      "24/04/12 23:16:15 WARN GarbageCollectionMetrics: To enable non-built-in garbage collector(s) List(G1 Concurrent GC), users should configure it(them) to spark.eventLog.gcMetrics.youngGenerationGarbageCollectors or spark.eventLog.gcMetrics.oldGenerationGarbageCollectors\n"
     ]
    }
   ],
   "source": [
    "#This will set a schema for the German Cities Dataset\n",
    "G_schema = StructType([\n",
    "    StructField(\"CityID\", IntegerType(), nullable=False),\n",
    "    StructField(\"CityName\", StringType(), nullable=False),\n",
    "    StructField(\"Population\", IntegerType(), nullable=False),\n",
    "    StructField(\"Area\", DoubleType(), nullable=False),\n",
    "    StructField(\"CulturalSites\", IntegerType(), nullable=False)\n",
    "])\n",
    "\n",
    "german_cities = spark.read.format(\"csv\").load(Germpath, schema=G_schema)"
   ]
  },
  {
   "cell_type": "code",
   "execution_count": 7,
   "id": "88aff586",
   "metadata": {},
   "outputs": [],
   "source": [
    "#This is just to drop the first row of each dataframe which for some reason is just the column names and null values\n",
    "german_cities=german_cities.dropna()\n",
    "french_cities=french_cities.dropna()"
   ]
  },
  {
   "cell_type": "code",
   "execution_count": 8,
   "id": "904d7499",
   "metadata": {},
   "outputs": [
    {
     "name": "stdout",
     "output_type": "stream",
     "text": [
      "+--------+-------+----------+\n",
      "|CityName|   Area|Population|\n",
      "+--------+-------+----------+\n",
      "|    Brpk| 5000.0|    191432|\n",
      "|    ZimV|4999.98|   3390964|\n",
      "|  cBgzzc|4999.98|   1289866|\n",
      "|  AteeRA|4999.98|   1671934|\n",
      "|    MAqq|4999.98|   3186545|\n",
      "|  fKfxif|4999.96|   1210617|\n",
      "|   HpzNW|4999.95|   3627489|\n",
      "|    Iuww|4999.95|   2500533|\n",
      "|  HYUuaO|4999.94|   2027121|\n",
      "|   foZww|4999.94|   4023043|\n",
      "|   BCEeu|4999.94|    939649|\n",
      "|    drFn|4999.94|   4974197|\n",
      "|    Mycw|4999.93|   3362677|\n",
      "|    ENaA|4999.92|   2308746|\n",
      "|   tnOVK|4999.92|   1104528|\n",
      "|  sVBbsm|4999.91|   4239354|\n",
      "|   CJowj|4999.91|   3651452|\n",
      "|  qIObjO| 4999.9|   2416419|\n",
      "|   cwoBa|4999.89|   3540298|\n",
      "|   sFqMf|4999.89|   1819157|\n",
      "+--------+-------+----------+\n",
      "only showing top 20 rows\n",
      "\n",
      "+--------+-------+----------+\n",
      "|CityName|   Area|Population|\n",
      "+--------+-------+----------+\n",
      "|  GbmkVy| 5000.0|    185132|\n",
      "|   KThrN| 5000.0|   4646191|\n",
      "|    NNzT| 5000.0|   3565660|\n",
      "|  duXZXo|4999.98|   1342306|\n",
      "|    DkIJ|4999.98|   4201978|\n",
      "|  awYDYU|4999.98|    580237|\n",
      "|   zdbHU|4999.97|   3510437|\n",
      "|   MLClU|4999.96|   4136442|\n",
      "|    KwQn|4999.95|   2297543|\n",
      "|  yrnqFV|4999.95|   1593418|\n",
      "|   Fsmip|4999.95|   2924149|\n",
      "|   UwSme|4999.95|    993887|\n",
      "|   SsZnJ|4999.94|    599212|\n",
      "|   elAhO|4999.93|    602479|\n",
      "|  diPLFA|4999.92|   4330032|\n",
      "|   uyaIu|4999.92|   1391896|\n",
      "|    EXkW|4999.92|   3549439|\n",
      "|    xQqX|4999.92|   3462839|\n",
      "|   kfuiv|4999.91|   2225091|\n",
      "|    uYzZ| 4999.9|   2979002|\n",
      "+--------+-------+----------+\n",
      "only showing top 20 rows\n",
      "\n"
     ]
    }
   ],
   "source": [
    "#ALEX Q2\n",
    "#Pyspark Dataframe Operation\n",
    "#Here we are selecting both data frames and ordering them by area. \n",
    "#We can see French cities are a bit larger by area\n",
    "germ_city_sizes = german_cities.select(\"CityName\", \"Area\", \"Population\").orderBy(col(\"Area\").desc()).show()\n",
    "french_city_sizes = french_cities.select(\"CityName\", \"Area\", \"Population\").orderBy(col(\"Area\").desc()).show()\n",
    "#============================================"
   ]
  },
  {
   "cell_type": "code",
   "execution_count": 10,
   "id": "e133ec0a",
   "metadata": {},
   "outputs": [
    {
     "name": "stdout",
     "output_type": "stream",
     "text": [
      "+--------+-------+----------+\n",
      "|CityName|   Area|Population|\n",
      "+--------+-------+----------+\n",
      "|    Brpk| 5000.0|    191432|\n",
      "|  cBgzzc|4999.98|   1289866|\n",
      "|    ZimV|4999.98|   3390964|\n",
      "|  AteeRA|4999.98|   1671934|\n",
      "|    MAqq|4999.98|   3186545|\n",
      "|  fKfxif|4999.96|   1210617|\n",
      "|   HpzNW|4999.95|   3627489|\n",
      "|    Iuww|4999.95|   2500533|\n",
      "|  HYUuaO|4999.94|   2027121|\n",
      "|   BCEeu|4999.94|    939649|\n",
      "|   foZww|4999.94|   4023043|\n",
      "|    drFn|4999.94|   4974197|\n",
      "|    Mycw|4999.93|   3362677|\n",
      "|   tnOVK|4999.92|   1104528|\n",
      "|    ENaA|4999.92|   2308746|\n",
      "|  sVBbsm|4999.91|   4239354|\n",
      "|   CJowj|4999.91|   3651452|\n",
      "|  qIObjO| 4999.9|   2416419|\n",
      "|   cwoBa|4999.89|   3540298|\n",
      "|   sFqMf|4999.89|   1819157|\n",
      "+--------+-------+----------+\n",
      "only showing top 20 rows\n",
      "\n",
      "+--------+-------+----------+\n",
      "|CityName|   Area|Population|\n",
      "+--------+-------+----------+\n",
      "|  GbmkVy| 5000.0|    185132|\n",
      "|   KThrN| 5000.0|   4646191|\n",
      "|    NNzT| 5000.0|   3565660|\n",
      "|  duXZXo|4999.98|   1342306|\n",
      "|    DkIJ|4999.98|   4201978|\n",
      "|  awYDYU|4999.98|    580237|\n",
      "|   zdbHU|4999.97|   3510437|\n",
      "|   MLClU|4999.96|   4136442|\n",
      "|    KwQn|4999.95|   2297543|\n",
      "|  yrnqFV|4999.95|   1593418|\n",
      "|   Fsmip|4999.95|   2924149|\n",
      "|   UwSme|4999.95|    993887|\n",
      "|   SsZnJ|4999.94|    599212|\n",
      "|   elAhO|4999.93|    602479|\n",
      "|  diPLFA|4999.92|   4330032|\n",
      "|   uyaIu|4999.92|   1391896|\n",
      "|    EXkW|4999.92|   3549439|\n",
      "|    xQqX|4999.92|   3462839|\n",
      "|   kfuiv|4999.91|   2225091|\n",
      "|    uYzZ| 4999.9|   2979002|\n",
      "+--------+-------+----------+\n",
      "only showing top 20 rows\n",
      "\n"
     ]
    }
   ],
   "source": [
    "#Alex Q2\n",
    "#SQL Version\n",
    "#Making temp views so I can use SQL\n",
    "german_cities.createOrReplaceTempView(\"german_cities\")\n",
    "french_cities.createOrReplaceTempView(\"french_cities\")\n",
    "\n",
    "# German City Call\n",
    "germ_city_sizes = spark.sql(\"\"\"\n",
    "    \n",
    "    SELECT CityName, Area, Population \n",
    "    FROM german_cities \n",
    "    ORDER BY Area DESC\n",
    "\n",
    "\"\"\")\n",
    "germ_city_sizes.show()\n",
    "\n",
    "#French City Call\n",
    "french_city_sizes = spark.sql(\"\"\"\n",
    "    \n",
    "    SELECT CityName, Area, Population \n",
    "    FROM french_cities \n",
    "    ORDER BY Area DESC\n",
    "\n",
    "\"\"\")\n",
    "\n",
    "# Show the result for French cities\n",
    "french_city_sizes.show()"
   ]
  },
  {
   "cell_type": "code",
   "execution_count": 17,
   "id": "e0f4745e",
   "metadata": {},
   "outputs": [
    {
     "name": "stdout",
     "output_type": "stream",
     "text": [
      "+--------------+--------------+-------------------+------------------+\n",
      "|GermanCityName|FrenchCityName|PopulationInGermany|PopulationInFrance|\n",
      "+--------------+--------------+-------------------+------------------+\n",
      "|         CeJaQ|          AQWJ|            1525166|            349950|\n",
      "|         yPGeN|          Arrm|            3898854|           1533884|\n",
      "|         BqIqF|        YpXVTA|            2626349|           1677669|\n",
      "|        oPMhti|         iCIMy|            2258897|           1116640|\n",
      "|         Gqdcx|         Ppsnh|            4242141|            634336|\n",
      "|         UTtDu|          fwNW|            4090958|           1363893|\n",
      "|         tIutr|          DEsQ|             446469|           2698268|\n",
      "|         TWbMl|        ubPgas|            3580731|           3269319|\n",
      "|         kYnhs|        bbpzqc|            4848747|           1554811|\n",
      "|         DPBao|          Rovt|             311835|           2657302|\n",
      "|        cVYwaO|         QxElg|            4181455|           1303426|\n",
      "|         PFwbY|        OcgZLL|             667934|           1906471|\n",
      "|         yugSe|         yqPAN|             147629|           4226899|\n",
      "|          CjDj|          Xqjr|            4353703|           4622090|\n",
      "|         ogzIT|        wHzKXB|             216939|            671899|\n",
      "|         HFOnE|          VneL|            1345457|           4164036|\n",
      "|          Lszg|          qvmt|            2713054|           1789120|\n",
      "|        oLhbzA|          dGlw|            1233297|           3009773|\n",
      "|          CLxy|         oRgKT|            2501422|           2244557|\n",
      "|         cXcdh|          tMDn|             634392|           1589584|\n",
      "+--------------+--------------+-------------------+------------------+\n",
      "only showing top 20 rows\n",
      "\n"
     ]
    },
    {
     "name": "stderr",
     "output_type": "stream",
     "text": [
      "                                                                                \r"
     ]
    }
   ],
   "source": [
    "#Q5 Charan\n",
    "full_outer_join_df = german_cities.join(french_cities, \"CityID\", \"full_outer\")\\\n",
    "                                   .select(german_cities[\"CityName\"].alias(\"GermanCityName\"),\n",
    "                                           french_cities[\"CityName\"].alias(\"FrenchCityName\"),\n",
    "                                           german_cities[\"Population\"].alias(\"PopulationInGermany\"),\n",
    "                                           french_cities[\"Population\"].alias(\"PopulationInFrance\"))\n",
    "\n",
    "# Show the combined DataFrame\n",
    "full_outer_join_df.show()\n"
   ]
  },
  {
   "cell_type": "code",
   "execution_count": 16,
   "id": "b1492557",
   "metadata": {},
   "outputs": [
    {
     "name": "stdout",
     "output_type": "stream",
     "text": [
      "+--------------+--------------+-------------------+------------------+\n",
      "|GermanCityName|FrenchCityName|PopulationInGermany|PopulationInFrance|\n",
      "+--------------+--------------+-------------------+------------------+\n",
      "|         CeJaQ|          AQWJ|            1525166|            349950|\n",
      "|         yPGeN|          Arrm|            3898854|           1533884|\n",
      "|         BqIqF|        YpXVTA|            2626349|           1677669|\n",
      "|        oPMhti|         iCIMy|            2258897|           1116640|\n",
      "|         Gqdcx|         Ppsnh|            4242141|            634336|\n",
      "|         UTtDu|          fwNW|            4090958|           1363893|\n",
      "|         tIutr|          DEsQ|             446469|           2698268|\n",
      "|         TWbMl|        ubPgas|            3580731|           3269319|\n",
      "|         kYnhs|        bbpzqc|            4848747|           1554811|\n",
      "|         DPBao|          Rovt|             311835|           2657302|\n",
      "|        cVYwaO|         QxElg|            4181455|           1303426|\n",
      "|         PFwbY|        OcgZLL|             667934|           1906471|\n",
      "|         yugSe|         yqPAN|             147629|           4226899|\n",
      "|          CjDj|          Xqjr|            4353703|           4622090|\n",
      "|         ogzIT|        wHzKXB|             216939|            671899|\n",
      "|         HFOnE|          VneL|            1345457|           4164036|\n",
      "|          Lszg|          qvmt|            2713054|           1789120|\n",
      "|        oLhbzA|          dGlw|            1233297|           3009773|\n",
      "|          CLxy|         oRgKT|            2501422|           2244557|\n",
      "|         cXcdh|          tMDn|             634392|           1589584|\n",
      "+--------------+--------------+-------------------+------------------+\n",
      "only showing top 20 rows\n",
      "\n"
     ]
    },
    {
     "name": "stderr",
     "output_type": "stream",
     "text": [
      "                                                                                \r"
     ]
    }
   ],
   "source": [
    "#Q5 SQL\n",
    "# SQL Query to perform full outer join \n",
    "query = \"\"\"\n",
    "SELECT \n",
    "    g.CityName AS GermanCityName,\n",
    "    f.CityName AS FrenchCityName,\n",
    "    g.Population AS PopulationInGermany,\n",
    "    f.Population AS PopulationInFrance\n",
    "FROM german_cities g\n",
    "FULL OUTER JOIN french_cities f ON g.CityID = f.CityID\n",
    "\"\"\"\n",
    "\n",
    "# Execute the SQL query using Spark SQL\n",
    "full_outer_join_df = spark.sql(query)\n",
    "\n",
    "# Show the results of the SQL query\n",
    "full_outer_join_df.show()\n"
   ]
  },
  {
   "cell_type": "code",
   "execution_count": 25,
   "id": "4b5a052f",
   "metadata": {},
   "outputs": [
    {
     "name": "stdout",
     "output_type": "stream",
     "text": [
      "Germany\n",
      "+----------+------------------+------------------+-----------------+\n",
      "|Avg_CityID|    Avg_Population|          Avg_Area|Avg_CulturalSites|\n",
      "+----------+------------------+------------------+-----------------+\n",
      "|  500003.0|2499948.9589232053|2585.7041581891945|4.499701501492493|\n",
      "+----------+------------------+------------------+-----------------+\n",
      "\n",
      "France\n",
      "+----------+------------------+------------------+-----------------+\n",
      "|Avg_CityID|    Avg_Population|          Avg_Area|Avg_CulturalSites|\n",
      "+----------+------------------+------------------+-----------------+\n",
      "|  500003.0|2499667.3588442057|2584.0123058284817| 4.50078249608752|\n",
      "+----------+------------------+------------------+-----------------+\n",
      "\n"
     ]
    }
   ],
   "source": [
    "#ALEX Q6\n",
    "#Pyspark Dataframe operation\n",
    "#For this question I am using\n",
    "print(\"Germany\")\n",
    "german_cities.select(\n",
    "    avg(\"CityID\").alias(\"Avg_CityID\"),\n",
    "    avg(\"Population\").alias(\"Avg_Population\"),\n",
    "    avg(\"Area\").alias(\"Avg_Area\"),\n",
    "    avg(\"CulturalSites\").alias(\"Avg_CulturalSites\")\n",
    ").show()\n",
    "\n",
    "print(\"France\")\n",
    "french_cities.select(\n",
    "    avg(\"CityID\").alias(\"Avg_CityID\"),\n",
    "    avg(\"Population\").alias(\"Avg_Population\"),\n",
    "    avg(\"Area\").alias(\"Avg_Area\"),\n",
    "    avg(\"CulturalSites\").alias(\"Avg_CulturalSites\")\n",
    ").show()\n",
    "\n",
    "\n",
    "#As we can see they are similar sizes, with Germany having slightly more cultural sites and population\n",
    "#This makes sense that both would be similar as they are randomly generated via the same parameters\n"
   ]
  },
  {
   "cell_type": "code",
   "execution_count": 29,
   "id": "2bc17c00",
   "metadata": {},
   "outputs": [
    {
     "name": "stdout",
     "output_type": "stream",
     "text": [
      "+----------+------------------+------------------+-----------------+\n",
      "|Avg_CityID|    Avg_Population|          Avg_Area|Avg_CulturalSites|\n",
      "+----------+------------------+------------------+-----------------+\n",
      "|  500003.0|2499948.9589232053|2585.7041581891945|4.499701501492493|\n",
      "+----------+------------------+------------------+-----------------+\n",
      "\n",
      "+----------+------------------+------------------+-----------------+\n",
      "|Avg_CityID|    Avg_Population|          Avg_Area|Avg_CulturalSites|\n",
      "+----------+------------------+------------------+-----------------+\n",
      "|  500003.0|2499667.3588442057|2584.0123058284817| 4.50078249608752|\n",
      "+----------+------------------+------------------+-----------------+\n",
      "\n"
     ]
    }
   ],
   "source": [
    "#Alex Q6\n",
    "#SQL Version\n",
    "\n",
    "#Using the previously created views in Q2\n",
    "#German query\n",
    "avg_german_stats = spark.sql(\"\"\"\n",
    "    \n",
    "    SELECT AVG(CityID) AS Avg_CityID,\n",
    "           AVG(Population) AS Avg_Population,\n",
    "           AVG(Area) AS Avg_Area,\n",
    "           AVG(CulturalSites) AS Avg_CulturalSites\n",
    "    FROM german_cities\n",
    "    \n",
    "\"\"\")\n",
    "\n",
    "avg_german_stats.show()\n",
    "\n",
    "# French Query\n",
    "avg_french_stats = spark.sql(\"\"\"\n",
    "\n",
    "    SELECT AVG(CityID) AS Avg_CityID,\n",
    "           AVG(Population) AS Avg_Population,\n",
    "           AVG(Area) AS Avg_Area,\n",
    "           AVG(CulturalSites) AS Avg_CulturalSites\n",
    "    FROM french_cities\n",
    "    \n",
    "\"\"\")\n",
    "avg_french_stats.show()\n"
   ]
  },
  {
   "cell_type": "code",
   "execution_count": null,
   "id": "18d6f5ae",
   "metadata": {},
   "outputs": [],
   "source": []
  }
 ],
 "metadata": {
  "kernelspec": {
   "display_name": "Python 3 (ipykernel)",
   "language": "python",
   "name": "python3"
  },
  "language_info": {
   "codemirror_mode": {
    "name": "ipython",
    "version": 3
   },
   "file_extension": ".py",
   "mimetype": "text/x-python",
   "name": "python",
   "nbconvert_exporter": "python",
   "pygments_lexer": "ipython3",
   "version": "3.11.4"
  }
 },
 "nbformat": 4,
 "nbformat_minor": 5
}

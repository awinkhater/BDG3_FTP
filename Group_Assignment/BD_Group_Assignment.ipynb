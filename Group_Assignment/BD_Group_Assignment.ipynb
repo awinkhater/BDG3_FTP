{
 "cells": [
  {
   "cell_type": "code",
   "execution_count": 124,
   "id": "81e612ce",
   "metadata": {},
   "outputs": [],
   "source": [
    "#Where we Import \n",
    "from pyspark.sql.functions import col, lit, expr, when, to_timestamp\n",
    "from pyspark.sql.types import *\n",
    "from datetime import datetime\n",
    "import time\n",
    "import pyspark\n",
    "from pyspark.sql import SparkSession\n",
    "import random\n",
    "import string\n",
    "import pandas as pd\n",
    "from pyspark.sql.functions import avg\n",
    "import plotly.express as px\n",
    "import pandas as pd\n",
    "import numpy as np\n",
    "import time"
   ]
  },
  {
   "cell_type": "code",
   "execution_count": 125,
   "id": "ddee28e3",
   "metadata": {},
   "outputs": [],
   "source": [
    "#ALEX Q1\n",
    "##+===========================================================SET DATASETLENGTH HERE!!!\n",
    "DataLength=1000000"
   ]
  },
  {
   "cell_type": "code",
   "execution_count": 126,
   "id": "28a9327d",
   "metadata": {},
   "outputs": [],
   "source": [
    "#ALEX Q1\n",
    "\n",
    "#Reading the original Raw city dataframes, found from the internet.\n",
    "#They contain names of cities and population.\n",
    "OG_F_path=r\"C:\\Users\\alexw\\Desktop\\BDG3_FTP\\OG_French_Cities.csv\"\n",
    "OG_G_path=r\"C:\\Users\\alexw\\Desktop\\BDG3_FTP\\OG_German_Cities.csv\"\n",
    "dfF=pd.read_csv(OG_F_path)\n",
    "dfG=pd.read_csv(OG_G_path)\n",
    "#Renaming Cities to City\n",
    "dfF.rename(columns={'cities': 'city'}, inplace=True)"
   ]
  },
  {
   "cell_type": "code",
   "execution_count": 127,
   "id": "860340c6",
   "metadata": {},
   "outputs": [
    {
     "data": {
      "text/html": [
       "<div>\n",
       "<style scoped>\n",
       "    .dataframe tbody tr th:only-of-type {\n",
       "        vertical-align: middle;\n",
       "    }\n",
       "\n",
       "    .dataframe tbody tr th {\n",
       "        vertical-align: top;\n",
       "    }\n",
       "\n",
       "    .dataframe thead th {\n",
       "        text-align: right;\n",
       "    }\n",
       "</style>\n",
       "<table border=\"1\" class=\"dataframe\">\n",
       "  <thead>\n",
       "    <tr style=\"text-align: right;\">\n",
       "      <th></th>\n",
       "      <th>city</th>\n",
       "      <th>population</th>\n",
       "    </tr>\n",
       "  </thead>\n",
       "  <tbody>\n",
       "    <tr>\n",
       "      <th>0</th>\n",
       "      <td>Aast</td>\n",
       "      <td>1347387</td>\n",
       "    </tr>\n",
       "    <tr>\n",
       "      <th>1</th>\n",
       "      <td>Abainville</td>\n",
       "      <td>912312</td>\n",
       "    </tr>\n",
       "    <tr>\n",
       "      <th>2</th>\n",
       "      <td>Abancourt</td>\n",
       "      <td>870664</td>\n",
       "    </tr>\n",
       "    <tr>\n",
       "      <th>3</th>\n",
       "      <td>Abancourt</td>\n",
       "      <td>1666354</td>\n",
       "    </tr>\n",
       "    <tr>\n",
       "      <th>4</th>\n",
       "      <td>Abaucourt</td>\n",
       "      <td>839601</td>\n",
       "    </tr>\n",
       "  </tbody>\n",
       "</table>\n",
       "</div>"
      ],
      "text/plain": [
       "         city  population\n",
       "0        Aast     1347387\n",
       "1  Abainville      912312\n",
       "2   Abancourt      870664\n",
       "3   Abancourt     1666354\n",
       "4   Abaucourt      839601"
      ]
     },
     "execution_count": 127,
     "metadata": {},
     "output_type": "execute_result"
    }
   ],
   "source": [
    "#ALEX Q1\n",
    "#Checking the original French set out\n",
    "\n",
    "\n",
    "dfF.head()\n"
   ]
  },
  {
   "cell_type": "code",
   "execution_count": 128,
   "id": "91547486",
   "metadata": {},
   "outputs": [
    {
     "data": {
      "text/html": [
       "<div>\n",
       "<style scoped>\n",
       "    .dataframe tbody tr th:only-of-type {\n",
       "        vertical-align: middle;\n",
       "    }\n",
       "\n",
       "    .dataframe tbody tr th {\n",
       "        vertical-align: top;\n",
       "    }\n",
       "\n",
       "    .dataframe thead th {\n",
       "        text-align: right;\n",
       "    }\n",
       "</style>\n",
       "<table border=\"1\" class=\"dataframe\">\n",
       "  <thead>\n",
       "    <tr style=\"text-align: right;\">\n",
       "      <th></th>\n",
       "      <th>city</th>\n",
       "      <th>population</th>\n",
       "    </tr>\n",
       "  </thead>\n",
       "  <tbody>\n",
       "    <tr>\n",
       "      <th>0</th>\n",
       "      <td>Berlin</td>\n",
       "      <td>3644826.0</td>\n",
       "    </tr>\n",
       "    <tr>\n",
       "      <th>1</th>\n",
       "      <td>Hamburg</td>\n",
       "      <td>1841179.0</td>\n",
       "    </tr>\n",
       "    <tr>\n",
       "      <th>2</th>\n",
       "      <td>Munich</td>\n",
       "      <td>1471508.0</td>\n",
       "    </tr>\n",
       "    <tr>\n",
       "      <th>3</th>\n",
       "      <td>Cologne</td>\n",
       "      <td>1085664.0</td>\n",
       "    </tr>\n",
       "    <tr>\n",
       "      <th>4</th>\n",
       "      <td>Frankfurt</td>\n",
       "      <td>753056.0</td>\n",
       "    </tr>\n",
       "  </tbody>\n",
       "</table>\n",
       "</div>"
      ],
      "text/plain": [
       "        city  population\n",
       "0     Berlin   3644826.0\n",
       "1    Hamburg   1841179.0\n",
       "2     Munich   1471508.0\n",
       "3    Cologne   1085664.0\n",
       "4  Frankfurt    753056.0"
      ]
     },
     "execution_count": 128,
     "metadata": {},
     "output_type": "execute_result"
    }
   ],
   "source": [
    "#Checking the original German set out:\n",
    "dfG.head()\n"
   ]
  },
  {
   "cell_type": "code",
   "execution_count": 129,
   "id": "4dd14128",
   "metadata": {},
   "outputs": [],
   "source": [
    "#ALEX Q1\n",
    "# # GRADER YOU WILL NEED TO UNCOMMENT THIS TO RUN CODE ON YOUR MACHINE!\n",
    "\n",
    "# #GENERATING RANDOM CITY NAMES\n",
    "# #French cities will end with 'ville'\n",
    "# #German cities will end with 'burg'\n",
    "# def generate_city_name(suffix):\n",
    "#     return ''.join(np.random.choice(list('abcdefghijklmnopqrstuvwxyz'), np.random.randint(4, 7))) + suffix\n",
    "\n",
    "# # This function makes random population within the range of existing df's population\n",
    "# def generate_population():\n",
    "#     return np.random.randint(0, 4000000)\n",
    "\n",
    "# #I commented all this because it is unnecessary after the final dataset is made\n",
    "# #It takes A LONG TIME to run\n",
    "\n",
    "# # Adding French cities\n",
    "# additional_data_F = pd.DataFrame({\n",
    "#     'city': [generate_city_name('ville') for _ in range(DataLength)],\n",
    "#     'population': [generate_population() for _ in range(DataLength)]\n",
    "# })\n",
    "\n",
    "# # Adding German cities\n",
    "# additional_data_G = pd.DataFrame({\n",
    "#     'city': [generate_city_name('burg') for _ in range(DataLength)],\n",
    "#     'population': [generate_population() for _ in range(DataLength)]\n",
    "# })\n",
    "\n",
    "# # Concatenate the random data with the original data\n",
    "# dfF_ext = pd.concat([dfF, additional_data_F], ignore_index=True)\n",
    "# dfG_ext = pd.concat([dfG, additional_data_G], ignore_index=True)"
   ]
  },
  {
   "cell_type": "code",
   "execution_count": 131,
   "id": "44c4f9af",
   "metadata": {},
   "outputs": [],
   "source": [
    "#ALEX Q1\n",
    "##!!GRADER YOU WILL NEED TO UNCOMMENT THIS TO RUN CODE ON YOUR MACHINE!\n",
    "# ##This is generating the other columns.\n",
    "\n",
    "\n",
    "# ##The areas are based on actual Km^2 data from the largest cities of the counties (Paris and Berlin)\n",
    "# ##I just made up the cultural sites (:^|\n",
    "# G_Areamin = 20\n",
    "# G_Areamax = 900\n",
    "# F_Areamax=110\n",
    "# F_Areamin=20\n",
    "# cultmin = 0\n",
    "# cultmax = 100\n",
    "\n",
    "# # Function to generate random CityID\n",
    "# def generate_city_id():\n",
    "#     return ''.join(str(np.random.randint(0, 10)) for _ in range(6))\n",
    "\n",
    "# # Generate random values for dfF\n",
    "# dfF_ext['Area'] = np.random.uniform(F_Areamin, F_Areamax, size=len(dfF_ext)).round(2)\n",
    "# dfF_ext['Cultural Sites'] = np.random.randint(cultmin, cultmax, size=len(dfF_ext))\n",
    "# dfF_ext['CityID'] = [generate_city_id() for _ in range(len(dfF_ext))]\n",
    "\n",
    "# # Generate random values for dfG\n",
    "# dfG_ext['Area'] = np.random.uniform(G_Areamin, G_Areamax, size=len(dfG_ext)).round(2)\n",
    "# dfG_ext['Cultural Sites'] = np.random.randint(cultmin, cultmax, size=len(dfG_ext))\n",
    "# dfG_ext['CityID'] = [generate_city_id() for _ in range(len(dfG_ext))]\n"
   ]
  },
  {
   "cell_type": "code",
   "execution_count": 135,
   "id": "9df5b4d6",
   "metadata": {},
   "outputs": [],
   "source": [
    "#ALEX Q1\n",
    "##!GRADER YOU WILL NEED TO UNCOMMENT THIS TO RUN CODE ON YOUR MACHINE!\n",
    "\n",
    "# #Renaming some columns because I generated the data wrong\n",
    "# #FRANCE\n",
    "# dfF_ext.rename(columns={'city': 'CityName'}, inplace=True)\n",
    "# dfF_ext.rename(columns={'population': 'Population'}, inplace=True)\n",
    "# dfF_ext.rename(columns={'Cultural Sites':\"CulturalSites\"}, inplace=True)\n",
    "\n",
    "# #Germany\n",
    "# dfG_ext.rename(columns={'city': 'CityName'}, inplace=True)\n",
    "# dfG_ext.rename(columns={'population': 'Population'}, inplace=True)\n",
    "# dfG_ext.rename(columns={'Cultural Sites':\"CulturalSites\"}, inplace=True)\n",
    "\n",
    "# #For some reasons the German population is double rather than integer so lets fix that\n",
    "# dfG_ext['Population'].fillna(0, inplace=True)\n",
    "# dfG_ext['Population'] = dfG_ext['Population'].astype(int)"
   ]
  },
  {
   "cell_type": "code",
   "execution_count": 137,
   "id": "8192c044",
   "metadata": {},
   "outputs": [],
   "source": [
    "#ALEX Q1\n",
    "# # Save to CSV files: ===================== !GRADER YOU WILL NEED TO UNCOMMENT THIS TO RUN CODE ON YOUR MACHINE!\n",
    "\n",
    "# dfG_ext.to_csv('german_cities.csv', index=False)\n",
    "# dfF_ext.to_csv('french_cities.csv', index=False) "
   ]
  },
  {
   "cell_type": "code",
   "execution_count": 138,
   "id": "0bbf5a70",
   "metadata": {},
   "outputs": [],
   "source": [
    "#ALEX Q1\n",
    "#Calling the paths to the saved Dataframes\n",
    "frenchpath=r\"french_cities.csv\"\n",
    "Germpath=r\"german_cities.csv\""
   ]
  },
  {
   "cell_type": "code",
   "execution_count": 139,
   "id": "fd712070",
   "metadata": {},
   "outputs": [],
   "source": [
    "#Establishing A spark Session\n",
    "spark = SparkSession.builder \\\n",
    "    .appName(\"Assignment 1\") \\\n",
    "    .getOrCreate()"
   ]
  },
  {
   "cell_type": "code",
   "execution_count": 140,
   "id": "f510da6e",
   "metadata": {},
   "outputs": [],
   "source": [
    "#ALEX Q1\n",
    "#This will set and apply a schema for the French Cities dataset\n",
    "F_schema = StructType([\n",
    "    StructField(\"CityName\", StringType(), nullable=False),\n",
    "    StructField(\"Population\", IntegerType(), nullable=False),\n",
    "    StructField(\"Area\", DoubleType(), nullable=False),\n",
    "    StructField(\"CulturalSites\", IntegerType(), nullable=False),\n",
    "    StructField(\"CityID\", IntegerType(), nullable=False),\n",
    "])\n",
    "\n",
    "french_cities = spark.read.format(\"csv\").load(frenchpath, schema=F_schema)"
   ]
  },
  {
   "cell_type": "code",
   "execution_count": 141,
   "id": "94b84741",
   "metadata": {},
   "outputs": [],
   "source": [
    "#ALEX Q1\n",
    "#This will set a schema for the German Cities Dataset\n",
    "G_schema = StructType([\n",
    "    StructField(\"CityName\", StringType(), nullable=False),\n",
    "    StructField(\"Population\", IntegerType(), nullable=False),\n",
    "    StructField(\"Area\", DoubleType(), nullable=False),\n",
    "    StructField(\"CulturalSites\", IntegerType(), nullable=False),\n",
    "    StructField(\"CityID\", IntegerType(), nullable=False),\n",
    "])\n",
    "\n",
    "\n",
    "german_cities = spark.read.format(\"csv\").load(Germpath, schema=G_schema)"
   ]
  },
  {
   "cell_type": "code",
   "execution_count": 146,
   "id": "c40f42a5",
   "metadata": {},
   "outputs": [
    {
     "name": "stdout",
     "output_type": "stream",
     "text": [
      "+----------+----------+------+-------------+------+\n",
      "|  CityName|Population|  Area|CulturalSites|CityID|\n",
      "+----------+----------+------+-------------+------+\n",
      "|    Berlin|   3644826|128.01|           80|741495|\n",
      "|   Hamburg|   1841179|703.15|           65|839935|\n",
      "|    Munich|   1471508|565.96|           72|923454|\n",
      "|   Cologne|   1085664| 70.83|           65|443743|\n",
      "| Frankfurt|    753056|468.15|           21|870108|\n",
      "|    Bremen|    724909|312.68|           78|857508|\n",
      "| Stuttgart|    634830|351.55|            3|660923|\n",
      "|Düsseldorf|    619294|630.07|            0|357511|\n",
      "|  Dortmund|    587010|241.18|           86|492983|\n",
      "|     Essen|    583109|411.48|           29|434642|\n",
      "|   Dresden|    555805|378.03|           12|743702|\n",
      "|   Leipzig|    542529|257.83|           54|984606|\n",
      "|  Hannover|    538068| 301.7|           50|929813|\n",
      "| Nuremberg|    518365|853.29|           27|532105|\n",
      "|  Duisburg|    498590|526.99|           40|237135|\n",
      "|    Bochum|    364628|726.35|           85| 35023|\n",
      "| Wuppertal|    354382|461.13|            0|139108|\n",
      "| Bielefeld|    333786|850.52|           55|463827|\n",
      "|      Bonn|    327258|572.81|           44|962137|\n",
      "|   Münster|    314319|862.54|           92|951634|\n",
      "+----------+----------+------+-------------+------+\n",
      "only showing top 20 rows\n",
      "\n"
     ]
    }
   ],
   "source": [
    "#ALEX Q1\n",
    "#Double checking that it all worked\n",
    "#This is just to drop the first row of each dataframe which for some reason is just the column names and null values\n",
    "german_cities=german_cities.dropna()\n",
    "french_cities=french_cities.dropna()\n",
    "#Show german_cities\n",
    "german_cities.show()"
   ]
  },
  {
   "cell_type": "code",
   "execution_count": 144,
   "id": "904d7499",
   "metadata": {},
   "outputs": [
    {
     "name": "stdout",
     "output_type": "stream",
     "text": [
      "+----------+------+----------+\n",
      "|  CityName|  Area|Population|\n",
      "+----------+------+----------+\n",
      "| axfwzburg| 900.0|   1040561|\n",
      "|  udslburg| 900.0|   3114441|\n",
      "|tuaogwburg| 900.0|   3150189|\n",
      "|pebqrtburg| 900.0|   3868220|\n",
      "| vrxnnburg| 900.0|   3578065|\n",
      "|  aqmjburg| 900.0|   1195098|\n",
      "| jjarcburg| 900.0|   2787663|\n",
      "|bcuycyburg|899.99|   3316963|\n",
      "|vndgmoburg|899.99|   1889310|\n",
      "|wuiiucburg|899.99|   2075381|\n",
      "| tcaoyburg|899.99|   2065918|\n",
      "|  bokwburg|899.99|   2013581|\n",
      "|hlcxmzburg|899.99|   3599719|\n",
      "| acrhyburg|899.99|   3670138|\n",
      "|  xtusburg|899.99|   2230695|\n",
      "| mndpqburg|899.99|   2313934|\n",
      "| eogxhburg|899.99|   1880261|\n",
      "|kmqcafburg|899.99|   1475948|\n",
      "| uhfbmburg|899.99|    440347|\n",
      "|  iojtburg|899.99|   1355627|\n",
      "+----------+------+----------+\n",
      "only showing top 20 rows\n",
      "\n",
      "+-----------+-----+----------+\n",
      "|   CityName| Area|Population|\n",
      "+-----------+-----+----------+\n",
      "| zwpoaville|110.0|    925330|\n",
      "|  reksville|110.0|   2260056|\n",
      "|efqiwhville|110.0|   3603321|\n",
      "|  xqxgville|110.0|   3239647|\n",
      "|  qpznville|110.0|   1683225|\n",
      "| txkmjville|110.0|   3831724|\n",
      "|  urvvville|110.0|    998584|\n",
      "|  hsslville|110.0|    467873|\n",
      "|  npxzville|110.0|   1248286|\n",
      "|  ejueville|110.0|   2466718|\n",
      "| lrkksville|110.0|   1422151|\n",
      "|  tuhkville|110.0|   1443757|\n",
      "| mjztzville|110.0|    406359|\n",
      "|   Chalampé|110.0|     61912|\n",
      "|gbodrdville|110.0|   2650171|\n",
      "| dbkosville|110.0|    996664|\n",
      "|  rljvville|110.0|   1326431|\n",
      "| rgwyhville|110.0|    442239|\n",
      "|mjikdjville|110.0|   1534305|\n",
      "|vyiqqpville|110.0|   1193834|\n",
      "+-----------+-----+----------+\n",
      "only showing top 20 rows\n",
      "\n"
     ]
    }
   ],
   "source": [
    "#ALEX Q2\n",
    "#Pyspark Dataframe Operation\n",
    "#Here we are selecting both data frames and ordering them by area. \n",
    "#We can see French cities are a bit larger by area\n",
    "\n",
    "#set start time (paul)\n",
    "q2_pyspark_start_time = time.time()\n",
    "\n",
    "germ_city_sizes = german_cities.select(\"CityName\", \"Area\", \"Population\").orderBy(col(\"Area\").desc()).show()\n",
    "french_city_sizes = french_cities.select(\"CityName\", \"Area\", \"Population\").orderBy(col(\"Area\").desc()).show()\n",
    "#============================================\n",
    "\n",
    "#stop timer (paul)\n",
    "q2_pyspark_end_time = time.time()\n",
    "#calculate query time (paul)\n",
    "q2_pyspark_time = q2_pyspark_end_time - q2_pyspark_start_time\n",
    "print(f\"PySpark execution time: {q2_pyspark_time} seconds\")"
   ]
  },
  {
   "cell_type": "code",
   "execution_count": 145,
   "id": "e133ec0a",
   "metadata": {},
   "outputs": [
    {
     "name": "stdout",
     "output_type": "stream",
     "text": [
      "+----------+------+----------+\n",
      "|  CityName|  Area|Population|\n",
      "+----------+------+----------+\n",
      "|pebqrtburg| 900.0|   3868220|\n",
      "| jjarcburg| 900.0|   2787663|\n",
      "|tuaogwburg| 900.0|   3150189|\n",
      "|  aqmjburg| 900.0|   1195098|\n",
      "| axfwzburg| 900.0|   1040561|\n",
      "| vrxnnburg| 900.0|   3578065|\n",
      "|  udslburg| 900.0|   3114441|\n",
      "| uhfbmburg|899.99|    440347|\n",
      "|bcuycyburg|899.99|   3316963|\n",
      "|wuiiucburg|899.99|   2075381|\n",
      "| mndpqburg|899.99|   2313934|\n",
      "|kmqcafburg|899.99|   1475948|\n",
      "|  bokwburg|899.99|   2013581|\n",
      "| acrhyburg|899.99|   3670138|\n",
      "|ajuasfburg|899.99|   3448173|\n",
      "|vndgmoburg|899.99|   1889310|\n",
      "|  xtusburg|899.99|   2230695|\n",
      "|hlcxmzburg|899.99|   3599719|\n",
      "| tcaoyburg|899.99|   2065918|\n",
      "| eogxhburg|899.99|   1880261|\n",
      "+----------+------+----------+\n",
      "only showing top 20 rows\n",
      "\n",
      "+-----------+-----+----------+\n",
      "|   CityName| Area|Population|\n",
      "+-----------+-----+----------+\n",
      "|gbodrdville|110.0|   2650171|\n",
      "|  fbfdville|110.0|   1324384|\n",
      "|   Chalampé|110.0|     61912|\n",
      "| lrjhcville|110.0|   2289232|\n",
      "|tedrssville|110.0|    520286|\n",
      "|ttdohvville|110.0|   3221254|\n",
      "|wvityqville|110.0|    226623|\n",
      "| gyvciville|110.0|   2313872|\n",
      "| kkspfville|110.0|   3248907|\n",
      "|apzogrville|110.0|    364426|\n",
      "|  rljvville|110.0|   1326431|\n",
      "|  hsslville|110.0|    467873|\n",
      "| rgwyhville|110.0|    442239|\n",
      "|mjikdjville|110.0|   1534305|\n",
      "|  phsoville|110.0|    110825|\n",
      "|  npxzville|110.0|   1248286|\n",
      "|  xqxgville|110.0|   3239647|\n",
      "|vyiqqpville|110.0|   1193834|\n",
      "|  cigfville|110.0|   1562456|\n",
      "|  ejueville|110.0|   2466718|\n",
      "+-----------+-----+----------+\n",
      "only showing top 20 rows\n",
      "\n"
     ]
    }
   ],
   "source": [
    "#Alex Q2\n",
    "#SQL Version\n",
    "#Making temp views so I can use SQL\n",
    "german_cities.createOrReplaceTempView(\"german_cities\")\n",
    "french_cities.createOrReplaceTempView(\"french_cities\")\n",
    "\n",
    "#set start time (paul)\n",
    "q2_sql_start_time = time.time()\n",
    "\n",
    "# German City Call\n",
    "germ_city_sizes = spark.sql(\"\"\"\n",
    "    \n",
    "    SELECT CityName, Area, Population \n",
    "    FROM german_cities \n",
    "    ORDER BY Area DESC\n",
    "\n",
    "\"\"\")\n",
    "germ_city_sizes.show()\n",
    "\n",
    "#French City Call\n",
    "french_city_sizes = spark.sql(\"\"\"\n",
    "    \n",
    "    SELECT CityName, Area, Population \n",
    "    FROM french_cities \n",
    "    ORDER BY Area DESC\n",
    "\n",
    "\"\"\")\n",
    "\n",
    "#stop timer (paul)\n",
    "q2_sql_end_time = time.time()\n",
    "#calculate query time (paul)\n",
    "q2_sql_time = q2_sql_end_time - q2_sql_start_time\n",
    "print(f\"SQL execution time: {q2_sql_time} seconds\")\n",
    "\n",
    "# Show the result for French cities\n",
    "french_city_sizes.show()\n",
    "\n",
    "#Show difference in query execution times (paul)\n",
    "print(f\"Performance difference: PySpark was {q2_sql_time / q2_pyspark_time:.2f} times {'slower' if q2_sql_time > q2_pyspark_time else 'faster'} than SQL\")"
   ]
  },
  {
   "cell_type": "code",
   "execution_count": null,
   "id": "1ec47e23",
   "metadata": {},
   "outputs": [],
   "source": [
    "#q3 paul\n",
    "\n",
    "from pyspark.sql.functions import sum, avg, min, max, count\n",
    "\n",
    "#pyspark solutions\n",
    "print(\"PySpark Solutions:\")\n",
    "\n",
    "#set start time (paul)\n",
    "q3_pyspark_start_time = time.time()\n",
    "\n",
    "#aggregate for german cities\n",
    "germany_agg = german_cities.agg(sum(\"Population\").alias(\"TotalPopulation\"),\n",
    "                                 avg(\"Area\").alias(\"AverageArea\"),\n",
    "                                 min(\"Population\").alias(\"MinPopulation\"),\n",
    "                                 max(\"Population\").alias(\"MaxPopulation\"),\n",
    "                                 count(\"CityID\").alias(\"CityCount\"))\n",
    "germany_agg.show()\n",
    "\n",
    "#aggregate for french cities\n",
    "france_agg = french_cities.agg(sum(\"Population\").alias(\"TotalPopulation\"),\n",
    "                               avg(\"Area\").alias(\"AverageArea\"),\n",
    "                               min(\"Population\").alias(\"MinPopulation\"),\n",
    "                               max(\"Population\").alias(\"MaxPopulation\"),\n",
    "                               count(\"CityID\").alias(\"CityCount\"))\n",
    "france_agg.show()\n",
    "\n",
    "#stop timer (paul)\n",
    "q3_pyspark_end_time = time.time()\n",
    "#calculate query time (paul)\n",
    "q3_pyspark_time = q3_pyspark_end_time - q3_pyspark_start_time\n",
    "print(f\"PySpark execution time: {q3_pyspark_time} seconds\")\n",
    "\n",
    "#sql solutions\n",
    "print(\"\\nSQL Solutions:\")\n",
    "\n",
    "#set start time (paul)\n",
    "q3_sql_start_time = time.time()\n",
    "\n",
    "#aggregate for german cities\n",
    "germany_agg_sql = spark.sql(\"\"\"\n",
    "    SELECT SUM(Population) AS TotalPopulation,\n",
    "           AVG(Area) AS AverageArea,\n",
    "           MIN(Population) AS MinPopulation,\n",
    "           MAX(Population) AS MaxPopulation,\n",
    "           COUNT(CityID) AS CityCount\n",
    "    FROM german_cities\n",
    "\"\"\")\n",
    "germany_agg_sql.show()\n",
    "\n",
    "#aggregate for french cities\n",
    "france_agg_sql = spark.sql(\"\"\"\n",
    "    SELECT SUM(Population) AS TotalPopulation,\n",
    "           AVG(Area) AS AverageArea,\n",
    "           MIN(Population) AS MinPopulation,\n",
    "           MAX(Population) AS MaxPopulation,\n",
    "           COUNT(CityID) AS CityCount\n",
    "    FROM french_cities\n",
    "\"\"\")\n",
    "\n",
    "#stop timer (paul)\n",
    "q3_sql_end_time = time.time()\n",
    "#calculate query time (paul)\n",
    "q3_sql_time = q3_sql_end_time - q3_sql_start_time\n",
    "print(f\"SQL execution time: {q3_sql_time} seconds\")\n",
    "\n",
    "france_agg_sql.show()\n",
    "\n",
    "#Show difference in query execution times (paul)\n",
    "print(f\"Performance difference: PySpark was {q3_sql_time / q3_pyspark_time:.2f} times {'slower' if q3_sql_time > q3_pyspark_time else 'faster'} than SQL\")"
   ]
  },
  {
   "cell_type": "code",
   "execution_count": 15,
   "id": "e0f4745e",
   "metadata": {},
   "outputs": [
    {
     "name": "stdout",
     "output_type": "stream",
     "text": [
      "+--------------+--------------+-------------------+------------------+\n",
      "|GermanCityName|FrenchCityName|PopulationInGermany|PopulationInFrance|\n",
      "+--------------+--------------+-------------------+------------------+\n",
      "|         yPGeN|          Arrm|            3898854|           1533884|\n",
      "|         BqIqF|        YpXVTA|            2626349|           1677669|\n",
      "|        oPMhti|         iCIMy|            2258897|           1116640|\n",
      "|         Gqdcx|         Ppsnh|            4242141|            634336|\n",
      "|         tIutr|          DEsQ|             446469|           2698268|\n",
      "|         kYnhs|        bbpzqc|            4848747|           1554811|\n",
      "|        cVYwaO|         QxElg|            4181455|           1303426|\n",
      "|          CjDj|          Xqjr|            4353703|           4622090|\n",
      "|         ogzIT|        wHzKXB|             216939|            671899|\n",
      "|         HFOnE|          VneL|            1345457|           4164036|\n",
      "|          Lszg|          qvmt|            2713054|           1789120|\n",
      "|          CLxy|         oRgKT|            2501422|           2244557|\n",
      "|        bZAKIA|          vOia|            2498870|           2155201|\n",
      "|        uxUiGP|          QQKn|            3280661|           2228377|\n",
      "|        ApOOfh|          wrDk|            4632700|           1720327|\n",
      "|          XnZT|        ZxaCss|            2545732|           2574538|\n",
      "|          PNGT|         RFGkl|            3054128|           4409486|\n",
      "|        HXKPgi|        qHPMBf|            2695775|           1131769|\n",
      "|        yTfclx|         bItxm|            4430460|           3772178|\n",
      "|          aYrH|          wDcN|            1295311|            507563|\n",
      "+--------------+--------------+-------------------+------------------+\n",
      "only showing top 20 rows\n",
      "\n"
     ]
    }
   ],
   "source": [
    "#Q5 Charan\n",
    "\n",
    "#set start time (paul)\n",
    "q5_pyspark_start_time = time.time()\n",
    "\n",
    "full_outer_join_df = german_cities.join(french_cities, \"CityID\", \"full_outer\")\\\n",
    "                                   .select(german_cities[\"CityName\"].alias(\"GermanCityName\"),\n",
    "                                           french_cities[\"CityName\"].alias(\"FrenchCityName\"),\n",
    "                                           german_cities[\"Population\"].alias(\"PopulationInGermany\"),\n",
    "                                           french_cities[\"Population\"].alias(\"PopulationInFrance\"))\n",
    "\n",
    "# Show the combined DataFrame\n",
    "full_outer_join_df.show()\n",
    "\n",
    "#stop timer (paul)\n",
    "q5_pyspark_end_time = time.time()\n",
    "#calculate query time (paul)\n",
    "q5_pyspark_time = q5_pyspark_end_time - q5_pyspark_start_time\n",
    "print(f\"PySpark execution time: {q5_pyspark_time} seconds\")\n"
   ]
  },
  {
   "cell_type": "code",
   "execution_count": 16,
   "id": "b1492557",
   "metadata": {},
   "outputs": [
    {
     "name": "stdout",
     "output_type": "stream",
     "text": [
      "+--------------+--------------+-------------------+------------------+\n",
      "|GermanCityName|FrenchCityName|PopulationInGermany|PopulationInFrance|\n",
      "+--------------+--------------+-------------------+------------------+\n",
      "|         yPGeN|          Arrm|            3898854|           1533884|\n",
      "|         BqIqF|        YpXVTA|            2626349|           1677669|\n",
      "|        oPMhti|         iCIMy|            2258897|           1116640|\n",
      "|         Gqdcx|         Ppsnh|            4242141|            634336|\n",
      "|         tIutr|          DEsQ|             446469|           2698268|\n",
      "|         kYnhs|        bbpzqc|            4848747|           1554811|\n",
      "|        cVYwaO|         QxElg|            4181455|           1303426|\n",
      "|          CjDj|          Xqjr|            4353703|           4622090|\n",
      "|         ogzIT|        wHzKXB|             216939|            671899|\n",
      "|         HFOnE|          VneL|            1345457|           4164036|\n",
      "|          Lszg|          qvmt|            2713054|           1789120|\n",
      "|          CLxy|         oRgKT|            2501422|           2244557|\n",
      "|        bZAKIA|          vOia|            2498870|           2155201|\n",
      "|        uxUiGP|          QQKn|            3280661|           2228377|\n",
      "|        ApOOfh|          wrDk|            4632700|           1720327|\n",
      "|          XnZT|        ZxaCss|            2545732|           2574538|\n",
      "|          PNGT|         RFGkl|            3054128|           4409486|\n",
      "|        HXKPgi|        qHPMBf|            2695775|           1131769|\n",
      "|        yTfclx|         bItxm|            4430460|           3772178|\n",
      "|          aYrH|          wDcN|            1295311|            507563|\n",
      "+--------------+--------------+-------------------+------------------+\n",
      "only showing top 20 rows\n",
      "\n"
     ]
    }
   ],
   "source": [
    "#Q5 SQL\n",
    "\n",
    "#set start time (paul)\n",
    "q5_sql_start_time = time.time()\n",
    "\n",
    "# SQL Query to perform full outer join \n",
    "query = \"\"\"\n",
    "SELECT \n",
    "    g.CityName AS GermanCityName,\n",
    "    f.CityName AS FrenchCityName,\n",
    "    g.Population AS PopulationInGermany,\n",
    "    f.Population AS PopulationInFrance\n",
    "FROM german_cities g\n",
    "FULL OUTER JOIN french_cities f ON g.CityID = f.CityID\n",
    "\"\"\"\n",
    "\n",
    "# Execute the SQL query using Spark SQL\n",
    "full_outer_join_df = spark.sql(query)\n",
    "\n",
    "# Show the results of the SQL query\n",
    "full_outer_join_df.show()\n",
    "\n",
    "#stop timer (paul)\n",
    "q5_sql_end_time = time.time()\n",
    "#calculate query time (paul)\n",
    "q5_sql_time = q5_sql_end_time - q5_sql_start_time\n",
    "print(f\"SQL execution time: {q5_sql_time} seconds\")\n",
    "\n",
    "#Show difference in query execution times (paul)\n",
    "print(f\"Performance difference: PySpark was {q5_sql_time / q5_pyspark_time:.2f} times {'slower' if q5_sql_time > q5_pyspark_time else 'faster'} than SQL\")"
   ]
  },
  {
   "cell_type": "code",
   "execution_count": 17,
   "id": "4b5a052f",
   "metadata": {},
   "outputs": [
    {
     "name": "stdout",
     "output_type": "stream",
     "text": [
      "Germany\n",
      "+----------+------------------+------------------+-----------------+\n",
      "|Avg_CityID|    Avg_Population|          Avg_Area|Avg_CulturalSites|\n",
      "+----------+------------------+------------------+-----------------+\n",
      "|  500003.0|2499948.9589232053|2585.7041581891945|4.499701501492493|\n",
      "+----------+------------------+------------------+-----------------+\n",
      "\n",
      "France\n",
      "+----------+------------------+------------------+-----------------+\n",
      "|Avg_CityID|    Avg_Population|          Avg_Area|Avg_CulturalSites|\n",
      "+----------+------------------+------------------+-----------------+\n",
      "|  500003.0|2499667.3588442057|2584.0123058284817| 4.50078249608752|\n",
      "+----------+------------------+------------------+-----------------+\n",
      "\n"
     ]
    }
   ],
   "source": [
    "#ALEX Q6\n",
    "#Pyspark Dataframe operation\n",
    "\n",
    "#set start time (paul)\n",
    "q6_pyspark_start_time = time.time()\n",
    "\n",
    "#For this question I am using\n",
    "print(\"Germany\")\n",
    "german_cities.select(\n",
    "    avg(\"CityID\").alias(\"Avg_CityID\"),\n",
    "    avg(\"Population\").alias(\"Avg_Population\"),\n",
    "    avg(\"Area\").alias(\"Avg_Area\"),\n",
    "    avg(\"CulturalSites\").alias(\"Avg_CulturalSites\")\n",
    ").show()\n",
    "\n",
    "print(\"France\")\n",
    "french_cities.select(\n",
    "    avg(\"CityID\").alias(\"Avg_CityID\"),\n",
    "    avg(\"Population\").alias(\"Avg_Population\"),\n",
    "    avg(\"Area\").alias(\"Avg_Area\"),\n",
    "    avg(\"CulturalSites\").alias(\"Avg_CulturalSites\")\n",
    ").show()\n",
    "\n",
    "\n",
    "#As we can see they are similar sizes, with Germany having slightly more cultural sites and population\n",
    "#This makes sense that both would be similar as they are randomly generated via the same parameters\n",
    "\n",
    "#stop timer (paul)\n",
    "q6_pyspark_end_time = time.time()\n",
    "#calculate query time (paul)\n",
    "q6_pyspark_time = q6_pyspark_end_time - q6_pyspark_start_time\n",
    "print(f\"PySpark execution time: {q6_pyspark_time} seconds\")\n"
   ]
  },
  {
   "cell_type": "code",
   "execution_count": 18,
   "id": "2bc17c00",
   "metadata": {},
   "outputs": [
    {
     "name": "stdout",
     "output_type": "stream",
     "text": [
      "+----------+------------------+------------------+-----------------+\n",
      "|Avg_CityID|    Avg_Population|          Avg_Area|Avg_CulturalSites|\n",
      "+----------+------------------+------------------+-----------------+\n",
      "|  500003.0|2499948.9589232053|2585.7041581891945|4.499701501492493|\n",
      "+----------+------------------+------------------+-----------------+\n",
      "\n",
      "+----------+------------------+------------------+-----------------+\n",
      "|Avg_CityID|    Avg_Population|          Avg_Area|Avg_CulturalSites|\n",
      "+----------+------------------+------------------+-----------------+\n",
      "|  500003.0|2499667.3588442057|2584.0123058284817| 4.50078249608752|\n",
      "+----------+------------------+------------------+-----------------+\n",
      "\n"
     ]
    }
   ],
   "source": [
    "#Alex Q6\n",
    "#SQL Version\n",
    "\n",
    "#set start time (paul)\n",
    "q6_sql_start_time = time.time()\n",
    "\n",
    "#Using the previously created views in Q2\n",
    "#German query\n",
    "avg_german_stats = spark.sql(\"\"\"\n",
    "    \n",
    "    SELECT AVG(CityID) AS Avg_CityID,\n",
    "           AVG(Population) AS Avg_Population,\n",
    "           AVG(Area) AS Avg_Area,\n",
    "           AVG(CulturalSites) AS Avg_CulturalSites\n",
    "    FROM german_cities\n",
    "    \n",
    "\"\"\")\n",
    "\n",
    "avg_german_stats.show()\n",
    "\n",
    "# French Query\n",
    "avg_french_stats = spark.sql(\"\"\"\n",
    "\n",
    "    SELECT AVG(CityID) AS Avg_CityID,\n",
    "           AVG(Population) AS Avg_Population,\n",
    "           AVG(Area) AS Avg_Area,\n",
    "           AVG(CulturalSites) AS Avg_CulturalSites\n",
    "    FROM french_cities\n",
    "    \n",
    "\"\"\")\n",
    "avg_french_stats.show()\n",
    "\n",
    "#stop timer (paul)\n",
    "q6_sql_end_time = time.time()\n",
    "#calculate query time (paul)\n",
    "q6_sql_time = q6_sql_end_time - q6_sql_start_time\n",
    "print(f\"SQL execution time: {q6_sql_time} seconds\")\n",
    "\n",
    "#Show difference in query execution times (paul)\n",
    "print(f\"Performance difference: PySpark was {q6_sql_time / q6_pyspark_time:.2f} times {'slower' if q6_sql_time > q6_pyspark_time else 'faster'} than SQL\")"
   ]
  },
  {
   "cell_type": "code",
   "execution_count": 19,
   "id": "18d6f5ae",
   "metadata": {},
   "outputs": [
    {
     "name": "stdout",
     "output_type": "stream",
     "text": [
      "+---------+------------------+\n",
      "| CityName|           Density|\n",
      "+---------+------------------+\n",
      "|   Berlin| 3949.287557500281|\n",
      "|  Hamburg|2370.2330508474574|\n",
      "|   Munich| 4666.881235918893|\n",
      "|  Cologne|2616.3149450820683|\n",
      "|Frankfurt|            1466.0|\n",
      "|     tfOB| 498.2321165493534|\n",
      "|     uBMt|3756.3574614760746|\n",
      "|     fpbw|104.04242996776689|\n",
      "|     rOXV| 547.7717676827241|\n",
      "|    dApbQ| 562.0234644967117|\n",
      "|   zIXZbo|1049.9719393890805|\n",
      "|   WoiTtZ|1091.6647137835444|\n",
      "|     AtMM| 787.1854868654482|\n",
      "|    EfLQd|16940.895207419337|\n",
      "|   iKbycv| 499.0313445086107|\n",
      "|     bQQH|  2379.42325951114|\n",
      "|     DYiw|1077.3815788611744|\n",
      "|    qzQcV| 4364.230797090202|\n",
      "|    XozDq| 866.3320888244964|\n",
      "|   KvnMpM|24.474152204574725|\n",
      "+---------+------------------+\n",
      "only showing top 20 rows\n",
      "\n",
      "+---------+------------------+\n",
      "| CityName|           Density|\n",
      "+---------+------------------+\n",
      "|    Paris|            9000.0|\n",
      "|Marseille|3536.9908561928514|\n",
      "|     Lyon|10256.945895132652|\n",
      "| Toulouse| 3778.529163144548|\n",
      "|     Nice| 4784.422809457579|\n",
      "|     HEUJ|   1478.5210812209|\n",
      "|    PRcXm|29.973325960021466|\n",
      "|    AhJsf| 466.5287048394501|\n",
      "|    qnEbu| 1739.478479310772|\n",
      "|    YOhYg| 61.66076246438588|\n",
      "|     QIuk| 4093.354419898652|\n",
      "|   Slknkw| 992.3410542507452|\n",
      "|    ZJbHU| 778.8144523667198|\n",
      "|     tCxL| 53.08831854059193|\n",
      "|   vTzmze| 1944.669192065236|\n",
      "|     KHTA| 362.7332637433648|\n",
      "|   sROVlL| 1484.642608427614|\n",
      "|     lWCj|2040.3065167805055|\n",
      "|     jIdN| 1330.834487534626|\n",
      "|    eTbPz| 2951.925275375573|\n",
      "+---------+------------------+\n",
      "only showing top 20 rows\n",
      "\n"
     ]
    }
   ],
   "source": [
    "#Q4 Srinivas\n",
    "\n",
    "#set start time (paul)\n",
    "q4_pyspark_start_time = time.time()\n",
    "\n",
    "germany_density = german_cities.withColumn(\"Density\", col(\"Population\") / col(\"Area\"))\n",
    "france_density = french_cities.withColumn(\"Density\", col(\"Population\") / col(\"Area\"))\n",
    "germany_density.select(\"CityName\", \"Density\").show()\n",
    "france_density.select(\"CityName\", \"Density\").show()\n",
    "\n",
    "#stop timer (paul)\n",
    "q4_pyspark_end_time = time.time()\n",
    "#calculate query time (paul)\n",
    "q4_pyspark_time = q4_pyspark_end_time - q4_pyspark_start_time\n",
    "print(f\"PySpark execution time: {q4_pyspark_time} seconds\")\n"
   ]
  },
  {
   "cell_type": "code",
   "execution_count": 20,
   "id": "82a1aef2",
   "metadata": {},
   "outputs": [
    {
     "name": "stdout",
     "output_type": "stream",
     "text": [
      "Germany\n",
      "+---------+------------------+\n",
      "| CityName|           Density|\n",
      "+---------+------------------+\n",
      "|   Berlin| 3949.287557500281|\n",
      "|  Hamburg|2370.2330508474574|\n",
      "|   Munich| 4666.881235918893|\n",
      "|  Cologne|2616.3149450820683|\n",
      "|Frankfurt|            1466.0|\n",
      "|     tfOB| 498.2321165493534|\n",
      "|     uBMt|3756.3574614760746|\n",
      "|     fpbw|104.04242996776689|\n",
      "|     rOXV| 547.7717676827241|\n",
      "|    dApbQ| 562.0234644967117|\n",
      "|   zIXZbo|1049.9719393890805|\n",
      "|   WoiTtZ|1091.6647137835444|\n",
      "|     AtMM| 787.1854868654482|\n",
      "|    EfLQd|16940.895207419337|\n",
      "|   iKbycv| 499.0313445086107|\n",
      "|     bQQH|  2379.42325951114|\n",
      "|     DYiw|1077.3815788611744|\n",
      "|    qzQcV| 4364.230797090202|\n",
      "|    XozDq| 866.3320888244964|\n",
      "|   KvnMpM|24.474152204574725|\n",
      "+---------+------------------+\n",
      "only showing top 20 rows\n",
      "\n",
      "France\n",
      "+---------+------------------+\n",
      "| CityName|           Density|\n",
      "+---------+------------------+\n",
      "|    Paris|            9000.0|\n",
      "|Marseille|3536.9908561928514|\n",
      "|     Lyon|10256.945895132652|\n",
      "| Toulouse| 3778.529163144548|\n",
      "|     Nice| 4784.422809457579|\n",
      "|     HEUJ|   1478.5210812209|\n",
      "|    PRcXm|29.973325960021466|\n",
      "|    AhJsf| 466.5287048394501|\n",
      "|    qnEbu| 1739.478479310772|\n",
      "|    YOhYg| 61.66076246438588|\n",
      "|     QIuk| 4093.354419898652|\n",
      "|   Slknkw| 992.3410542507452|\n",
      "|    ZJbHU| 778.8144523667198|\n",
      "|     tCxL| 53.08831854059193|\n",
      "|   vTzmze| 1944.669192065236|\n",
      "|     KHTA| 362.7332637433648|\n",
      "|   sROVlL| 1484.642608427614|\n",
      "|     lWCj|2040.3065167805055|\n",
      "|     jIdN| 1330.834487534626|\n",
      "|    eTbPz| 2951.925275375573|\n",
      "+---------+------------------+\n",
      "only showing top 20 rows\n",
      "\n"
     ]
    }
   ],
   "source": [
    "#set start time (paul)\n",
    "q4_sql_start_time = time.time()\n",
    "\n",
    "# Germany Density Calculation\n",
    "print(\"Germany\")\n",
    "density_german_stats = spark.sql(\"\"\"\n",
    "SELECT CityName, Population / Area AS Density\n",
    "FROM german_cities\n",
    "\n",
    "\"\"\")\n",
    "\n",
    "density_german_stats.show()\n",
    "\n",
    "# French Density Calculation\n",
    "print(\"France\")\n",
    "\n",
    "density_french_stats = spark.sql(\"\"\"\n",
    "SELECT CityName, Population / Area AS Density\n",
    "FROM french_cities\n",
    "\n",
    "\"\"\")\n",
    "\n",
    "density_french_stats.show()\n",
    "\n",
    "#stop timer (paul)\n",
    "q4_sql_end_time = time.time()\n",
    "#calculate query time (paul)\n",
    "q4_sql_time = q4_sql_end_time - q4_sql_start_time\n",
    "print(f\"SQL execution time: {q4_sql_time} seconds\")\n",
    "\n",
    "#Show difference in query execution times (paul)\n",
    "print(f\"Performance difference: PySpark was {q4_sql_time / q4_pyspark_time:.2f} times {'slower' if q4_sql_time > q4_pyspark_time else 'faster'} than SQL\")\n",
    "\n"
   ]
  },
  {
   "cell_type": "code",
   "execution_count": 21,
   "id": "48e447c6",
   "metadata": {},
   "outputs": [
    {
     "data": {
      "application/vnd.plotly.v1+json": {
       "config": {
        "plotlyServerURL": "https://plot.ly"
       },
       "data": [
        {
         "alignmentgroup": "True",
         "hovertemplate": "CityName=%{x}<br>CulturalSites=%{y}<extra></extra>",
         "legendgroup": "",
         "marker": {
          "color": "#636efa",
          "pattern": {
           "shape": ""
          }
         },
         "name": "",
         "offsetgroup": "",
         "orientation": "v",
         "showlegend": false,
         "textposition": "auto",
         "type": "bar",
         "x": [
          "HytT",
          "Kjwg",
          "mjLG",
          "bhpdaJ",
          "vYmLxp",
          "CuVVNe",
          "WrBr",
          "AdspsQ",
          "ruCg",
          "VhflLm",
          "qJTft",
          "TBkzM",
          "sSWiPl",
          "VucH",
          "LPeF",
          "eQbRDa",
          "IHrv",
          "bhMe",
          "uNDA",
          "gZHNby"
         ],
         "xaxis": "x",
         "y": [
          3,
          7,
          6,
          6,
          7,
          6,
          2,
          3,
          3,
          3,
          7,
          5,
          6,
          3,
          7,
          4,
          6,
          3,
          5,
          6
         ],
         "yaxis": "y"
        }
       ],
       "layout": {
        "barmode": "relative",
        "legend": {
         "tracegroupgap": 0
        },
        "template": {
         "data": {
          "bar": [
           {
            "error_x": {
             "color": "#2a3f5f"
            },
            "error_y": {
             "color": "#2a3f5f"
            },
            "marker": {
             "line": {
              "color": "#E5ECF6",
              "width": 0.5
             },
             "pattern": {
              "fillmode": "overlay",
              "size": 10,
              "solidity": 0.2
             }
            },
            "type": "bar"
           }
          ],
          "barpolar": [
           {
            "marker": {
             "line": {
              "color": "#E5ECF6",
              "width": 0.5
             },
             "pattern": {
              "fillmode": "overlay",
              "size": 10,
              "solidity": 0.2
             }
            },
            "type": "barpolar"
           }
          ],
          "carpet": [
           {
            "aaxis": {
             "endlinecolor": "#2a3f5f",
             "gridcolor": "white",
             "linecolor": "white",
             "minorgridcolor": "white",
             "startlinecolor": "#2a3f5f"
            },
            "baxis": {
             "endlinecolor": "#2a3f5f",
             "gridcolor": "white",
             "linecolor": "white",
             "minorgridcolor": "white",
             "startlinecolor": "#2a3f5f"
            },
            "type": "carpet"
           }
          ],
          "choropleth": [
           {
            "colorbar": {
             "outlinewidth": 0,
             "ticks": ""
            },
            "type": "choropleth"
           }
          ],
          "contour": [
           {
            "colorbar": {
             "outlinewidth": 0,
             "ticks": ""
            },
            "colorscale": [
             [
              0,
              "#0d0887"
             ],
             [
              0.1111111111111111,
              "#46039f"
             ],
             [
              0.2222222222222222,
              "#7201a8"
             ],
             [
              0.3333333333333333,
              "#9c179e"
             ],
             [
              0.4444444444444444,
              "#bd3786"
             ],
             [
              0.5555555555555556,
              "#d8576b"
             ],
             [
              0.6666666666666666,
              "#ed7953"
             ],
             [
              0.7777777777777778,
              "#fb9f3a"
             ],
             [
              0.8888888888888888,
              "#fdca26"
             ],
             [
              1,
              "#f0f921"
             ]
            ],
            "type": "contour"
           }
          ],
          "contourcarpet": [
           {
            "colorbar": {
             "outlinewidth": 0,
             "ticks": ""
            },
            "type": "contourcarpet"
           }
          ],
          "heatmap": [
           {
            "colorbar": {
             "outlinewidth": 0,
             "ticks": ""
            },
            "colorscale": [
             [
              0,
              "#0d0887"
             ],
             [
              0.1111111111111111,
              "#46039f"
             ],
             [
              0.2222222222222222,
              "#7201a8"
             ],
             [
              0.3333333333333333,
              "#9c179e"
             ],
             [
              0.4444444444444444,
              "#bd3786"
             ],
             [
              0.5555555555555556,
              "#d8576b"
             ],
             [
              0.6666666666666666,
              "#ed7953"
             ],
             [
              0.7777777777777778,
              "#fb9f3a"
             ],
             [
              0.8888888888888888,
              "#fdca26"
             ],
             [
              1,
              "#f0f921"
             ]
            ],
            "type": "heatmap"
           }
          ],
          "heatmapgl": [
           {
            "colorbar": {
             "outlinewidth": 0,
             "ticks": ""
            },
            "colorscale": [
             [
              0,
              "#0d0887"
             ],
             [
              0.1111111111111111,
              "#46039f"
             ],
             [
              0.2222222222222222,
              "#7201a8"
             ],
             [
              0.3333333333333333,
              "#9c179e"
             ],
             [
              0.4444444444444444,
              "#bd3786"
             ],
             [
              0.5555555555555556,
              "#d8576b"
             ],
             [
              0.6666666666666666,
              "#ed7953"
             ],
             [
              0.7777777777777778,
              "#fb9f3a"
             ],
             [
              0.8888888888888888,
              "#fdca26"
             ],
             [
              1,
              "#f0f921"
             ]
            ],
            "type": "heatmapgl"
           }
          ],
          "histogram": [
           {
            "marker": {
             "pattern": {
              "fillmode": "overlay",
              "size": 10,
              "solidity": 0.2
             }
            },
            "type": "histogram"
           }
          ],
          "histogram2d": [
           {
            "colorbar": {
             "outlinewidth": 0,
             "ticks": ""
            },
            "colorscale": [
             [
              0,
              "#0d0887"
             ],
             [
              0.1111111111111111,
              "#46039f"
             ],
             [
              0.2222222222222222,
              "#7201a8"
             ],
             [
              0.3333333333333333,
              "#9c179e"
             ],
             [
              0.4444444444444444,
              "#bd3786"
             ],
             [
              0.5555555555555556,
              "#d8576b"
             ],
             [
              0.6666666666666666,
              "#ed7953"
             ],
             [
              0.7777777777777778,
              "#fb9f3a"
             ],
             [
              0.8888888888888888,
              "#fdca26"
             ],
             [
              1,
              "#f0f921"
             ]
            ],
            "type": "histogram2d"
           }
          ],
          "histogram2dcontour": [
           {
            "colorbar": {
             "outlinewidth": 0,
             "ticks": ""
            },
            "colorscale": [
             [
              0,
              "#0d0887"
             ],
             [
              0.1111111111111111,
              "#46039f"
             ],
             [
              0.2222222222222222,
              "#7201a8"
             ],
             [
              0.3333333333333333,
              "#9c179e"
             ],
             [
              0.4444444444444444,
              "#bd3786"
             ],
             [
              0.5555555555555556,
              "#d8576b"
             ],
             [
              0.6666666666666666,
              "#ed7953"
             ],
             [
              0.7777777777777778,
              "#fb9f3a"
             ],
             [
              0.8888888888888888,
              "#fdca26"
             ],
             [
              1,
              "#f0f921"
             ]
            ],
            "type": "histogram2dcontour"
           }
          ],
          "mesh3d": [
           {
            "colorbar": {
             "outlinewidth": 0,
             "ticks": ""
            },
            "type": "mesh3d"
           }
          ],
          "parcoords": [
           {
            "line": {
             "colorbar": {
              "outlinewidth": 0,
              "ticks": ""
             }
            },
            "type": "parcoords"
           }
          ],
          "pie": [
           {
            "automargin": true,
            "type": "pie"
           }
          ],
          "scatter": [
           {
            "fillpattern": {
             "fillmode": "overlay",
             "size": 10,
             "solidity": 0.2
            },
            "type": "scatter"
           }
          ],
          "scatter3d": [
           {
            "line": {
             "colorbar": {
              "outlinewidth": 0,
              "ticks": ""
             }
            },
            "marker": {
             "colorbar": {
              "outlinewidth": 0,
              "ticks": ""
             }
            },
            "type": "scatter3d"
           }
          ],
          "scattercarpet": [
           {
            "marker": {
             "colorbar": {
              "outlinewidth": 0,
              "ticks": ""
             }
            },
            "type": "scattercarpet"
           }
          ],
          "scattergeo": [
           {
            "marker": {
             "colorbar": {
              "outlinewidth": 0,
              "ticks": ""
             }
            },
            "type": "scattergeo"
           }
          ],
          "scattergl": [
           {
            "marker": {
             "colorbar": {
              "outlinewidth": 0,
              "ticks": ""
             }
            },
            "type": "scattergl"
           }
          ],
          "scattermapbox": [
           {
            "marker": {
             "colorbar": {
              "outlinewidth": 0,
              "ticks": ""
             }
            },
            "type": "scattermapbox"
           }
          ],
          "scatterpolar": [
           {
            "marker": {
             "colorbar": {
              "outlinewidth": 0,
              "ticks": ""
             }
            },
            "type": "scatterpolar"
           }
          ],
          "scatterpolargl": [
           {
            "marker": {
             "colorbar": {
              "outlinewidth": 0,
              "ticks": ""
             }
            },
            "type": "scatterpolargl"
           }
          ],
          "scatterternary": [
           {
            "marker": {
             "colorbar": {
              "outlinewidth": 0,
              "ticks": ""
             }
            },
            "type": "scatterternary"
           }
          ],
          "surface": [
           {
            "colorbar": {
             "outlinewidth": 0,
             "ticks": ""
            },
            "colorscale": [
             [
              0,
              "#0d0887"
             ],
             [
              0.1111111111111111,
              "#46039f"
             ],
             [
              0.2222222222222222,
              "#7201a8"
             ],
             [
              0.3333333333333333,
              "#9c179e"
             ],
             [
              0.4444444444444444,
              "#bd3786"
             ],
             [
              0.5555555555555556,
              "#d8576b"
             ],
             [
              0.6666666666666666,
              "#ed7953"
             ],
             [
              0.7777777777777778,
              "#fb9f3a"
             ],
             [
              0.8888888888888888,
              "#fdca26"
             ],
             [
              1,
              "#f0f921"
             ]
            ],
            "type": "surface"
           }
          ],
          "table": [
           {
            "cells": {
             "fill": {
              "color": "#EBF0F8"
             },
             "line": {
              "color": "white"
             }
            },
            "header": {
             "fill": {
              "color": "#C8D4E3"
             },
             "line": {
              "color": "white"
             }
            },
            "type": "table"
           }
          ]
         },
         "layout": {
          "annotationdefaults": {
           "arrowcolor": "#2a3f5f",
           "arrowhead": 0,
           "arrowwidth": 1
          },
          "autotypenumbers": "strict",
          "coloraxis": {
           "colorbar": {
            "outlinewidth": 0,
            "ticks": ""
           }
          },
          "colorscale": {
           "diverging": [
            [
             0,
             "#8e0152"
            ],
            [
             0.1,
             "#c51b7d"
            ],
            [
             0.2,
             "#de77ae"
            ],
            [
             0.3,
             "#f1b6da"
            ],
            [
             0.4,
             "#fde0ef"
            ],
            [
             0.5,
             "#f7f7f7"
            ],
            [
             0.6,
             "#e6f5d0"
            ],
            [
             0.7,
             "#b8e186"
            ],
            [
             0.8,
             "#7fbc41"
            ],
            [
             0.9,
             "#4d9221"
            ],
            [
             1,
             "#276419"
            ]
           ],
           "sequential": [
            [
             0,
             "#0d0887"
            ],
            [
             0.1111111111111111,
             "#46039f"
            ],
            [
             0.2222222222222222,
             "#7201a8"
            ],
            [
             0.3333333333333333,
             "#9c179e"
            ],
            [
             0.4444444444444444,
             "#bd3786"
            ],
            [
             0.5555555555555556,
             "#d8576b"
            ],
            [
             0.6666666666666666,
             "#ed7953"
            ],
            [
             0.7777777777777778,
             "#fb9f3a"
            ],
            [
             0.8888888888888888,
             "#fdca26"
            ],
            [
             1,
             "#f0f921"
            ]
           ],
           "sequentialminus": [
            [
             0,
             "#0d0887"
            ],
            [
             0.1111111111111111,
             "#46039f"
            ],
            [
             0.2222222222222222,
             "#7201a8"
            ],
            [
             0.3333333333333333,
             "#9c179e"
            ],
            [
             0.4444444444444444,
             "#bd3786"
            ],
            [
             0.5555555555555556,
             "#d8576b"
            ],
            [
             0.6666666666666666,
             "#ed7953"
            ],
            [
             0.7777777777777778,
             "#fb9f3a"
            ],
            [
             0.8888888888888888,
             "#fdca26"
            ],
            [
             1,
             "#f0f921"
            ]
           ]
          },
          "colorway": [
           "#636efa",
           "#EF553B",
           "#00cc96",
           "#ab63fa",
           "#FFA15A",
           "#19d3f3",
           "#FF6692",
           "#B6E880",
           "#FF97FF",
           "#FECB52"
          ],
          "font": {
           "color": "#2a3f5f"
          },
          "geo": {
           "bgcolor": "white",
           "lakecolor": "white",
           "landcolor": "#E5ECF6",
           "showlakes": true,
           "showland": true,
           "subunitcolor": "white"
          },
          "hoverlabel": {
           "align": "left"
          },
          "hovermode": "closest",
          "mapbox": {
           "style": "light"
          },
          "paper_bgcolor": "white",
          "plot_bgcolor": "#E5ECF6",
          "polar": {
           "angularaxis": {
            "gridcolor": "white",
            "linecolor": "white",
            "ticks": ""
           },
           "bgcolor": "#E5ECF6",
           "radialaxis": {
            "gridcolor": "white",
            "linecolor": "white",
            "ticks": ""
           }
          },
          "scene": {
           "xaxis": {
            "backgroundcolor": "#E5ECF6",
            "gridcolor": "white",
            "gridwidth": 2,
            "linecolor": "white",
            "showbackground": true,
            "ticks": "",
            "zerolinecolor": "white"
           },
           "yaxis": {
            "backgroundcolor": "#E5ECF6",
            "gridcolor": "white",
            "gridwidth": 2,
            "linecolor": "white",
            "showbackground": true,
            "ticks": "",
            "zerolinecolor": "white"
           },
           "zaxis": {
            "backgroundcolor": "#E5ECF6",
            "gridcolor": "white",
            "gridwidth": 2,
            "linecolor": "white",
            "showbackground": true,
            "ticks": "",
            "zerolinecolor": "white"
           }
          },
          "shapedefaults": {
           "line": {
            "color": "#2a3f5f"
           }
          },
          "ternary": {
           "aaxis": {
            "gridcolor": "white",
            "linecolor": "white",
            "ticks": ""
           },
           "baxis": {
            "gridcolor": "white",
            "linecolor": "white",
            "ticks": ""
           },
           "bgcolor": "#E5ECF6",
           "caxis": {
            "gridcolor": "white",
            "linecolor": "white",
            "ticks": ""
           }
          },
          "title": {
           "x": 0.05
          },
          "xaxis": {
           "automargin": true,
           "gridcolor": "white",
           "linecolor": "white",
           "ticks": "",
           "title": {
            "standoff": 15
           },
           "zerolinecolor": "white",
           "zerolinewidth": 2
          },
          "yaxis": {
           "automargin": true,
           "gridcolor": "white",
           "linecolor": "white",
           "ticks": "",
           "title": {
            "standoff": 15
           },
           "zerolinecolor": "white",
           "zerolinewidth": 2
          }
         }
        },
        "title": {
         "text": "Cultural Sites in Top 20 Populous French Cities"
        },
        "xaxis": {
         "anchor": "y",
         "domain": [
          0,
          1
         ],
         "title": {
          "text": "City"
         }
        },
        "yaxis": {
         "anchor": "x",
         "domain": [
          0,
          1
         ],
         "title": {
          "text": "Number of Cultural Sites"
         }
        }
       }
      }
     },
     "metadata": {},
     "output_type": "display_data"
    }
   ],
   "source": [
    "\n",
    "top_20_cities = french_cities.orderBy(\"Population\", ascending=False).limit(20)\n",
    "city_names = top_20_cities.select(\"CityName\").collect()\n",
    "cultural_sites = top_20_cities.select(\"CulturalSites\").collect()\n",
    "city_names = [row.CityName for row in city_names]\n",
    "cultural_sites = [row.CulturalSites for row in cultural_sites]\n",
    "\n",
    "\n",
    "data_dict = {'CityName': city_names, 'CulturalSites': cultural_sites}\n",
    "df = pd.DataFrame(data_dict)\n",
    "fig = px.bar(df, x=\"CityName\", y=\"CulturalSites\",\n",
    "             title=\"Cultural Sites in Top 20 Populous French Cities\")\n",
    "fig.update_layout(xaxis_title=\"City\", yaxis_title=\"Number of Cultural Sites\")\n",
    "fig.show()\n",
    "\n"
   ]
  },
  {
   "cell_type": "code",
   "execution_count": 22,
   "id": "9fefb79e",
   "metadata": {},
   "outputs": [
    {
     "data": {
      "application/vnd.plotly.v1+json": {
       "config": {
        "plotlyServerURL": "https://plot.ly"
       },
       "data": [
        {
         "alignmentgroup": "True",
         "hovertemplate": "CityName=%{x}<br>CulturalSites=%{y}<extra></extra>",
         "legendgroup": "",
         "marker": {
          "color": "#636efa",
          "pattern": {
           "shape": ""
          }
         },
         "name": "",
         "offsetgroup": "",
         "orientation": "v",
         "showlegend": false,
         "textposition": "auto",
         "type": "bar",
         "x": [
          "VcQbHk",
          "YAex",
          "RrWP",
          "LtrU",
          "oVkelR",
          "oTOu",
          "xQvIp",
          "otygX",
          "VCAh",
          "RsMO",
          "mmmoJy",
          "QFlq",
          "xiZm",
          "KjkNr",
          "hBVYWZ",
          "usjPe",
          "RIjGSz",
          "LkKwE",
          "gPZgd",
          "FdNl"
         ],
         "xaxis": "x",
         "y": [
          2,
          2,
          5,
          6,
          4,
          7,
          4,
          5,
          7,
          5,
          3,
          5,
          2,
          3,
          6,
          5,
          4,
          3,
          6,
          3
         ],
         "yaxis": "y"
        }
       ],
       "layout": {
        "barmode": "relative",
        "legend": {
         "tracegroupgap": 0
        },
        "template": {
         "data": {
          "bar": [
           {
            "error_x": {
             "color": "#2a3f5f"
            },
            "error_y": {
             "color": "#2a3f5f"
            },
            "marker": {
             "line": {
              "color": "#E5ECF6",
              "width": 0.5
             },
             "pattern": {
              "fillmode": "overlay",
              "size": 10,
              "solidity": 0.2
             }
            },
            "type": "bar"
           }
          ],
          "barpolar": [
           {
            "marker": {
             "line": {
              "color": "#E5ECF6",
              "width": 0.5
             },
             "pattern": {
              "fillmode": "overlay",
              "size": 10,
              "solidity": 0.2
             }
            },
            "type": "barpolar"
           }
          ],
          "carpet": [
           {
            "aaxis": {
             "endlinecolor": "#2a3f5f",
             "gridcolor": "white",
             "linecolor": "white",
             "minorgridcolor": "white",
             "startlinecolor": "#2a3f5f"
            },
            "baxis": {
             "endlinecolor": "#2a3f5f",
             "gridcolor": "white",
             "linecolor": "white",
             "minorgridcolor": "white",
             "startlinecolor": "#2a3f5f"
            },
            "type": "carpet"
           }
          ],
          "choropleth": [
           {
            "colorbar": {
             "outlinewidth": 0,
             "ticks": ""
            },
            "type": "choropleth"
           }
          ],
          "contour": [
           {
            "colorbar": {
             "outlinewidth": 0,
             "ticks": ""
            },
            "colorscale": [
             [
              0,
              "#0d0887"
             ],
             [
              0.1111111111111111,
              "#46039f"
             ],
             [
              0.2222222222222222,
              "#7201a8"
             ],
             [
              0.3333333333333333,
              "#9c179e"
             ],
             [
              0.4444444444444444,
              "#bd3786"
             ],
             [
              0.5555555555555556,
              "#d8576b"
             ],
             [
              0.6666666666666666,
              "#ed7953"
             ],
             [
              0.7777777777777778,
              "#fb9f3a"
             ],
             [
              0.8888888888888888,
              "#fdca26"
             ],
             [
              1,
              "#f0f921"
             ]
            ],
            "type": "contour"
           }
          ],
          "contourcarpet": [
           {
            "colorbar": {
             "outlinewidth": 0,
             "ticks": ""
            },
            "type": "contourcarpet"
           }
          ],
          "heatmap": [
           {
            "colorbar": {
             "outlinewidth": 0,
             "ticks": ""
            },
            "colorscale": [
             [
              0,
              "#0d0887"
             ],
             [
              0.1111111111111111,
              "#46039f"
             ],
             [
              0.2222222222222222,
              "#7201a8"
             ],
             [
              0.3333333333333333,
              "#9c179e"
             ],
             [
              0.4444444444444444,
              "#bd3786"
             ],
             [
              0.5555555555555556,
              "#d8576b"
             ],
             [
              0.6666666666666666,
              "#ed7953"
             ],
             [
              0.7777777777777778,
              "#fb9f3a"
             ],
             [
              0.8888888888888888,
              "#fdca26"
             ],
             [
              1,
              "#f0f921"
             ]
            ],
            "type": "heatmap"
           }
          ],
          "heatmapgl": [
           {
            "colorbar": {
             "outlinewidth": 0,
             "ticks": ""
            },
            "colorscale": [
             [
              0,
              "#0d0887"
             ],
             [
              0.1111111111111111,
              "#46039f"
             ],
             [
              0.2222222222222222,
              "#7201a8"
             ],
             [
              0.3333333333333333,
              "#9c179e"
             ],
             [
              0.4444444444444444,
              "#bd3786"
             ],
             [
              0.5555555555555556,
              "#d8576b"
             ],
             [
              0.6666666666666666,
              "#ed7953"
             ],
             [
              0.7777777777777778,
              "#fb9f3a"
             ],
             [
              0.8888888888888888,
              "#fdca26"
             ],
             [
              1,
              "#f0f921"
             ]
            ],
            "type": "heatmapgl"
           }
          ],
          "histogram": [
           {
            "marker": {
             "pattern": {
              "fillmode": "overlay",
              "size": 10,
              "solidity": 0.2
             }
            },
            "type": "histogram"
           }
          ],
          "histogram2d": [
           {
            "colorbar": {
             "outlinewidth": 0,
             "ticks": ""
            },
            "colorscale": [
             [
              0,
              "#0d0887"
             ],
             [
              0.1111111111111111,
              "#46039f"
             ],
             [
              0.2222222222222222,
              "#7201a8"
             ],
             [
              0.3333333333333333,
              "#9c179e"
             ],
             [
              0.4444444444444444,
              "#bd3786"
             ],
             [
              0.5555555555555556,
              "#d8576b"
             ],
             [
              0.6666666666666666,
              "#ed7953"
             ],
             [
              0.7777777777777778,
              "#fb9f3a"
             ],
             [
              0.8888888888888888,
              "#fdca26"
             ],
             [
              1,
              "#f0f921"
             ]
            ],
            "type": "histogram2d"
           }
          ],
          "histogram2dcontour": [
           {
            "colorbar": {
             "outlinewidth": 0,
             "ticks": ""
            },
            "colorscale": [
             [
              0,
              "#0d0887"
             ],
             [
              0.1111111111111111,
              "#46039f"
             ],
             [
              0.2222222222222222,
              "#7201a8"
             ],
             [
              0.3333333333333333,
              "#9c179e"
             ],
             [
              0.4444444444444444,
              "#bd3786"
             ],
             [
              0.5555555555555556,
              "#d8576b"
             ],
             [
              0.6666666666666666,
              "#ed7953"
             ],
             [
              0.7777777777777778,
              "#fb9f3a"
             ],
             [
              0.8888888888888888,
              "#fdca26"
             ],
             [
              1,
              "#f0f921"
             ]
            ],
            "type": "histogram2dcontour"
           }
          ],
          "mesh3d": [
           {
            "colorbar": {
             "outlinewidth": 0,
             "ticks": ""
            },
            "type": "mesh3d"
           }
          ],
          "parcoords": [
           {
            "line": {
             "colorbar": {
              "outlinewidth": 0,
              "ticks": ""
             }
            },
            "type": "parcoords"
           }
          ],
          "pie": [
           {
            "automargin": true,
            "type": "pie"
           }
          ],
          "scatter": [
           {
            "fillpattern": {
             "fillmode": "overlay",
             "size": 10,
             "solidity": 0.2
            },
            "type": "scatter"
           }
          ],
          "scatter3d": [
           {
            "line": {
             "colorbar": {
              "outlinewidth": 0,
              "ticks": ""
             }
            },
            "marker": {
             "colorbar": {
              "outlinewidth": 0,
              "ticks": ""
             }
            },
            "type": "scatter3d"
           }
          ],
          "scattercarpet": [
           {
            "marker": {
             "colorbar": {
              "outlinewidth": 0,
              "ticks": ""
             }
            },
            "type": "scattercarpet"
           }
          ],
          "scattergeo": [
           {
            "marker": {
             "colorbar": {
              "outlinewidth": 0,
              "ticks": ""
             }
            },
            "type": "scattergeo"
           }
          ],
          "scattergl": [
           {
            "marker": {
             "colorbar": {
              "outlinewidth": 0,
              "ticks": ""
             }
            },
            "type": "scattergl"
           }
          ],
          "scattermapbox": [
           {
            "marker": {
             "colorbar": {
              "outlinewidth": 0,
              "ticks": ""
             }
            },
            "type": "scattermapbox"
           }
          ],
          "scatterpolar": [
           {
            "marker": {
             "colorbar": {
              "outlinewidth": 0,
              "ticks": ""
             }
            },
            "type": "scatterpolar"
           }
          ],
          "scatterpolargl": [
           {
            "marker": {
             "colorbar": {
              "outlinewidth": 0,
              "ticks": ""
             }
            },
            "type": "scatterpolargl"
           }
          ],
          "scatterternary": [
           {
            "marker": {
             "colorbar": {
              "outlinewidth": 0,
              "ticks": ""
             }
            },
            "type": "scatterternary"
           }
          ],
          "surface": [
           {
            "colorbar": {
             "outlinewidth": 0,
             "ticks": ""
            },
            "colorscale": [
             [
              0,
              "#0d0887"
             ],
             [
              0.1111111111111111,
              "#46039f"
             ],
             [
              0.2222222222222222,
              "#7201a8"
             ],
             [
              0.3333333333333333,
              "#9c179e"
             ],
             [
              0.4444444444444444,
              "#bd3786"
             ],
             [
              0.5555555555555556,
              "#d8576b"
             ],
             [
              0.6666666666666666,
              "#ed7953"
             ],
             [
              0.7777777777777778,
              "#fb9f3a"
             ],
             [
              0.8888888888888888,
              "#fdca26"
             ],
             [
              1,
              "#f0f921"
             ]
            ],
            "type": "surface"
           }
          ],
          "table": [
           {
            "cells": {
             "fill": {
              "color": "#EBF0F8"
             },
             "line": {
              "color": "white"
             }
            },
            "header": {
             "fill": {
              "color": "#C8D4E3"
             },
             "line": {
              "color": "white"
             }
            },
            "type": "table"
           }
          ]
         },
         "layout": {
          "annotationdefaults": {
           "arrowcolor": "#2a3f5f",
           "arrowhead": 0,
           "arrowwidth": 1
          },
          "autotypenumbers": "strict",
          "coloraxis": {
           "colorbar": {
            "outlinewidth": 0,
            "ticks": ""
           }
          },
          "colorscale": {
           "diverging": [
            [
             0,
             "#8e0152"
            ],
            [
             0.1,
             "#c51b7d"
            ],
            [
             0.2,
             "#de77ae"
            ],
            [
             0.3,
             "#f1b6da"
            ],
            [
             0.4,
             "#fde0ef"
            ],
            [
             0.5,
             "#f7f7f7"
            ],
            [
             0.6,
             "#e6f5d0"
            ],
            [
             0.7,
             "#b8e186"
            ],
            [
             0.8,
             "#7fbc41"
            ],
            [
             0.9,
             "#4d9221"
            ],
            [
             1,
             "#276419"
            ]
           ],
           "sequential": [
            [
             0,
             "#0d0887"
            ],
            [
             0.1111111111111111,
             "#46039f"
            ],
            [
             0.2222222222222222,
             "#7201a8"
            ],
            [
             0.3333333333333333,
             "#9c179e"
            ],
            [
             0.4444444444444444,
             "#bd3786"
            ],
            [
             0.5555555555555556,
             "#d8576b"
            ],
            [
             0.6666666666666666,
             "#ed7953"
            ],
            [
             0.7777777777777778,
             "#fb9f3a"
            ],
            [
             0.8888888888888888,
             "#fdca26"
            ],
            [
             1,
             "#f0f921"
            ]
           ],
           "sequentialminus": [
            [
             0,
             "#0d0887"
            ],
            [
             0.1111111111111111,
             "#46039f"
            ],
            [
             0.2222222222222222,
             "#7201a8"
            ],
            [
             0.3333333333333333,
             "#9c179e"
            ],
            [
             0.4444444444444444,
             "#bd3786"
            ],
            [
             0.5555555555555556,
             "#d8576b"
            ],
            [
             0.6666666666666666,
             "#ed7953"
            ],
            [
             0.7777777777777778,
             "#fb9f3a"
            ],
            [
             0.8888888888888888,
             "#fdca26"
            ],
            [
             1,
             "#f0f921"
            ]
           ]
          },
          "colorway": [
           "#636efa",
           "#EF553B",
           "#00cc96",
           "#ab63fa",
           "#FFA15A",
           "#19d3f3",
           "#FF6692",
           "#B6E880",
           "#FF97FF",
           "#FECB52"
          ],
          "font": {
           "color": "#2a3f5f"
          },
          "geo": {
           "bgcolor": "white",
           "lakecolor": "white",
           "landcolor": "#E5ECF6",
           "showlakes": true,
           "showland": true,
           "subunitcolor": "white"
          },
          "hoverlabel": {
           "align": "left"
          },
          "hovermode": "closest",
          "mapbox": {
           "style": "light"
          },
          "paper_bgcolor": "white",
          "plot_bgcolor": "#E5ECF6",
          "polar": {
           "angularaxis": {
            "gridcolor": "white",
            "linecolor": "white",
            "ticks": ""
           },
           "bgcolor": "#E5ECF6",
           "radialaxis": {
            "gridcolor": "white",
            "linecolor": "white",
            "ticks": ""
           }
          },
          "scene": {
           "xaxis": {
            "backgroundcolor": "#E5ECF6",
            "gridcolor": "white",
            "gridwidth": 2,
            "linecolor": "white",
            "showbackground": true,
            "ticks": "",
            "zerolinecolor": "white"
           },
           "yaxis": {
            "backgroundcolor": "#E5ECF6",
            "gridcolor": "white",
            "gridwidth": 2,
            "linecolor": "white",
            "showbackground": true,
            "ticks": "",
            "zerolinecolor": "white"
           },
           "zaxis": {
            "backgroundcolor": "#E5ECF6",
            "gridcolor": "white",
            "gridwidth": 2,
            "linecolor": "white",
            "showbackground": true,
            "ticks": "",
            "zerolinecolor": "white"
           }
          },
          "shapedefaults": {
           "line": {
            "color": "#2a3f5f"
           }
          },
          "ternary": {
           "aaxis": {
            "gridcolor": "white",
            "linecolor": "white",
            "ticks": ""
           },
           "baxis": {
            "gridcolor": "white",
            "linecolor": "white",
            "ticks": ""
           },
           "bgcolor": "#E5ECF6",
           "caxis": {
            "gridcolor": "white",
            "linecolor": "white",
            "ticks": ""
           }
          },
          "title": {
           "x": 0.05
          },
          "xaxis": {
           "automargin": true,
           "gridcolor": "white",
           "linecolor": "white",
           "ticks": "",
           "title": {
            "standoff": 15
           },
           "zerolinecolor": "white",
           "zerolinewidth": 2
          },
          "yaxis": {
           "automargin": true,
           "gridcolor": "white",
           "linecolor": "white",
           "ticks": "",
           "title": {
            "standoff": 15
           },
           "zerolinecolor": "white",
           "zerolinewidth": 2
          }
         }
        },
        "title": {
         "text": "Cultural Sites in Top 20 Populous German Cities"
        },
        "xaxis": {
         "anchor": "y",
         "domain": [
          0,
          1
         ],
         "title": {
          "text": "City"
         }
        },
        "yaxis": {
         "anchor": "x",
         "domain": [
          0,
          1
         ],
         "title": {
          "text": "Number of Cultural Sites"
         }
        }
       }
      }
     },
     "metadata": {},
     "output_type": "display_data"
    }
   ],
   "source": [
    "top_20_cities_german = german_cities.orderBy(\"Population\", ascending=False).limit(20)\n",
    "city_names = top_20_cities_german.select(\"CityName\").collect()\n",
    "cultural_sites = top_20_cities_german.select(\"CulturalSites\").collect()\n",
    "city_names = [row.CityName for row in city_names]\n",
    "cultural_sites = [row.CulturalSites for row in cultural_sites]\n",
    "data_dict = {'CityName': city_names, 'CulturalSites': cultural_sites}\n",
    "df = pd.DataFrame(data_dict)\n",
    "fig = px.bar(df, x=\"CityName\", y=\"CulturalSites\",\n",
    "             title=\"Cultural Sites in Top 20 Populous German Cities\")\n",
    "fig.update_layout(xaxis_title=\"City\", yaxis_title=\"Number of Cultural Sites\")\n",
    "fig.show()"
   ]
  }
 ],
 "metadata": {
  "kernelspec": {
   "display_name": "Python 3 (ipykernel)",
   "language": "python",
   "name": "python3"
  },
  "language_info": {
   "codemirror_mode": {
    "name": "ipython",
    "version": 3
   },
   "file_extension": ".py",
   "mimetype": "text/x-python",
   "name": "python",
   "nbconvert_exporter": "python",
   "pygments_lexer": "ipython3",
   "version": "3.11.5"
  }
 },
 "nbformat": 4,
 "nbformat_minor": 5
}

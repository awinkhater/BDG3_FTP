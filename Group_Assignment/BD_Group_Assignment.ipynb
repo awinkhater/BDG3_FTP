{
 "cells": [
  {
   "cell_type": "code",
   "execution_count": 18,
   "id": "81e612ce",
   "metadata": {},
   "outputs": [],
   "source": [
    "from pyspark.sql.functions import col, lit, expr, when, to_timestamp\n",
    "from pyspark.sql.types import *\n",
    "from datetime import datetime\n",
    "import time\n",
    "import pyspark\n",
    "from pyspark.sql import SparkSession\n",
    "import random\n",
    "import string\n",
    "import pandas as pd"
   ]
  },
  {
   "cell_type": "code",
   "execution_count": 19,
   "id": "ddee28e3",
   "metadata": {},
   "outputs": [],
   "source": [
    "##+===========================================================SET DATASETLENGTH HERE!!!\n",
    "DataLength=1000000"
   ]
  },
  {
   "cell_type": "code",
   "execution_count": 20,
   "id": "28a9327d",
   "metadata": {},
   "outputs": [],
   "source": [
    "#ORIGINAL DATASETS\n",
    "#German Cities Data\n",
    "german_cities_data = {\n",
    "    \"CityID\": [1, 2, 3, 4, 5],\n",
    "    \"CityName\": [\"Berlin\", \"Hamburg\", \"Munich\", \"Cologne\", \"Frankfurt\"],\n",
    "    \"Population\": [3520000, 1790000, 1450000, 1060000, 733000],\n",
    "    \"Area\": [891.3, 755.2, 310.7, 405.15, 500],\n",
    "    \"CulturalSites\": [7, 6, 3, 5, 3]  \n",
    "}\n",
    "\n",
    "# French Cities Data\n",
    "french_cities_data = {\n",
    "    \"CityID\": [1, 2, 3, 4, 5],\n",
    "    \"CityName\": [\"Paris\", \"Marseille\", \"Lyon\", \"Toulouse\", \"Nice\"],\n",
    "    \"Population\": [2250000, 851000, 491000, 447000, 344000],\n",
    "    \"Area\": [250, 240.6, 47.87, 118.3, 71.9],      \n",
    "    \"CulturalSites\": [7, 7, 1, 4, 3]\n",
    "}"
   ]
  },
  {
   "cell_type": "code",
   "execution_count": 21,
   "id": "77c073f9",
   "metadata": {},
   "outputs": [],
   "source": [
    "\n",
    "# Function to generate random city name\n",
    "def generate_city_name(length):\n",
    "    letters = string.ascii_letters\n",
    "    return ''.join(random.choice(letters) for i in range(length))\n",
    "\n",
    "# Function to generate random data for cities\n",
    "def generate_city_data(num_cities):\n",
    "    cities_data = []\n",
    "    for i in range(num_cities):\n",
    "        city_name = generate_city_name(random.randint(4, 6))\n",
    "        population = random.randint(350, 5000000)\n",
    "        area = round(random.uniform(170, 5000), 2)\n",
    "        tourist_visits = random.randint(3000000, 6000000)\n",
    "        cultural_sites = random.randint(2, 7)\n",
    "        cities_data.append({\n",
    "            \"CityID\": i + 1,\n",
    "            \"CityName\": city_name,\n",
    "            \"Population\": population,\n",
    "            \"Area\": area,\n",
    "            \"TouristVisits\": tourist_visits,\n",
    "            \"CulturalSites\": cultural_sites\n",
    "        })\n",
    "    return cities_data\n",
    "\n"
   ]
  },
  {
   "cell_type": "code",
   "execution_count": 22,
   "id": "2ada3f00",
   "metadata": {},
   "outputs": [],
   "source": [
    "# Augment German cities data\n",
    "german_cities_augmented = german_cities_data.copy()\n",
    "german_cities_augmented[\"CityID\"].extend(range(6, DataLength+6))\n",
    "german_cities_augmented[\"CityName\"].extend([city_data[\"CityName\"] for city_data in generate_city_data(DataLength)])\n",
    "german_cities_augmented[\"Population\"].extend([city_data[\"Population\"] for city_data in generate_city_data(DataLength)])\n",
    "german_cities_augmented[\"Area\"].extend([city_data[\"Area\"] for city_data in generate_city_data(DataLength)])\n",
    "german_cities_augmented[\"CulturalSites\"].extend([city_data[\"CulturalSites\"] for city_data in generate_city_data(DataLength)])\n",
    "\n",
    "# Augment French cities data\n",
    "french_cities_augmented = french_cities_data.copy()\n",
    "french_cities_augmented[\"CityID\"].extend(range(6, DataLength+6))\n",
    "french_cities_augmented[\"CityName\"].extend([city_data[\"CityName\"] for city_data in generate_city_data(DataLength)])\n",
    "french_cities_augmented[\"Population\"].extend([city_data[\"Population\"] for city_data in generate_city_data(DataLength)])\n",
    "french_cities_augmented[\"Area\"].extend([city_data[\"Area\"] for city_data in generate_city_data(DataLength)])\n",
    "french_cities_augmented[\"CulturalSites\"].extend([city_data[\"CulturalSites\"] for city_data in generate_city_data(DataLength)])\n"
   ]
  },
  {
   "cell_type": "code",
   "execution_count": 24,
   "id": "deb1f21d",
   "metadata": {},
   "outputs": [],
   "source": [
    "# #MAKE DATAFRAMES# Create DataFrames\n",
    "# df_german_cities = pd.DataFrame(german_cities_data)\n",
    "# df_french_cities = pd.DataFrame(french_cities_data)\n",
    "\n",
    "# # Save to CSV files\n",
    "# df_german_cities.to_csv('german_cities.csv', index=False)\n",
    "# df_french_cities.to_csv('french_cities.csv', index=False) "
   ]
  },
  {
   "cell_type": "code",
   "execution_count": 25,
   "id": "0bbf5a70",
   "metadata": {},
   "outputs": [],
   "source": [
    "frenchpath=r\"C:\\Users\\alexw\\Desktop\\BDG3_FTP\\Group_Assignment\\french_cities.csv\"\n",
    "Germpath=r\"C:\\Users\\alexw\\Desktop\\BDG3_FTP\\Group_Assignment\\german_cities.csv\""
   ]
  },
  {
   "cell_type": "code",
   "execution_count": 26,
   "id": "fd712070",
   "metadata": {},
   "outputs": [],
   "source": [
    "spark = SparkSession.builder \\\n",
    "    .appName(\"Assignment 1\") \\\n",
    "    .getOrCreate()"
   ]
  },
  {
   "cell_type": "code",
   "execution_count": 27,
   "id": "f510da6e",
   "metadata": {},
   "outputs": [],
   "source": [
    "F_schema = StructType([\n",
    "    StructField(\"CityID\", IntegerType(), nullable=False),\n",
    "    StructField(\"CityName\", StringType(), nullable=False),\n",
    "    StructField(\"Population\", IntegerType(), nullable=False),\n",
    "    StructField(\"Area\", DoubleType(), nullable=False),\n",
    "    StructField(\"CulturalSites\", IntegerType(), nullable=False)\n",
    "])\n",
    "\n",
    "french_cities = spark.read.format(\"csv\").load(frenchpath, schema=F_schema)"
   ]
  },
  {
   "cell_type": "code",
   "execution_count": 28,
   "id": "94b84741",
   "metadata": {},
   "outputs": [],
   "source": [
    "G_schema = StructType([\n",
    "    StructField(\"CityID\", IntegerType(), nullable=False),\n",
    "    StructField(\"CityName\", StringType(), nullable=False),\n",
    "    StructField(\"Population\", IntegerType(), nullable=False),\n",
    "    StructField(\"Area\", DoubleType(), nullable=False),\n",
    "    StructField(\"CulturalSites\", IntegerType(), nullable=False)\n",
    "])\n",
    "\n",
    "german_cities = spark.read.format(\"csv\").load(Germpath, schema=G_schema)"
   ]
  },
  {
   "cell_type": "code",
   "execution_count": 25,
   "id": "88aff586",
   "metadata": {},
   "outputs": [
    {
     "name": "stdout",
     "output_type": "stream",
     "text": [
      "+---------+-------+----------+\n",
      "| CityName|   Area|Population|\n",
      "+---------+-------+----------+\n",
      "| CityName|   null|      null|\n",
      "|    Paris|  250.0|   2250000|\n",
      "|Marseille|  240.6|    851000|\n",
      "|     Lyon|  47.87|    491000|\n",
      "| Toulouse|  118.3|    447000|\n",
      "|     Nice|   71.9|    344000|\n",
      "|   GCnYfE|4075.76|   1937534|\n",
      "|     gmTA|3160.19|    550832|\n",
      "|     tXCA|3468.78|   1190719|\n",
      "|    AtawC| 319.06|    942912|\n",
      "|     sjGV|1467.29|   4336033|\n",
      "|    aqLRH|1423.17|     55182|\n",
      "|   dzeZMc|1652.88|    903652|\n",
      "|   RWIKss|4238.86|   1029760|\n",
      "|    rqynV|3289.39|   1666656|\n",
      "|    jiEHg|3176.19|   4697399|\n",
      "|   wxOfMT|2726.65|   4307211|\n",
      "|   bBUVtO| 3098.1|   2872468|\n",
      "|    Qtzzi|3750.59|    174577|\n",
      "|   XoDQVr|2859.59|   4894737|\n",
      "+---------+-------+----------+\n",
      "only showing top 20 rows\n",
      "\n"
     ]
    }
   ],
   "source": [
    "\n",
    "french_city_sizes = french_cities.select(\"CityName\", \"Area\", \"Population\").show()"
   ]
  },
  {
   "cell_type": "code",
   "execution_count": 30,
   "id": "9e9d43af",
   "metadata": {},
   "outputs": [
    {
     "name": "stdout",
     "output_type": "stream",
     "text": [
      "+---------+-------+----------+\n",
      "| CityName|   Area|Population|\n",
      "+---------+-------+----------+\n",
      "| CityName|   null|      null|\n",
      "|   Berlin|  891.3|   3520000|\n",
      "|  Hamburg|  755.2|   1790000|\n",
      "|   Munich|  310.7|   1450000|\n",
      "|  Cologne| 405.15|   1060000|\n",
      "|Frankfurt|  500.0|    733000|\n",
      "|     tLTT|1684.85|   4612679|\n",
      "|     posU|4686.78|   3629196|\n",
      "|   Nwvngc| 361.22|   2356514|\n",
      "|     lznY|4321.89|   1316886|\n",
      "|     isVB|2166.49|   3141122|\n",
      "|    uDyYV|4990.76|   2318253|\n",
      "|     vxDu|1144.51|   1286493|\n",
      "|    gYbWQ|2191.29|    914876|\n",
      "|   jDlwYd| 3641.3|   3949795|\n",
      "|     raYl|4461.73|     33738|\n",
      "|   uJVunV| 519.79|    629804|\n",
      "|   qHIceI| 4914.2|   4200206|\n",
      "|   BzhvJZ|4395.65|   3218325|\n",
      "|    coBNe|2462.85|   2977006|\n",
      "+---------+-------+----------+\n",
      "only showing top 20 rows\n",
      "\n"
     ]
    }
   ],
   "source": [
    "germ_city_sizes = german_cities.select(\"CityName\", \"Area\", \"Population\").show()"
   ]
  },
  {
   "cell_type": "code",
   "execution_count": 11,
   "id": "4b5a052f",
   "metadata": {},
   "outputs": [
    {
     "name": "stdout",
     "output_type": "stream",
     "text": [
      "+-------+----------+------------------+------------------+------------------+\n",
      "|Country|Avg_CityID|    Avg_Population|          Avg_Area| Avg_CulturalSites|\n",
      "+-------+----------+------------------+------------------+------------------+\n",
      "| German|    1003.0|2471025.1905236905|2565.4415012468817| 4.436907730673317|\n",
      "| French|    1003.0|2474832.3685785537|2593.9251970074815|4.5042394014962595|\n",
      "+-------+----------+------------------+------------------+------------------+\n",
      "\n"
     ]
    }
   ],
   "source": [
    "#ALEX Q6\n",
    "from pyspark.sql.functions import avg\n",
    "german_avg = german_cities.select(\n",
    "    lit(\"German\").alias(\"Country\"),\n",
    "    avg(\"CityID\").alias(\"Avg_CityID\"),\n",
    "    avg(\"Population\").alias(\"Avg_Population\"),\n",
    "    avg(\"Area\").alias(\"Avg_Area\"),\n",
    "    avg(\"CulturalSites\").alias(\"Avg_CulturalSites\")\n",
    ")\n",
    "\n",
    "french_avg = french_cities.select(\n",
    "    lit(\"French\").alias(\"Country\"),\n",
    "    avg(\"CityID\").alias(\"Avg_CityID\"),\n",
    "    avg(\"Population\").alias(\"Avg_Population\"),\n",
    "    avg(\"Area\").alias(\"Avg_Area\"),\n",
    "    avg(\"CulturalSites\").alias(\"Avg_CulturalSites\")\n",
    ")\n",
    "\n",
    "# Combine the averages into a single dataframe\n",
    "combined_avg = german_avg.union(french_avg)\n",
    "\n",
    "# Show the combined averages\n",
    "combined_avg.show()"
   ]
  },
  {
   "cell_type": "code",
   "execution_count": null,
   "id": "2bc17c00",
   "metadata": {},
   "outputs": [],
   "source": []
  }
 ],
 "metadata": {
  "kernelspec": {
   "display_name": "Python 3 (ipykernel)",
   "language": "python",
   "name": "python3"
  },
  "language_info": {
   "codemirror_mode": {
    "name": "ipython",
    "version": 3
   },
   "file_extension": ".py",
   "mimetype": "text/x-python",
   "name": "python",
   "nbconvert_exporter": "python",
   "pygments_lexer": "ipython3",
   "version": "3.11.5"
  }
 },
 "nbformat": 4,
 "nbformat_minor": 5
}
